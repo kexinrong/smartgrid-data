{
 "metadata": {
  "name": "",
  "signature": "sha256:022d9cffe37ede513009f30bbddd84070acd2ce7dbe094fa7673af70a7e5e6e1"
 },
 "nbformat": 3,
 "nbformat_minor": 0,
 "worksheets": [
  {
   "cells": [
    {
     "cell_type": "code",
     "collapsed": false,
     "input": [
      "import pandas as pd\n",
      "import numpy as np\n",
      "import matplotlib.pyplot as plt\n",
      "import numpy.linalg as LA\n",
      "from sklearn.cluster import KMeans, MiniBatchKMeans\n"
     ],
     "language": "python",
     "metadata": {},
     "outputs": [],
     "prompt_number": 1
    },
    {
     "cell_type": "code",
     "collapsed": false,
     "input": [
      "fileName = \"/Users/piccolo/Dropbox/smartgrid-data/load/2012baseline_02.txt\""
     ],
     "language": "python",
     "metadata": {},
     "outputs": [],
     "prompt_number": 2
    },
    {
     "cell_type": "code",
     "collapsed": false,
     "input": [
      "with open(fileName, 'r') as dataFile:\n",
      "  firstLine = dataFile.readline()\n",
      "  vectorLength = int(firstLine)"
     ],
     "language": "python",
     "metadata": {},
     "outputs": [],
     "prompt_number": 3
    },
    {
     "cell_type": "code",
     "collapsed": false,
     "input": [
      "K = 10\n",
      "all = np.loadtxt(fileName, skiprows=1)"
     ],
     "language": "python",
     "metadata": {},
     "outputs": [],
     "prompt_number": 4
    },
    {
     "cell_type": "code",
     "collapsed": false,
     "input": [
      "timeNames = map(str, range(vectorLength))\n",
      "columnNames = ['id', 'hvac', 'pv', 'ev', 'pool'] + map(str, range(vectorLength))\n",
      "\n",
      "df = pd.DataFrame(all, columns=columnNames)\n"
     ],
     "language": "python",
     "metadata": {},
     "outputs": [],
     "prompt_number": 5
    },
    {
     "cell_type": "code",
     "collapsed": false,
     "input": [
      "df.head()"
     ],
     "language": "python",
     "metadata": {},
     "outputs": [
      {
       "html": [
        "<div style=\"max-height:1000px;max-width:1500px;overflow:auto;\">\n",
        "<table border=\"1\" class=\"dataframe\">\n",
        "  <thead>\n",
        "    <tr style=\"text-align: right;\">\n",
        "      <th></th>\n",
        "      <th>id</th>\n",
        "      <th>hvac</th>\n",
        "      <th>pv</th>\n",
        "      <th>ev</th>\n",
        "      <th>pool</th>\n",
        "      <th>0</th>\n",
        "      <th>1</th>\n",
        "      <th>2</th>\n",
        "      <th>3</th>\n",
        "      <th>4</th>\n",
        "      <th>...</th>\n",
        "      <th>14</th>\n",
        "      <th>15</th>\n",
        "      <th>16</th>\n",
        "      <th>17</th>\n",
        "      <th>18</th>\n",
        "      <th>19</th>\n",
        "      <th>20</th>\n",
        "      <th>21</th>\n",
        "      <th>22</th>\n",
        "      <th>23</th>\n",
        "    </tr>\n",
        "  </thead>\n",
        "  <tbody>\n",
        "    <tr>\n",
        "      <th>0</th>\n",
        "      <td> 525</td>\n",
        "      <td> 1</td>\n",
        "      <td> 0</td>\n",
        "      <td> 0</td>\n",
        "      <td> 0</td>\n",
        "      <td> 0.088189</td>\n",
        "      <td> 0.082485</td>\n",
        "      <td> 0.082485</td>\n",
        "      <td> 0.082925</td>\n",
        "      <td> 0.131869</td>\n",
        "      <td>...</td>\n",
        "      <td> 0.133170</td>\n",
        "      <td> 0.207179</td>\n",
        "      <td> 0.376293</td>\n",
        "      <td> 0.510326</td>\n",
        "      <td> 0.544572</td>\n",
        "      <td> 0.626801</td>\n",
        "      <td> 0.643634</td>\n",
        "      <td> 0.366433</td>\n",
        "      <td> 0.322796</td>\n",
        "      <td> 0.289379</td>\n",
        "    </tr>\n",
        "    <tr>\n",
        "      <th>1</th>\n",
        "      <td> 526</td>\n",
        "      <td> 1</td>\n",
        "      <td> 0</td>\n",
        "      <td> 0</td>\n",
        "      <td> 0</td>\n",
        "      <td> 0.522622</td>\n",
        "      <td> 0.221497</td>\n",
        "      <td> 0.194693</td>\n",
        "      <td> 0.159143</td>\n",
        "      <td> 0.136643</td>\n",
        "      <td>...</td>\n",
        "      <td> 0.201510</td>\n",
        "      <td> 0.202921</td>\n",
        "      <td> 0.214077</td>\n",
        "      <td> 0.231970</td>\n",
        "      <td> 0.449387</td>\n",
        "      <td> 0.749148</td>\n",
        "      <td> 0.828508</td>\n",
        "      <td> 0.827088</td>\n",
        "      <td> 0.842138</td>\n",
        "      <td> 0.581519</td>\n",
        "    </tr>\n",
        "    <tr>\n",
        "      <th>2</th>\n",
        "      <td> 527</td>\n",
        "      <td> 1</td>\n",
        "      <td> 0</td>\n",
        "      <td> 0</td>\n",
        "      <td> 0</td>\n",
        "      <td> 0.128884</td>\n",
        "      <td> 0.086529</td>\n",
        "      <td> 0.084085</td>\n",
        "      <td> 0.084085</td>\n",
        "      <td> 0.084878</td>\n",
        "      <td>...</td>\n",
        "      <td> 0.129605</td>\n",
        "      <td> 0.141512</td>\n",
        "      <td> 0.270757</td>\n",
        "      <td> 0.444976</td>\n",
        "      <td> 0.537146</td>\n",
        "      <td> 0.551219</td>\n",
        "      <td> 0.550828</td>\n",
        "      <td> 0.430063</td>\n",
        "      <td> 0.356722</td>\n",
        "      <td> 0.313633</td>\n",
        "    </tr>\n",
        "    <tr>\n",
        "      <th>3</th>\n",
        "      <td> 528</td>\n",
        "      <td> 0</td>\n",
        "      <td> 0</td>\n",
        "      <td> 0</td>\n",
        "      <td> 0</td>\n",
        "      <td> 0.325383</td>\n",
        "      <td> 0.176605</td>\n",
        "      <td> 0.143463</td>\n",
        "      <td> 0.087510</td>\n",
        "      <td> 0.083760</td>\n",
        "      <td>...</td>\n",
        "      <td> 0.133472</td>\n",
        "      <td> 0.129231</td>\n",
        "      <td> 0.150798</td>\n",
        "      <td> 0.201054</td>\n",
        "      <td> 0.357146</td>\n",
        "      <td> 0.539355</td>\n",
        "      <td> 0.628446</td>\n",
        "      <td> 0.618685</td>\n",
        "      <td> 0.553782</td>\n",
        "      <td> 0.420292</td>\n",
        "    </tr>\n",
        "    <tr>\n",
        "      <th>4</th>\n",
        "      <td> 529</td>\n",
        "      <td> 0</td>\n",
        "      <td> 0</td>\n",
        "      <td> 0</td>\n",
        "      <td> 0</td>\n",
        "      <td> 0.193034</td>\n",
        "      <td> 0.173808</td>\n",
        "      <td> 0.138595</td>\n",
        "      <td> 0.119845</td>\n",
        "      <td> 0.119933</td>\n",
        "      <td>...</td>\n",
        "      <td> 0.751014</td>\n",
        "      <td> 0.507687</td>\n",
        "      <td> 0.521461</td>\n",
        "      <td> 0.586341</td>\n",
        "      <td> 0.676305</td>\n",
        "      <td> 0.730724</td>\n",
        "      <td> 0.707708</td>\n",
        "      <td> 0.450551</td>\n",
        "      <td> 0.285904</td>\n",
        "      <td> 0.235611</td>\n",
        "    </tr>\n",
        "  </tbody>\n",
        "</table>\n",
        "<p>5 rows \u00d7 29 columns</p>\n",
        "</div>"
       ],
       "metadata": {},
       "output_type": "pyout",
       "prompt_number": 6,
       "text": [
        "    id  hvac  pv  ev  pool         0         1         2         3         4  \\\n",
        "0  525     1   0   0     0  0.088189  0.082485  0.082485  0.082925  0.131869   \n",
        "1  526     1   0   0     0  0.522622  0.221497  0.194693  0.159143  0.136643   \n",
        "2  527     1   0   0     0  0.128884  0.086529  0.084085  0.084085  0.084878   \n",
        "3  528     0   0   0     0  0.325383  0.176605  0.143463  0.087510  0.083760   \n",
        "4  529     0   0   0     0  0.193034  0.173808  0.138595  0.119845  0.119933   \n",
        "\n",
        "     ...           14        15        16        17        18        19  \\\n",
        "0    ...     0.133170  0.207179  0.376293  0.510326  0.544572  0.626801   \n",
        "1    ...     0.201510  0.202921  0.214077  0.231970  0.449387  0.749148   \n",
        "2    ...     0.129605  0.141512  0.270757  0.444976  0.537146  0.551219   \n",
        "3    ...     0.133472  0.129231  0.150798  0.201054  0.357146  0.539355   \n",
        "4    ...     0.751014  0.507687  0.521461  0.586341  0.676305  0.730724   \n",
        "\n",
        "         20        21        22        23  \n",
        "0  0.643634  0.366433  0.322796  0.289379  \n",
        "1  0.828508  0.827088  0.842138  0.581519  \n",
        "2  0.550828  0.430063  0.356722  0.313633  \n",
        "3  0.628446  0.618685  0.553782  0.420292  \n",
        "4  0.707708  0.450551  0.285904  0.235611  \n",
        "\n",
        "[5 rows x 29 columns]"
       ]
      }
     ],
     "prompt_number": 6
    },
    {
     "cell_type": "code",
     "collapsed": false,
     "input": [
      "def isViolation(df, label, centroid, theta):\n",
      "    centroid = np.array(centroid)\n",
      "    threshold = theta * LA.norm(centroid)\n",
      "    cluster = df[df['label'] == label]\n",
      "    for x in cluster.iterrows():\n",
      "        x = x[1]\n",
      "        x = x[timeNames]\n",
      "        x = np.array(x)\n",
      "        if LA.norm(x - centroid) > threshold:\n",
      "            return True\n",
      "    return False\n",
      "\n",
      "def findViolations(df, centroids, theta):\n",
      "    violations = []\n",
      "    for label in centroids['label']:\n",
      "        centroid = centroids[centroids['label'] == label][timeNames]\n",
      "        if isViolation(df, label, centroid, theta):\n",
      "            violations.append(label)\n",
      "    return violations\n",
      "\n",
      "def splitLabel(df, label, centroids):\n",
      "    km = KMeans(n_clusters=2, init='k-means++', max_iter=100, n_init=1)\n",
      "    cluster = df[df['label'] == label]\n",
      "    data = cluster[timeNames]\n",
      "    km.fit(data)\n",
      "    maxLabel = np.max(df['label'])\n",
      "    labelOffset = maxLabel + 1\n",
      "    newLabels = labelOffset + km.labels_\n",
      "    df.loc[df['label'] == label, 'label'] = newLabels\n",
      "    centroids = centroids[centroids['label'] != label]\n",
      "    # add new centroids\n",
      "    newCentroids = pd.DataFrame(km.cluster_centers_, columns=timeNames)\n",
      "    newCentroids['label'] = np.array([labelOffset, labelOffset + 1])\n",
      "    centroids = centroids.append(newCentroids)\n",
      "    return centroids\n",
      "\n"
     ],
     "language": "python",
     "metadata": {},
     "outputs": [],
     "prompt_number": 7
    },
    {
     "cell_type": "code",
     "collapsed": false,
     "input": [
      "doneWithClustering = False\n",
      "theta = .9\n",
      "centroids = None\n",
      "\n",
      "\"\"\"if centroids is None:\n",
      "    km = KMeans(n_clusters=K, init='k-means++', max_iter=100, n_init=1)\n",
      "else:\n",
      "    km = KMeans(n_clusters=K, init=centroids.get(timeNames), max_iter=100, n_init=1)\n",
      "\n",
      "data = df.get(timeNames)\n",
      "km.fit(data)\n",
      "df['label'] = km.labels_\n",
      "    \n",
      "centroids = pd.DataFrame(km.cluster_centers_, columns=timeNames)\n",
      "centroids['label'] = range(centroids.shape[0])\"\"\"\n",
      "while not doneWithClustering:\n",
      "    # use centroids from last iteration\n",
      "    if centroids is None:\n",
      "        km = KMeans(n_clusters=K, init='k-means++', max_iter=100, n_init=1)\n",
      "    else:\n",
      "        km = KMeans(n_clusters=K, init=centroids.get(timeNames), max_iter=100, n_init=1)\n",
      "    \n",
      "    data = df.get(timeNames)\n",
      "    km.fit(data)\n",
      "    df['label'] = km.labels_\n",
      "    \n",
      "    centroids = pd.DataFrame(km.cluster_centers_, columns=timeNames)\n",
      "    centroids['label'] = range(centroids.shape[0])\n",
      "\n",
      "    n_v = findViolations(df, centroids, theta)\n",
      "    print n_v\n",
      "    \n",
      "    if n_v == []:\n",
      "        doneWithClustering = True\n",
      "        \n",
      "    K += len(n_v)\n",
      "    for label in n_v:\n",
      "        centroids = splitLabel(df, label, centroids)\n",
      "    iter -= 1\n",
      "print K\n",
      "\n"
     ],
     "language": "python",
     "metadata": {},
     "outputs": [
      {
       "output_type": "stream",
       "stream": "stdout",
       "text": [
        "[0, 12, 18, 81, 86, 143, 151]\n",
        "[185, 186, 187, 188, 190, 191, 194, 196, 198]"
       ]
      },
      {
       "output_type": "stream",
       "stream": "stdout",
       "text": [
        "\n",
        "[185, 190, 192, 193, 194, 195, 196, 197, 201, 205]"
       ]
      },
      {
       "output_type": "stream",
       "stream": "stdout",
       "text": [
        "\n",
        "[199, 200, 201, 202, 205, 206, 208, 213, 214, 217]"
       ]
      },
      {
       "output_type": "stream",
       "stream": "stdout",
       "text": [
        "\n",
        "[210, 223]"
       ]
      },
      {
       "output_type": "stream",
       "stream": "stdout",
       "text": [
        "\n",
        "[224, 227, 228]"
       ]
      },
      {
       "output_type": "stream",
       "stream": "stdout",
       "text": [
        "\n",
        "[228, 232]"
       ]
      },
      {
       "output_type": "stream",
       "stream": "stdout",
       "text": [
        "\n",
        "[231, 233]"
       ]
      },
      {
       "output_type": "stream",
       "stream": "stdout",
       "text": [
        "\n",
        "[233]"
       ]
      },
      {
       "output_type": "stream",
       "stream": "stdout",
       "text": [
        "\n",
        "[236]"
       ]
      },
      {
       "output_type": "stream",
       "stream": "stdout",
       "text": [
        "\n",
        "[]"
       ]
      },
      {
       "output_type": "stream",
       "stream": "stdout",
       "text": [
        "\n",
        "239\n"
       ]
      }
     ],
     "prompt_number": 11
    },
    {
     "cell_type": "code",
     "collapsed": false,
     "input": [
      "sizes = []\n",
      "labelsWithHvac = []\n",
      "hvacDistribution = []\n",
      "labelsWithPv = []\n",
      "pvDistribution = []\n",
      "labelsWithEv = []\n",
      "evDistribution = []\n",
      "labelsWithPool = []\n",
      "poolDistribution = []\n",
      "maxLabel = np.max(df['label'])\n",
      "for i in range(maxLabel):\n",
      "    cluster = df[df['label'] == i]\n",
      "    sizes.append(cluster.shape[0])\n",
      "    if np.sum(cluster['hvac']) > 0:\n",
      "        hvacDistribution.append(np.sum(cluster['hvac']))\n",
      "        labelsWithHvac.append(i)\n",
      "    if np.sum(cluster['pv']) > 0:\n",
      "        pvDistribution.append(np.sum(cluster['pv']))\n",
      "        labelsWithPv.append(i)\n",
      "    if np.sum(cluster['ev']) > 0:\n",
      "        evDistribution.append(np.sum(cluster['ev']))\n",
      "        labelsWithEv.append(i)\n",
      "    if np.sum(cluster['pool']) > 0:\n",
      "        poolDistribution.append(np.sum(cluster['pool']))\n",
      "        labelsWithPool.append(i)\n"
     ],
     "language": "python",
     "metadata": {},
     "outputs": [],
     "prompt_number": 10
    },
    {
     "cell_type": "code",
     "collapsed": false,
     "input": [
      "labels = range(maxLabel)\n",
      "plt.scatter(labels, sizes)\n",
      "# plt.scatter(labelsWithHvac, hvacDistribution, s = 100, c = 'orange', alpha = .5)\n",
      "# plt.scatter(labelsWithPv, pvDistribution, s = 100, c = 'r', alpha = .5)\n",
      "# plt.scatter(labelsWithEv, evDistribution, s = 100, c = 'g', alpha = .5)\n",
      "plt.scatter(labelsWithPool, poolDistribution, s = 100, c = 'y', alpha = .5)\n",
      "plt.ylim([-1, 500])\n",
      "\n",
      "fig = plt.gcf()\n",
      "fig.set_size_inches(10, 10)"
     ],
     "language": "python",
     "metadata": {},
     "outputs": [
      {
       "metadata": {},
       "output_type": "display_data",
       "png": "[encoded data removed]",
       "text": [
        "<matplotlib.figure.Figure at 0x10956a850>"
       ]
      }
     ],
     "prompt_number": 11
    },
    {
     "cell_type": "code",
     "collapsed": false,
     "input": [
      "def plotCluster(label):\n",
      "    cluster = df[df['label'] == label][timeNames]\n",
      "    for row in cluster.iterrows():\n",
      "        plt.scatter(range(24), row[1])\n",
      "\n",
      "plotCluster(33)"
     ],
     "language": "python",
     "metadata": {},
     "outputs": [
      {
       "metadata": {},
       "output_type": "display_data",
       "png": "[encoded data removed]",
       "text": [
        "<matplotlib.figure.Figure at 0x109ab5a10>"
       ]
      }
     ],
     "prompt_number": 14
    },
    {
     "cell_type": "code",
     "collapsed": false,
     "input": [],
     "language": "python",
     "metadata": {},
     "outputs": []
    }
   ],
   "metadata": {}
  }
 ]
}