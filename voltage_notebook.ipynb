{
 "metadata": {
  "name": "",
  "signature": "sha256:95ead7f2bebba537d8ebd6321830802cf8dc7ba282a47c795ddc207320fd1295"
 },
 "nbformat": 3,
 "nbformat_minor": 0,
 "worksheets": [
  {
   "cells": [
    {
     "cell_type": "code",
     "collapsed": false,
     "input": [
      "import pandas as pd\n",
      "import numpy as np\n",
      "import math\n",
      "import matplotlib.pyplot as plt\n",
      "import numpy.linalg as LA\n",
      "from sklearn.cluster import KMeans, MiniBatchKMeans\n",
      "\n",
      "fileName = \"data/voltage/2012baseline.txt\"\n",
      "\n",
      "\n",
      "with open(fileName, 'r') as dataFile:\n",
      "  firstLine = dataFile.readline()\n",
      "  vectorLength = int(firstLine)\n",
      "minK = 10\n",
      "all = np.loadtxt(fileName, skiprows=1)"
     ],
     "language": "python",
     "metadata": {},
     "outputs": [],
     "prompt_number": 2
    },
    {
     "cell_type": "code",
     "collapsed": false,
     "input": [
      "# VOLTAGE: Normalize by substracting one\n",
      "for i in range(len(all)):\n",
      "    for j in range(vectorLength):\n",
      "        all[i][j + 5] -= 1"
     ],
     "language": "python",
     "metadata": {},
     "outputs": [],
     "prompt_number": 3
    },
    {
     "cell_type": "code",
     "collapsed": false,
     "input": [
      "timeNames = map(str, range(vectorLength))\n",
      "columnNames = ['id', 'hvac', 'pv', 'ev', 'pool'] + map(str, range(vectorLength))\n",
      "\n",
      "df = pd.DataFrame(all, columns=columnNames)"
     ],
     "language": "python",
     "metadata": {},
     "outputs": [],
     "prompt_number": 4
    },
    {
     "cell_type": "code",
     "collapsed": false,
     "input": [
      "df.head()"
     ],
     "language": "python",
     "metadata": {},
     "outputs": [
      {
       "html": [
        "<div style=\"max-height:1000px;max-width:1500px;overflow:auto;\">\n",
        "<table border=\"1\" class=\"dataframe\">\n",
        "  <thead>\n",
        "    <tr style=\"text-align: right;\">\n",
        "      <th></th>\n",
        "      <th>id</th>\n",
        "      <th>hvac</th>\n",
        "      <th>pv</th>\n",
        "      <th>ev</th>\n",
        "      <th>pool</th>\n",
        "      <th>0</th>\n",
        "      <th>1</th>\n",
        "      <th>2</th>\n",
        "      <th>3</th>\n",
        "      <th>4</th>\n",
        "      <th>...</th>\n",
        "      <th>14</th>\n",
        "      <th>15</th>\n",
        "      <th>16</th>\n",
        "      <th>17</th>\n",
        "      <th>18</th>\n",
        "      <th>19</th>\n",
        "      <th>20</th>\n",
        "      <th>21</th>\n",
        "      <th>22</th>\n",
        "      <th>23</th>\n",
        "    </tr>\n",
        "  </thead>\n",
        "  <tbody>\n",
        "    <tr>\n",
        "      <th>0</th>\n",
        "      <td> 525</td>\n",
        "      <td> 1</td>\n",
        "      <td> 0</td>\n",
        "      <td> 0</td>\n",
        "      <td> 0</td>\n",
        "      <td> 0.037453</td>\n",
        "      <td> 0.037476</td>\n",
        "      <td> 0.037442</td>\n",
        "      <td> 0.037427</td>\n",
        "      <td> 0.037271</td>\n",
        "      <td>...</td>\n",
        "      <td> 0.034705</td>\n",
        "      <td> 0.034894</td>\n",
        "      <td> 0.034142</td>\n",
        "      <td> 0.034595</td>\n",
        "      <td> 0.035012</td>\n",
        "      <td> 0.035581</td>\n",
        "      <td> 0.035797</td>\n",
        "      <td> 0.036196</td>\n",
        "      <td> 0.036532</td>\n",
        "      <td> 0.037111</td>\n",
        "    </tr>\n",
        "    <tr>\n",
        "      <th>1</th>\n",
        "      <td> 526</td>\n",
        "      <td> 1</td>\n",
        "      <td> 0</td>\n",
        "      <td> 0</td>\n",
        "      <td> 0</td>\n",
        "      <td> 0.034731</td>\n",
        "      <td> 0.035109</td>\n",
        "      <td> 0.035199</td>\n",
        "      <td> 0.035401</td>\n",
        "      <td> 0.035401</td>\n",
        "      <td>...</td>\n",
        "      <td> 0.030991</td>\n",
        "      <td> 0.030650</td>\n",
        "      <td> 0.026409</td>\n",
        "      <td> 0.024738</td>\n",
        "      <td> 0.028631</td>\n",
        "      <td> 0.031785</td>\n",
        "      <td> 0.032205</td>\n",
        "      <td> 0.032058</td>\n",
        "      <td> 0.032775</td>\n",
        "      <td> 0.034077</td>\n",
        "    </tr>\n",
        "    <tr>\n",
        "      <th>2</th>\n",
        "      <td> 527</td>\n",
        "      <td> 1</td>\n",
        "      <td> 0</td>\n",
        "      <td> 0</td>\n",
        "      <td> 0</td>\n",
        "      <td> 0.037531</td>\n",
        "      <td> 0.037581</td>\n",
        "      <td> 0.037542</td>\n",
        "      <td> 0.037527</td>\n",
        "      <td> 0.037415</td>\n",
        "      <td>...</td>\n",
        "      <td> 0.033461</td>\n",
        "      <td> 0.033694</td>\n",
        "      <td> 0.033419</td>\n",
        "      <td> 0.034118</td>\n",
        "      <td> 0.035231</td>\n",
        "      <td> 0.035795</td>\n",
        "      <td> 0.035876</td>\n",
        "      <td> 0.036282</td>\n",
        "      <td> 0.036646</td>\n",
        "      <td> 0.037228</td>\n",
        "    </tr>\n",
        "    <tr>\n",
        "      <th>3</th>\n",
        "      <td> 528</td>\n",
        "      <td> 0</td>\n",
        "      <td> 0</td>\n",
        "      <td> 0</td>\n",
        "      <td> 0</td>\n",
        "      <td> 0.034533</td>\n",
        "      <td> 0.034597</td>\n",
        "      <td> 0.034710</td>\n",
        "      <td> 0.034935</td>\n",
        "      <td> 0.034918</td>\n",
        "      <td>...</td>\n",
        "      <td> 0.031072</td>\n",
        "      <td> 0.030615</td>\n",
        "      <td> 0.028947</td>\n",
        "      <td> 0.029920</td>\n",
        "      <td> 0.030840</td>\n",
        "      <td> 0.031797</td>\n",
        "      <td> 0.032147</td>\n",
        "      <td> 0.032077</td>\n",
        "      <td> 0.032911</td>\n",
        "      <td> 0.033990</td>\n",
        "    </tr>\n",
        "    <tr>\n",
        "      <th>4</th>\n",
        "      <td> 529</td>\n",
        "      <td> 0</td>\n",
        "      <td> 0</td>\n",
        "      <td> 0</td>\n",
        "      <td> 0</td>\n",
        "      <td> 0.034530</td>\n",
        "      <td> 0.034827</td>\n",
        "      <td> 0.034940</td>\n",
        "      <td> 0.035125</td>\n",
        "      <td> 0.035108</td>\n",
        "      <td>...</td>\n",
        "      <td> 0.031541</td>\n",
        "      <td> 0.031213</td>\n",
        "      <td> 0.029601</td>\n",
        "      <td> 0.030463</td>\n",
        "      <td> 0.031309</td>\n",
        "      <td> 0.032118</td>\n",
        "      <td> 0.032382</td>\n",
        "      <td> 0.032375</td>\n",
        "      <td> 0.033004</td>\n",
        "      <td> 0.034343</td>\n",
        "    </tr>\n",
        "  </tbody>\n",
        "</table>\n",
        "<p>5 rows \u00d7 29 columns</p>\n",
        "</div>"
       ],
       "metadata": {},
       "output_type": "pyout",
       "prompt_number": 5,
       "text": [
        "    id  hvac  pv  ev  pool         0         1         2         3         4  \\\n",
        "0  525     1   0   0     0  0.037453  0.037476  0.037442  0.037427  0.037271   \n",
        "1  526     1   0   0     0  0.034731  0.035109  0.035199  0.035401  0.035401   \n",
        "2  527     1   0   0     0  0.037531  0.037581  0.037542  0.037527  0.037415   \n",
        "3  528     0   0   0     0  0.034533  0.034597  0.034710  0.034935  0.034918   \n",
        "4  529     0   0   0     0  0.034530  0.034827  0.034940  0.035125  0.035108   \n",
        "\n",
        "     ...           14        15        16        17        18        19  \\\n",
        "0    ...     0.034705  0.034894  0.034142  0.034595  0.035012  0.035581   \n",
        "1    ...     0.030991  0.030650  0.026409  0.024738  0.028631  0.031785   \n",
        "2    ...     0.033461  0.033694  0.033419  0.034118  0.035231  0.035795   \n",
        "3    ...     0.031072  0.030615  0.028947  0.029920  0.030840  0.031797   \n",
        "4    ...     0.031541  0.031213  0.029601  0.030463  0.031309  0.032118   \n",
        "\n",
        "         20        21        22        23  \n",
        "0  0.035797  0.036196  0.036532  0.037111  \n",
        "1  0.032205  0.032058  0.032775  0.034077  \n",
        "2  0.035876  0.036282  0.036646  0.037228  \n",
        "3  0.032147  0.032077  0.032911  0.033990  \n",
        "4  0.032382  0.032375  0.033004  0.034343  \n",
        "\n",
        "[5 rows x 29 columns]"
       ]
      }
     ],
     "prompt_number": 5
    },
    {
     "cell_type": "code",
     "collapsed": false,
     "input": [
      "def isViolation(df, label, centroid, theta):\n",
      "    centroid = np.array(centroid)\n",
      "    threshold = theta * LA.norm(centroid)\n",
      "    cluster = df[df['label'] == label]\n",
      "    for x in cluster.iterrows():\n",
      "        x = x[1]\n",
      "        x = x[timeNames]\n",
      "        x = np.array(x)\n",
      "        if LA.norm(x - centroid) > threshold:\n",
      "            return True\n",
      "    return False\n",
      "\n",
      "def findViolations(df, centroids, theta):\n",
      "    violations = []\n",
      "    for label in centroids['label']:\n",
      "        centroid = centroids[centroids['label'] == label][timeNames]\n",
      "        if isViolation(df, label, centroid, theta):\n",
      "            violations.append(label)\n",
      "    return violations\n",
      "\n",
      "def splitLabel(df, label, centroids):\n",
      "    km = KMeans(n_clusters=2, init='k-means++', max_iter=100, n_init=1)\n",
      "    cluster = df[df['label'] == label]\n",
      "    data = cluster[timeNames]\n",
      "    km.fit(data)\n",
      "    maxLabel = np.max(df['label'])\n",
      "    labelOffset = maxLabel + 1\n",
      "    newLabels = labelOffset + km.labels_\n",
      "    df.loc[df['label'] == label, 'label'] = newLabels\n",
      "    centroids = centroids[centroids['label'] != label]\n",
      "    # add new centroids\n",
      "    newCentroids = pd.DataFrame(km.cluster_centers_, columns=timeNames)\n",
      "    newCentroids['label'] = np.array([labelOffset, labelOffset + 1])\n",
      "    centroids = centroids.append(newCentroids)\n",
      "    return centroids"
     ],
     "language": "python",
     "metadata": {},
     "outputs": [],
     "prompt_number": 9
    },
    {
     "cell_type": "code",
     "collapsed": false,
     "input": [
      "#thetas = .01 * np.array(range(2, 9))\n",
      "#Ks = []\n",
      "\n",
      "#for theta in thetas:\n",
      "#    print theta\n",
      "\n",
      "doneWithClustering = False\n",
      "centroids = None\n",
      "K = minK\n",
      "theta = 0.05\n",
      "while not doneWithClustering:\n",
      "    # use centroids from last iteration\n",
      "    if centroids is None:\n",
      "        km = KMeans(n_clusters=K, init='k-means++', max_iter=100, n_init=1)\n",
      "    else:\n",
      "        km = KMeans(n_clusters=K, init=centroids.get(timeNames), max_iter=100, n_init=1)\n",
      "\n",
      "    data = df.get(timeNames)\n",
      "    km.fit(data)\n",
      "    df['label'] = km.labels_\n",
      "\n",
      "    centroids = pd.DataFrame(km.cluster_centers_, columns=timeNames)\n",
      "    centroids['label'] = range(centroids.shape[0])\n",
      "\n",
      "    n_v = findViolations(df, centroids, theta)\n",
      "    print n_v\n",
      "\n",
      "    if n_v == []:\n",
      "        doneWithClustering = True\n",
      "\n",
      "    K += len(n_v)\n",
      "    for label in n_v:\n",
      "        centroids = splitLabel(df, label, centroids)\n",
      "\n",
      "    #Ks.append(K)"
     ],
     "language": "python",
     "metadata": {},
     "outputs": [
      {
       "output_type": "stream",
       "stream": "stdout",
       "text": [
        "[0, 1, 2, 3, 4, 5, 6, 7, 8, 9]\n",
        "[0, 1, 2, 3, 4, 5, 7, 8, 9, 10, 11, 12, 13, 14, 15, 16, 17, 18, 19]"
       ]
      },
      {
       "output_type": "stream",
       "stream": "stdout",
       "text": [
        "\n",
        "[1, 2, 3, 4, 6, 7, 8, 9, 10, 11, 12, 13, 15, 16, 17, 18, 19, 20, 22, 23, 24, 25, 27, 28, 29, 30, 31, 32, 33, 34, 35, 36, 37, 38]"
       ]
      },
      {
       "output_type": "stream",
       "stream": "stdout",
       "text": [
        "\n",
        "[5, 8, 9, 12, 17, 18, 19, 20, 21, 22, 23, 24, 25, 26, 27, 30, 31, 32, 33, 34, 35, 37, 38, 39, 41, 42, 44, 45, 47, 49, 50, 51, 52, 53, 54, 55, 56, 57, 58, 59, 60, 61, 62, 63, 64, 65, 66, 67, 68, 69, 70, 71, 72]"
       ]
      },
      {
       "output_type": "stream",
       "stream": "stdout",
       "text": [
        "\n",
        "[20, 23, 24, 25, 31, 32, 33, 36, 38, 39, 40, 46, 47, 51, 57, 58, 61, 67, 68, 69, 72, 73, 74, 78, 80, 82, 83, 85, 88, 90, 91, 92, 94, 97, 98, 99, 100, 101, 102, 103, 104, 105, 108, 109, 110, 112, 113, 114, 115, 118, 119, 120, 121, 122, 123, 124, 125]"
       ]
      },
      {
       "output_type": "stream",
       "stream": "stdout",
       "text": [
        "\n",
        "[21, 73, 78, 80, 82, 83, 86, 88, 89, 90, 92, 97, 98, 108, 109, 111, 113, 114, 115, 116, 117, 121, 125, 126, 127, 130, 134, 146, 150, 156, 160, 161, 163, 173, 181]"
       ]
      },
      {
       "output_type": "stream",
       "stream": "stdout",
       "text": [
        "\n",
        "[48, 98, 154, 158, 170, 174, 182, 187, 203, 211]"
       ]
      },
      {
       "output_type": "stream",
       "stream": "stdout",
       "text": [
        "\n",
        "[217, 218, 220, 223]"
       ]
      },
      {
       "output_type": "stream",
       "stream": "stdout",
       "text": [
        "\n",
        "[225, 227, 229]"
       ]
      },
      {
       "output_type": "stream",
       "stream": "stdout",
       "text": [
        "\n",
        "[229]"
       ]
      },
      {
       "output_type": "stream",
       "stream": "stdout",
       "text": [
        "\n",
        "[234]"
       ]
      },
      {
       "output_type": "stream",
       "stream": "stdout",
       "text": [
        "\n",
        "[236]"
       ]
      },
      {
       "output_type": "stream",
       "stream": "stdout",
       "text": [
        "\n",
        "[237]"
       ]
      },
      {
       "output_type": "stream",
       "stream": "stdout",
       "text": [
        "\n",
        "[238]"
       ]
      },
      {
       "output_type": "stream",
       "stream": "stdout",
       "text": [
        "\n",
        "[]"
       ]
      },
      {
       "output_type": "stream",
       "stream": "stdout",
       "text": [
        "\n"
       ]
      }
     ],
     "prompt_number": 10
    },
    {
     "cell_type": "code",
     "collapsed": false,
     "input": [
      "# Theta vs K plot\n",
      "#plt.plot(thetas, Ks, 'o-',  markerfacecolor='None', markeredgewidth=1, color='black')\n",
      "plt.title(\"Threshold and # of clusters\")\n",
      "plt.xlabel(\"Threshold, ${\\Theta}$\")\n",
      "plt.grid()\n",
      "plt.show()"
     ],
     "language": "python",
     "metadata": {},
     "outputs": [],
     "prompt_number": 14
    },
    {
     "cell_type": "code",
     "collapsed": false,
     "input": [
      "centroids.head()"
     ],
     "language": "python",
     "metadata": {},
     "outputs": [
      {
       "html": [
        "<div style=\"max-height:1000px;max-width:1500px;overflow:auto;\">\n",
        "<table border=\"1\" class=\"dataframe\">\n",
        "  <thead>\n",
        "    <tr style=\"text-align: right;\">\n",
        "      <th></th>\n",
        "      <th>0</th>\n",
        "      <th>1</th>\n",
        "      <th>2</th>\n",
        "      <th>3</th>\n",
        "      <th>4</th>\n",
        "      <th>5</th>\n",
        "      <th>6</th>\n",
        "      <th>7</th>\n",
        "      <th>8</th>\n",
        "      <th>9</th>\n",
        "      <th>...</th>\n",
        "      <th>15</th>\n",
        "      <th>16</th>\n",
        "      <th>17</th>\n",
        "      <th>18</th>\n",
        "      <th>19</th>\n",
        "      <th>20</th>\n",
        "      <th>21</th>\n",
        "      <th>22</th>\n",
        "      <th>23</th>\n",
        "      <th>label</th>\n",
        "    </tr>\n",
        "  </thead>\n",
        "  <tbody>\n",
        "    <tr>\n",
        "      <th>0</th>\n",
        "      <td> 0.038476</td>\n",
        "      <td> 0.038596</td>\n",
        "      <td> 0.038647</td>\n",
        "      <td> 0.038696</td>\n",
        "      <td> 0.038701</td>\n",
        "      <td> 0.038589</td>\n",
        "      <td> 0.038424</td>\n",
        "      <td> 0.038215</td>\n",
        "      <td> 0.037996</td>\n",
        "      <td> 0.037846</td>\n",
        "      <td>...</td>\n",
        "      <td> 0.037645</td>\n",
        "      <td> 0.037640</td>\n",
        "      <td> 0.037650</td>\n",
        "      <td> 0.037546</td>\n",
        "      <td> 0.037518</td>\n",
        "      <td> 0.037668</td>\n",
        "      <td> 0.037739</td>\n",
        "      <td> 0.037958</td>\n",
        "      <td> 0.038246</td>\n",
        "      <td> 0</td>\n",
        "    </tr>\n",
        "    <tr>\n",
        "      <th>1</th>\n",
        "      <td> 0.031572</td>\n",
        "      <td> 0.033025</td>\n",
        "      <td> 0.033723</td>\n",
        "      <td> 0.034023</td>\n",
        "      <td> 0.034009</td>\n",
        "      <td> 0.033601</td>\n",
        "      <td> 0.032663</td>\n",
        "      <td> 0.031077</td>\n",
        "      <td> 0.030118</td>\n",
        "      <td> 0.029513</td>\n",
        "      <td>...</td>\n",
        "      <td> 0.029454</td>\n",
        "      <td> 0.028881</td>\n",
        "      <td> 0.027563</td>\n",
        "      <td> 0.025266</td>\n",
        "      <td> 0.024092</td>\n",
        "      <td> 0.024152</td>\n",
        "      <td> 0.025304</td>\n",
        "      <td> 0.027400</td>\n",
        "      <td> 0.029628</td>\n",
        "      <td> 1</td>\n",
        "    </tr>\n",
        "    <tr>\n",
        "      <th>2</th>\n",
        "      <td> 0.038242</td>\n",
        "      <td> 0.038389</td>\n",
        "      <td> 0.038455</td>\n",
        "      <td> 0.038513</td>\n",
        "      <td> 0.038505</td>\n",
        "      <td> 0.038363</td>\n",
        "      <td> 0.038126</td>\n",
        "      <td> 0.037834</td>\n",
        "      <td> 0.037539</td>\n",
        "      <td> 0.037344</td>\n",
        "      <td>...</td>\n",
        "      <td> 0.037077</td>\n",
        "      <td> 0.037049</td>\n",
        "      <td> 0.037020</td>\n",
        "      <td> 0.036869</td>\n",
        "      <td> 0.036847</td>\n",
        "      <td> 0.037041</td>\n",
        "      <td> 0.037182</td>\n",
        "      <td> 0.037525</td>\n",
        "      <td> 0.037944</td>\n",
        "      <td> 2</td>\n",
        "    </tr>\n",
        "    <tr>\n",
        "      <th>3</th>\n",
        "      <td> 0.034464</td>\n",
        "      <td> 0.035078</td>\n",
        "      <td> 0.035368</td>\n",
        "      <td> 0.035589</td>\n",
        "      <td> 0.035582</td>\n",
        "      <td> 0.035440</td>\n",
        "      <td> 0.034969</td>\n",
        "      <td> 0.033984</td>\n",
        "      <td> 0.033129</td>\n",
        "      <td> 0.032504</td>\n",
        "      <td>...</td>\n",
        "      <td> 0.031604</td>\n",
        "      <td> 0.031436</td>\n",
        "      <td> 0.031173</td>\n",
        "      <td> 0.030382</td>\n",
        "      <td> 0.029835</td>\n",
        "      <td> 0.030053</td>\n",
        "      <td> 0.030867</td>\n",
        "      <td> 0.032183</td>\n",
        "      <td> 0.033626</td>\n",
        "      <td> 3</td>\n",
        "    </tr>\n",
        "    <tr>\n",
        "      <th>4</th>\n",
        "      <td> 0.032985</td>\n",
        "      <td> 0.033912</td>\n",
        "      <td> 0.034382</td>\n",
        "      <td> 0.034616</td>\n",
        "      <td> 0.034580</td>\n",
        "      <td> 0.034271</td>\n",
        "      <td> 0.033633</td>\n",
        "      <td> 0.032529</td>\n",
        "      <td> 0.031816</td>\n",
        "      <td> 0.031390</td>\n",
        "      <td>...</td>\n",
        "      <td> 0.031254</td>\n",
        "      <td> 0.030863</td>\n",
        "      <td> 0.030063</td>\n",
        "      <td> 0.028542</td>\n",
        "      <td> 0.027745</td>\n",
        "      <td> 0.027787</td>\n",
        "      <td> 0.028556</td>\n",
        "      <td> 0.030019</td>\n",
        "      <td> 0.031634</td>\n",
        "      <td> 4</td>\n",
        "    </tr>\n",
        "  </tbody>\n",
        "</table>\n",
        "<p>5 rows \u00d7 25 columns</p>\n",
        "</div>"
       ],
       "metadata": {},
       "output_type": "pyout",
       "prompt_number": 11,
       "text": [
        "          0         1         2         3         4         5         6  \\\n",
        "0  0.038476  0.038596  0.038647  0.038696  0.038701  0.038589  0.038424   \n",
        "1  0.031572  0.033025  0.033723  0.034023  0.034009  0.033601  0.032663   \n",
        "2  0.038242  0.038389  0.038455  0.038513  0.038505  0.038363  0.038126   \n",
        "3  0.034464  0.035078  0.035368  0.035589  0.035582  0.035440  0.034969   \n",
        "4  0.032985  0.033912  0.034382  0.034616  0.034580  0.034271  0.033633   \n",
        "\n",
        "          7         8         9    ...           15        16        17  \\\n",
        "0  0.038215  0.037996  0.037846    ...     0.037645  0.037640  0.037650   \n",
        "1  0.031077  0.030118  0.029513    ...     0.029454  0.028881  0.027563   \n",
        "2  0.037834  0.037539  0.037344    ...     0.037077  0.037049  0.037020   \n",
        "3  0.033984  0.033129  0.032504    ...     0.031604  0.031436  0.031173   \n",
        "4  0.032529  0.031816  0.031390    ...     0.031254  0.030863  0.030063   \n",
        "\n",
        "         18        19        20        21        22        23  label  \n",
        "0  0.037546  0.037518  0.037668  0.037739  0.037958  0.038246      0  \n",
        "1  0.025266  0.024092  0.024152  0.025304  0.027400  0.029628      1  \n",
        "2  0.036869  0.036847  0.037041  0.037182  0.037525  0.037944      2  \n",
        "3  0.030382  0.029835  0.030053  0.030867  0.032183  0.033626      3  \n",
        "4  0.028542  0.027745  0.027787  0.028556  0.030019  0.031634      4  \n",
        "\n",
        "[5 rows x 25 columns]"
       ]
      }
     ],
     "prompt_number": 11
    },
    {
     "cell_type": "code",
     "collapsed": false,
     "input": [
      "# Calculate size for each centroid\n",
      "def get_size(df, label):\n",
      "    return len(df[df['label'] == label])\n",
      "\n",
      "maxLabel = len(centroids)\n",
      "sizes = []\n",
      "for i in range(maxLabel):\n",
      "    sizes.append(get_size(df, i))\n",
      "centroids['size'] = sizes\n",
      "\n",
      "print sizes"
     ],
     "language": "python",
     "metadata": {},
     "outputs": [
      {
       "output_type": "stream",
       "stream": "stdout",
       "text": [
        "[1315, 744, 2078, 700, 640, 3123, 819, 846, 1119, 355, 315, 668, 399, 503, 93, 184, 425, 204, 368, 279, 1008, 566, 1055, 443, 159, 287, 5, 13, 21, 56, 60, 78, 68, 38, 2417, 1047, 107, 112, 244, 106, 86, 146, 112, 67, 263, 227, 58, 290, 356, 401, 190, 424, 546, 69, 35, 249, 102, 69, 98, 71, 10, 12, 12, 24, 46, 83, 66, 1222, 942, 1130, 25, 657, 1020, 1437, 5, 25, 12, 20, 9, 49, 40, 46, 2, 37, 137, 70, 181, 175, 49, 179, 286, 170, 199, 263, 58, 33, 20, 39, 37, 107, 37, 39, 224, 16, 82, 4, 24, 8, 14, 38, 28, 26, 4, 28, 18, 18, 46, 8, 9, 5, 8, 8, 2, 16, 4, 37, 8, 37, 47, 43, 35, 62, 40, 11, 28, 38, 11, 5, 15, 40, 16, 18, 50, 16, 17, 12, 587, 42, 472, 661, 1, 4, 5, 9, 3, 8, 14, 28, 23, 15, 27, 60, 18, 12, 10, 16, 126, 7, 73, 6, 38, 49, 26, 40, 104, 140, 98, 25, 14, 33, 44, 3, 11, 25, 18, 78, 16, 28, 37, 47, 35, 50, 16, 2, 16, 16, 10, 8, 6, 20, 48, 1, 6, 5, 7, 9, 22, 2, 329, 210, 63, 49, 10, 6, 27, 3, 162, 9, 27, 40, 54, 2, 17, 4, 70, 3, 46, 41, 1, 72, 6, 1, 1, 6, 130, 86, 58, 158, 38, 1]\n"
       ]
      }
     ],
     "prompt_number": 12
    },
    {
     "cell_type": "code",
     "collapsed": false,
     "input": [
      "# Plot specific cluster\n",
      "def plot_cluster(label):\n",
      "    cluster = df[df['label'] == label]\n",
      "    for j in range(len(cluster)):\n",
      "        shape = []\n",
      "        for i in range(24):\n",
      "            shape.append(float(cluster.iloc[j:j+1, :][str(i)]))\n",
      "        plt.plot(shape, color='black')\n",
      "    centroid = []\n",
      "    for i in range(24):\n",
      "        centroid.append(float(centroids[centroids['label'] == label][str(i)]))\n",
      "    plt.plot(centroid, 'o', markerfacecolor='None', \n",
      "                markeredgewidth=2, markeredgecolor='red')\n",
      "    plt.xlabel('Hour')\n",
      "    plt.ylabel('Normal Usage')\n",
      "    plt.title('#' + str(label))\n",
      "    plt.show()\n",
      "\n",
      "# plot largest cluster\n",
      "#plot_cluster(int(centroids[centroids['size'] == max(sizes)]['label']))\n",
      "# plot a smaller cluster\n",
      "#plot_cluster(int(centroids[centroids['size'] == 595].iloc[0:1]['label']))"
     ],
     "language": "python",
     "metadata": {},
     "outputs": [],
     "prompt_number": 34
    },
    {
     "cell_type": "code",
     "collapsed": false,
     "input": [
      "# Hierarchical clustering starting here\n",
      "def closestLabels(centroids):\n",
      "    closestLabels = None\n",
      "    shortestDistance = None\n",
      "    for i in range(len(centroids)):\n",
      "        c_i = np.array(centroids.iloc[i : i + 1, : -2])\n",
      "        for j in range(len(centroids)):\n",
      "            if i == j:\n",
      "                continue\n",
      "            c_j = np.array(centroids.iloc[j : j + 1, : -2])\n",
      "            d_ij = LA.norm(c_i - c_j)\n",
      "            if shortestDistance == None or d_ij < shortestDistance:\n",
      "                shortestDistance = d_ij\n",
      "                l_i = int(centroids.iloc[i : i+1, : ]['label'].values[0])\n",
      "                l_j = int(centroids.iloc[j : j+1, : ]['label'].values[0])\n",
      "                closestLabels = (l_i, l_j)\n",
      "    return closestLabels\n",
      "\n",
      "def countViolation(df, label, centroid, theta):\n",
      "    centroid = np.array(centroid)\n",
      "    threshold = theta * LA.norm(centroid)\n",
      "    cluster = df[df['label'] == label]\n",
      "    v = 0\n",
      "    for x in cluster.iterrows():\n",
      "        x = x[1]\n",
      "        x = x[timeNames]\n",
      "        x = np.array(x)\n",
      "        if LA.norm(x - centroid) > threshold:\n",
      "            v += 1\n",
      "    return v\n",
      "\n",
      "def totViolations(df, centroids, theta):\n",
      "    violations = 0\n",
      "    for label in centroids['label']:\n",
      "        centroid = centroids[centroids['label'] == label][timeNames]\n",
      "        violations += countViolation(df, label, centroid, theta)\n",
      "    return violations\n",
      "\n",
      "while True:\n",
      "    (l_i, l_j) = closestLabels(centroids)\n",
      "    c_i = np.array(centroids[centroids['label'] == l_i].iloc[:, :-2])\n",
      "    c_j = np.array(centroids[centroids['label'] == l_j].iloc[:, :-2])\n",
      "    n_i = centroids[centroids['label'] == l_i]['size'].values[0]\n",
      "    n_j = centroids[centroids['label'] == l_j]['size'].values[0]\n",
      "    new_c = (n_i * c_i + n_j * c_j) / (n_i + n_j)\n",
      "    for i in range(len(centroids)):\n",
      "        label = centroids.iloc[i : i+1, :]['label'].values[0]\n",
      "        if label == l_i:\n",
      "            centroids.iloc[i : i+1, : -2] = new_c\n",
      "            centroids.iloc[i : i+1, : ]['size'] = n_i + n_j\n",
      "    # Delete one centroid\n",
      "    centroids = centroids.drop(l_j)\n",
      "    # Change all l2 label in df to l1\n",
      "    df.loc[df['label'] == l_j, 'label'] = l_i  \n",
      "    violations = totViolations(df, centroids, theta)\n",
      "    print len(centroids), violations\n",
      "    # Quit hierarchical clustering if violation is larger than 1%\n",
      "    if violations * 1.0 / len(all) >= 0.05:\n",
      "        break"
     ],
     "language": "python",
     "metadata": {},
     "outputs": [
      {
       "output_type": "stream",
       "stream": "stdout",
       "text": [
        "234 0\n",
        "233"
       ]
      },
      {
       "output_type": "stream",
       "stream": "stdout",
       "text": [
        " 0\n",
        "232"
       ]
      },
      {
       "output_type": "stream",
       "stream": "stdout",
       "text": [
        " 0\n",
        "231"
       ]
      },
      {
       "output_type": "stream",
       "stream": "stdout",
       "text": [
        " 0\n",
        "230"
       ]
      },
      {
       "output_type": "stream",
       "stream": "stdout",
       "text": [
        " 0\n",
        "229"
       ]
      },
      {
       "output_type": "stream",
       "stream": "stdout",
       "text": [
        " 0\n",
        "228"
       ]
      },
      {
       "output_type": "stream",
       "stream": "stdout",
       "text": [
        " 0\n",
        "227"
       ]
      },
      {
       "output_type": "stream",
       "stream": "stdout",
       "text": [
        " 0\n",
        "226"
       ]
      },
      {
       "output_type": "stream",
       "stream": "stdout",
       "text": [
        " 0\n",
        "225"
       ]
      },
      {
       "output_type": "stream",
       "stream": "stdout",
       "text": [
        " 0\n",
        "224"
       ]
      },
      {
       "output_type": "stream",
       "stream": "stdout",
       "text": [
        " 2\n",
        "223"
       ]
      },
      {
       "output_type": "stream",
       "stream": "stdout",
       "text": [
        " 2\n",
        "222"
       ]
      },
      {
       "output_type": "stream",
       "stream": "stdout",
       "text": [
        " 2\n",
        "221"
       ]
      },
      {
       "output_type": "stream",
       "stream": "stdout",
       "text": [
        " 3\n",
        "220"
       ]
      },
      {
       "output_type": "stream",
       "stream": "stdout",
       "text": [
        " 3\n",
        "219"
       ]
      },
      {
       "output_type": "stream",
       "stream": "stdout",
       "text": [
        " 3\n",
        "218"
       ]
      },
      {
       "output_type": "stream",
       "stream": "stdout",
       "text": [
        " 4\n",
        "217"
       ]
      },
      {
       "output_type": "stream",
       "stream": "stdout",
       "text": [
        " 9\n",
        "216"
       ]
      },
      {
       "output_type": "stream",
       "stream": "stdout",
       "text": [
        " 9\n",
        "215"
       ]
      },
      {
       "output_type": "stream",
       "stream": "stdout",
       "text": [
        " 9\n",
        "214"
       ]
      },
      {
       "output_type": "stream",
       "stream": "stdout",
       "text": [
        " 11\n",
        "213"
       ]
      },
      {
       "output_type": "stream",
       "stream": "stdout",
       "text": [
        " 11\n",
        "212"
       ]
      },
      {
       "output_type": "stream",
       "stream": "stdout",
       "text": [
        " 12\n",
        "211"
       ]
      },
      {
       "output_type": "stream",
       "stream": "stdout",
       "text": [
        " 14\n",
        "210"
       ]
      },
      {
       "output_type": "stream",
       "stream": "stdout",
       "text": [
        " 15\n",
        "209"
       ]
      },
      {
       "output_type": "stream",
       "stream": "stdout",
       "text": [
        " 15\n",
        "208"
       ]
      },
      {
       "output_type": "stream",
       "stream": "stdout",
       "text": [
        " 15\n",
        "207"
       ]
      },
      {
       "output_type": "stream",
       "stream": "stdout",
       "text": [
        " 17\n",
        "206"
       ]
      },
      {
       "output_type": "stream",
       "stream": "stdout",
       "text": [
        " 19\n",
        "205"
       ]
      },
      {
       "output_type": "stream",
       "stream": "stdout",
       "text": [
        " 21\n",
        "204"
       ]
      },
      {
       "output_type": "stream",
       "stream": "stdout",
       "text": [
        " 21\n",
        "203"
       ]
      },
      {
       "output_type": "stream",
       "stream": "stdout",
       "text": [
        " 22\n",
        "202"
       ]
      },
      {
       "output_type": "stream",
       "stream": "stdout",
       "text": [
        " 22\n",
        "201"
       ]
      },
      {
       "output_type": "stream",
       "stream": "stdout",
       "text": [
        " 22\n",
        "200"
       ]
      },
      {
       "output_type": "stream",
       "stream": "stdout",
       "text": [
        " 22\n",
        "199"
       ]
      },
      {
       "output_type": "stream",
       "stream": "stdout",
       "text": [
        " 22\n",
        "198"
       ]
      },
      {
       "output_type": "stream",
       "stream": "stdout",
       "text": [
        " 17\n",
        "197"
       ]
      },
      {
       "output_type": "stream",
       "stream": "stdout",
       "text": [
        " 19\n",
        "196"
       ]
      },
      {
       "output_type": "stream",
       "stream": "stdout",
       "text": [
        " 20\n",
        "195"
       ]
      },
      {
       "output_type": "stream",
       "stream": "stdout",
       "text": [
        " 20\n",
        "194"
       ]
      },
      {
       "output_type": "stream",
       "stream": "stdout",
       "text": [
        " 20\n",
        "193"
       ]
      },
      {
       "output_type": "stream",
       "stream": "stdout",
       "text": [
        " 21\n",
        "192"
       ]
      },
      {
       "output_type": "stream",
       "stream": "stdout",
       "text": [
        " 22\n",
        "191"
       ]
      },
      {
       "output_type": "stream",
       "stream": "stdout",
       "text": [
        " 22\n",
        "190"
       ]
      },
      {
       "output_type": "stream",
       "stream": "stdout",
       "text": [
        " 23\n",
        "189"
       ]
      },
      {
       "output_type": "stream",
       "stream": "stdout",
       "text": [
        " 23\n",
        "188"
       ]
      },
      {
       "output_type": "stream",
       "stream": "stdout",
       "text": [
        " 23\n",
        "187"
       ]
      },
      {
       "output_type": "stream",
       "stream": "stdout",
       "text": [
        " 25\n",
        "186"
       ]
      },
      {
       "output_type": "stream",
       "stream": "stdout",
       "text": [
        " 26\n",
        "185"
       ]
      },
      {
       "output_type": "stream",
       "stream": "stdout",
       "text": [
        " 30\n",
        "184"
       ]
      },
      {
       "output_type": "stream",
       "stream": "stdout",
       "text": [
        " 30\n",
        "183"
       ]
      },
      {
       "output_type": "stream",
       "stream": "stdout",
       "text": [
        " 35\n",
        "182"
       ]
      },
      {
       "output_type": "stream",
       "stream": "stdout",
       "text": [
        " 35\n",
        "181"
       ]
      },
      {
       "output_type": "stream",
       "stream": "stdout",
       "text": [
        " 35\n",
        "180"
       ]
      },
      {
       "output_type": "stream",
       "stream": "stdout",
       "text": [
        " 35\n",
        "179"
       ]
      },
      {
       "output_type": "stream",
       "stream": "stdout",
       "text": [
        " 41\n",
        "178"
       ]
      },
      {
       "output_type": "stream",
       "stream": "stdout",
       "text": [
        " 45\n",
        "177"
       ]
      },
      {
       "output_type": "stream",
       "stream": "stdout",
       "text": [
        " 46\n",
        "176"
       ]
      },
      {
       "output_type": "stream",
       "stream": "stdout",
       "text": [
        " 46\n",
        "175"
       ]
      },
      {
       "output_type": "stream",
       "stream": "stdout",
       "text": [
        " 52\n",
        "174"
       ]
      },
      {
       "output_type": "stream",
       "stream": "stdout",
       "text": [
        " 52\n",
        "173"
       ]
      },
      {
       "output_type": "stream",
       "stream": "stdout",
       "text": [
        " 56\n",
        "172"
       ]
      },
      {
       "output_type": "stream",
       "stream": "stdout",
       "text": [
        " 57\n",
        "171"
       ]
      },
      {
       "output_type": "stream",
       "stream": "stdout",
       "text": [
        " 61\n",
        "170"
       ]
      },
      {
       "output_type": "stream",
       "stream": "stdout",
       "text": [
        " 63\n",
        "169"
       ]
      },
      {
       "output_type": "stream",
       "stream": "stdout",
       "text": [
        " 63\n",
        "168"
       ]
      },
      {
       "output_type": "stream",
       "stream": "stdout",
       "text": [
        " 65\n",
        "167"
       ]
      },
      {
       "output_type": "stream",
       "stream": "stdout",
       "text": [
        " 69\n",
        "166"
       ]
      },
      {
       "output_type": "stream",
       "stream": "stdout",
       "text": [
        " 71\n",
        "165"
       ]
      },
      {
       "output_type": "stream",
       "stream": "stdout",
       "text": [
        " 75\n",
        "164"
       ]
      },
      {
       "output_type": "stream",
       "stream": "stdout",
       "text": [
        " 75\n",
        "163"
       ]
      },
      {
       "output_type": "stream",
       "stream": "stdout",
       "text": [
        " 77\n",
        "162"
       ]
      },
      {
       "output_type": "stream",
       "stream": "stdout",
       "text": [
        " 84\n",
        "161"
       ]
      },
      {
       "output_type": "stream",
       "stream": "stdout",
       "text": [
        " 84\n",
        "160"
       ]
      },
      {
       "output_type": "stream",
       "stream": "stdout",
       "text": [
        " 86\n",
        "159"
       ]
      },
      {
       "output_type": "stream",
       "stream": "stdout",
       "text": [
        " 88\n",
        "158"
       ]
      },
      {
       "output_type": "stream",
       "stream": "stdout",
       "text": [
        " 93\n",
        "157"
       ]
      },
      {
       "output_type": "stream",
       "stream": "stdout",
       "text": [
        " 94\n",
        "156"
       ]
      },
      {
       "output_type": "stream",
       "stream": "stdout",
       "text": [
        " 92\n",
        "155"
       ]
      },
      {
       "output_type": "stream",
       "stream": "stdout",
       "text": [
        " 96\n",
        "154"
       ]
      },
      {
       "output_type": "stream",
       "stream": "stdout",
       "text": [
        " 104\n",
        "153"
       ]
      },
      {
       "output_type": "stream",
       "stream": "stdout",
       "text": [
        " 106\n",
        "152"
       ]
      },
      {
       "output_type": "stream",
       "stream": "stdout",
       "text": [
        " 116\n",
        "151"
       ]
      },
      {
       "output_type": "stream",
       "stream": "stdout",
       "text": [
        " 120\n",
        "150"
       ]
      },
      {
       "output_type": "stream",
       "stream": "stdout",
       "text": [
        " 123\n",
        "149"
       ]
      },
      {
       "output_type": "stream",
       "stream": "stdout",
       "text": [
        " 123\n",
        "148"
       ]
      },
      {
       "output_type": "stream",
       "stream": "stdout",
       "text": [
        " 127\n",
        "147"
       ]
      },
      {
       "output_type": "stream",
       "stream": "stdout",
       "text": [
        " 130\n",
        "146"
       ]
      },
      {
       "output_type": "stream",
       "stream": "stdout",
       "text": [
        " 140\n",
        "145"
       ]
      },
      {
       "output_type": "stream",
       "stream": "stdout",
       "text": [
        " 145\n",
        "144"
       ]
      },
      {
       "output_type": "stream",
       "stream": "stdout",
       "text": [
        " 177\n",
        "143"
       ]
      },
      {
       "output_type": "stream",
       "stream": "stdout",
       "text": [
        " 180\n",
        "142"
       ]
      },
      {
       "output_type": "stream",
       "stream": "stdout",
       "text": [
        " 181\n",
        "141"
       ]
      },
      {
       "output_type": "stream",
       "stream": "stdout",
       "text": [
        " 181\n",
        "140"
       ]
      },
      {
       "output_type": "stream",
       "stream": "stdout",
       "text": [
        " 191\n",
        "139"
       ]
      },
      {
       "output_type": "stream",
       "stream": "stdout",
       "text": [
        " 193\n",
        "138"
       ]
      },
      {
       "output_type": "stream",
       "stream": "stdout",
       "text": [
        " 203\n",
        "137"
       ]
      },
      {
       "output_type": "stream",
       "stream": "stdout",
       "text": [
        " 207\n",
        "136"
       ]
      },
      {
       "output_type": "stream",
       "stream": "stdout",
       "text": [
        " 214\n",
        "135"
       ]
      },
      {
       "output_type": "stream",
       "stream": "stdout",
       "text": [
        " 216\n",
        "134"
       ]
      },
      {
       "output_type": "stream",
       "stream": "stdout",
       "text": [
        " 221\n",
        "133"
       ]
      },
      {
       "output_type": "stream",
       "stream": "stdout",
       "text": [
        " 223\n",
        "132"
       ]
      },
      {
       "output_type": "stream",
       "stream": "stdout",
       "text": [
        " 225\n",
        "131"
       ]
      },
      {
       "output_type": "stream",
       "stream": "stdout",
       "text": [
        " 226\n",
        "130"
       ]
      },
      {
       "output_type": "stream",
       "stream": "stdout",
       "text": [
        " 226\n",
        "129"
       ]
      },
      {
       "output_type": "stream",
       "stream": "stdout",
       "text": [
        " 236\n",
        "128"
       ]
      },
      {
       "output_type": "stream",
       "stream": "stdout",
       "text": [
        " 236\n",
        "127"
       ]
      },
      {
       "output_type": "stream",
       "stream": "stdout",
       "text": [
        " 236\n",
        "126"
       ]
      },
      {
       "output_type": "stream",
       "stream": "stdout",
       "text": [
        " 238\n",
        "125"
       ]
      },
      {
       "output_type": "stream",
       "stream": "stdout",
       "text": [
        " 240\n",
        "124"
       ]
      },
      {
       "output_type": "stream",
       "stream": "stdout",
       "text": [
        " 242\n",
        "123"
       ]
      },
      {
       "output_type": "stream",
       "stream": "stdout",
       "text": [
        " 246\n",
        "122"
       ]
      },
      {
       "output_type": "stream",
       "stream": "stdout",
       "text": [
        " 247\n",
        "121"
       ]
      },
      {
       "output_type": "stream",
       "stream": "stdout",
       "text": [
        " 249\n",
        "120"
       ]
      },
      {
       "output_type": "stream",
       "stream": "stdout",
       "text": [
        " 253\n",
        "119"
       ]
      },
      {
       "output_type": "stream",
       "stream": "stdout",
       "text": [
        " 254\n",
        "118"
       ]
      },
      {
       "output_type": "stream",
       "stream": "stdout",
       "text": [
        " 264\n",
        "117"
       ]
      },
      {
       "output_type": "stream",
       "stream": "stdout",
       "text": [
        " 290\n",
        "116"
       ]
      },
      {
       "output_type": "stream",
       "stream": "stdout",
       "text": [
        " 295\n",
        "115"
       ]
      },
      {
       "output_type": "stream",
       "stream": "stdout",
       "text": [
        " 300\n",
        "114"
       ]
      },
      {
       "output_type": "stream",
       "stream": "stdout",
       "text": [
        " 336\n",
        "113"
       ]
      },
      {
       "output_type": "stream",
       "stream": "stdout",
       "text": [
        " 348\n",
        "112"
       ]
      },
      {
       "output_type": "stream",
       "stream": "stdout",
       "text": [
        " 352\n",
        "111"
       ]
      },
      {
       "output_type": "stream",
       "stream": "stdout",
       "text": [
        " 352\n",
        "110"
       ]
      },
      {
       "output_type": "stream",
       "stream": "stdout",
       "text": [
        " 358\n",
        "109"
       ]
      },
      {
       "output_type": "stream",
       "stream": "stdout",
       "text": [
        " 363\n",
        "108"
       ]
      },
      {
       "output_type": "stream",
       "stream": "stdout",
       "text": [
        " 367\n",
        "107"
       ]
      },
      {
       "output_type": "stream",
       "stream": "stdout",
       "text": [
        " 382\n",
        "106"
       ]
      },
      {
       "output_type": "stream",
       "stream": "stdout",
       "text": [
        " 502\n",
        "105"
       ]
      },
      {
       "output_type": "stream",
       "stream": "stdout",
       "text": [
        " 503\n",
        "104"
       ]
      },
      {
       "output_type": "stream",
       "stream": "stdout",
       "text": [
        " 591\n",
        "103"
       ]
      },
      {
       "output_type": "stream",
       "stream": "stdout",
       "text": [
        " 990\n",
        "102"
       ]
      },
      {
       "output_type": "stream",
       "stream": "stdout",
       "text": [
        " 1051\n",
        "101"
       ]
      },
      {
       "output_type": "stream",
       "stream": "stdout",
       "text": [
        " 1083\n",
        "100"
       ]
      },
      {
       "output_type": "stream",
       "stream": "stdout",
       "text": [
        " 1083\n",
        "99"
       ]
      },
      {
       "output_type": "stream",
       "stream": "stdout",
       "text": [
        " 1094\n",
        "98"
       ]
      },
      {
       "output_type": "stream",
       "stream": "stdout",
       "text": [
        " 1102\n",
        "97"
       ]
      },
      {
       "output_type": "stream",
       "stream": "stdout",
       "text": [
        " 1109\n",
        "96"
       ]
      },
      {
       "output_type": "stream",
       "stream": "stdout",
       "text": [
        " 1111\n",
        "95"
       ]
      },
      {
       "output_type": "stream",
       "stream": "stdout",
       "text": [
        " 1129\n",
        "94"
       ]
      },
      {
       "output_type": "stream",
       "stream": "stdout",
       "text": [
        " 1132\n",
        "93"
       ]
      },
      {
       "output_type": "stream",
       "stream": "stdout",
       "text": [
        " 1137\n",
        "92"
       ]
      },
      {
       "output_type": "stream",
       "stream": "stdout",
       "text": [
        " 1139\n",
        "91"
       ]
      },
      {
       "output_type": "stream",
       "stream": "stdout",
       "text": [
        " 1141\n",
        "90"
       ]
      },
      {
       "output_type": "stream",
       "stream": "stdout",
       "text": [
        " 1146\n",
        "89"
       ]
      },
      {
       "output_type": "stream",
       "stream": "stdout",
       "text": [
        " 1151\n",
        "88"
       ]
      },
      {
       "output_type": "stream",
       "stream": "stdout",
       "text": [
        " 1301\n",
        "87"
       ]
      },
      {
       "output_type": "stream",
       "stream": "stdout",
       "text": [
        " 1309\n",
        "86"
       ]
      },
      {
       "output_type": "stream",
       "stream": "stdout",
       "text": [
        " 1311\n",
        "85"
       ]
      },
      {
       "output_type": "stream",
       "stream": "stdout",
       "text": [
        " 1316\n",
        "84"
       ]
      },
      {
       "output_type": "stream",
       "stream": "stdout",
       "text": [
        " 1354\n",
        "83"
       ]
      },
      {
       "output_type": "stream",
       "stream": "stdout",
       "text": [
        " 1357\n",
        "82"
       ]
      },
      {
       "output_type": "stream",
       "stream": "stdout",
       "text": [
        " 1358\n",
        "81"
       ]
      },
      {
       "output_type": "stream",
       "stream": "stdout",
       "text": [
        " 1399\n",
        "80"
       ]
      },
      {
       "output_type": "stream",
       "stream": "stdout",
       "text": [
        " 1406\n",
        "79"
       ]
      },
      {
       "output_type": "stream",
       "stream": "stdout",
       "text": [
        " 1414\n",
        "78"
       ]
      },
      {
       "output_type": "stream",
       "stream": "stdout",
       "text": [
        " 1431\n",
        "77"
       ]
      },
      {
       "output_type": "stream",
       "stream": "stdout",
       "text": [
        " 1432\n",
        "76"
       ]
      },
      {
       "output_type": "stream",
       "stream": "stdout",
       "text": [
        " 1455\n",
        "75"
       ]
      },
      {
       "output_type": "stream",
       "stream": "stdout",
       "text": [
        " 1503\n",
        "74"
       ]
      },
      {
       "output_type": "stream",
       "stream": "stdout",
       "text": [
        " 1892\n",
        "73"
       ]
      },
      {
       "output_type": "stream",
       "stream": "stdout",
       "text": [
        " 1899\n",
        "72"
       ]
      },
      {
       "output_type": "stream",
       "stream": "stdout",
       "text": [
        " 1909\n",
        "71"
       ]
      },
      {
       "output_type": "stream",
       "stream": "stdout",
       "text": [
        " 1945\n",
        "70"
       ]
      },
      {
       "output_type": "stream",
       "stream": "stdout",
       "text": [
        " 1949\n",
        "69"
       ]
      },
      {
       "output_type": "stream",
       "stream": "stdout",
       "text": [
        " 2318\n"
       ]
      }
     ],
     "prompt_number": 49
    },
    {
     "cell_type": "code",
     "collapsed": false,
     "input": [
      "centroids.head()"
     ],
     "language": "python",
     "metadata": {},
     "outputs": [
      {
       "html": [
        "<div style=\"max-height:1000px;max-width:1500px;overflow:auto;\">\n",
        "<table border=\"1\" class=\"dataframe\">\n",
        "  <thead>\n",
        "    <tr style=\"text-align: right;\">\n",
        "      <th></th>\n",
        "      <th>0</th>\n",
        "      <th>1</th>\n",
        "      <th>2</th>\n",
        "      <th>3</th>\n",
        "      <th>4</th>\n",
        "      <th>5</th>\n",
        "      <th>6</th>\n",
        "      <th>7</th>\n",
        "      <th>8</th>\n",
        "      <th>9</th>\n",
        "      <th>...</th>\n",
        "      <th>16</th>\n",
        "      <th>17</th>\n",
        "      <th>18</th>\n",
        "      <th>19</th>\n",
        "      <th>20</th>\n",
        "      <th>21</th>\n",
        "      <th>22</th>\n",
        "      <th>23</th>\n",
        "      <th>label</th>\n",
        "      <th>size</th>\n",
        "    </tr>\n",
        "  </thead>\n",
        "  <tbody>\n",
        "    <tr>\n",
        "      <th>0 </th>\n",
        "      <td> 0.037629</td>\n",
        "      <td> 0.037871</td>\n",
        "      <td> 0.037987</td>\n",
        "      <td> 0.038056</td>\n",
        "      <td> 0.038043</td>\n",
        "      <td> 0.037940</td>\n",
        "      <td> 0.037705</td>\n",
        "      <td> 0.037372</td>\n",
        "      <td> 0.037120</td>\n",
        "      <td> 0.036921</td>\n",
        "      <td>...</td>\n",
        "      <td> 0.036259</td>\n",
        "      <td> 0.036154</td>\n",
        "      <td> 0.035862</td>\n",
        "      <td> 0.035721</td>\n",
        "      <td> 0.035763</td>\n",
        "      <td> 0.036112</td>\n",
        "      <td> 0.036594</td>\n",
        "      <td> 0.037199</td>\n",
        "      <td>  0</td>\n",
        "      <td> 13707</td>\n",
        "    </tr>\n",
        "    <tr>\n",
        "      <th>1 </th>\n",
        "      <td> 0.034020</td>\n",
        "      <td> 0.034698</td>\n",
        "      <td> 0.034992</td>\n",
        "      <td> 0.035194</td>\n",
        "      <td> 0.035181</td>\n",
        "      <td> 0.035031</td>\n",
        "      <td> 0.034636</td>\n",
        "      <td> 0.033849</td>\n",
        "      <td> 0.033223</td>\n",
        "      <td> 0.032753</td>\n",
        "      <td>...</td>\n",
        "      <td> 0.030672</td>\n",
        "      <td> 0.030447</td>\n",
        "      <td> 0.029729</td>\n",
        "      <td> 0.029442</td>\n",
        "      <td> 0.029448</td>\n",
        "      <td> 0.030243</td>\n",
        "      <td> 0.031563</td>\n",
        "      <td> 0.033035</td>\n",
        "      <td>  1</td>\n",
        "      <td>  4331</td>\n",
        "    </tr>\n",
        "    <tr>\n",
        "      <th>9 </th>\n",
        "      <td> 0.035910</td>\n",
        "      <td> 0.036371</td>\n",
        "      <td> 0.036588</td>\n",
        "      <td> 0.036729</td>\n",
        "      <td> 0.036730</td>\n",
        "      <td> 0.036649</td>\n",
        "      <td> 0.036382</td>\n",
        "      <td> 0.035886</td>\n",
        "      <td> 0.035501</td>\n",
        "      <td> 0.035133</td>\n",
        "      <td>...</td>\n",
        "      <td> 0.033558</td>\n",
        "      <td> 0.033420</td>\n",
        "      <td> 0.032867</td>\n",
        "      <td> 0.032744</td>\n",
        "      <td> 0.032735</td>\n",
        "      <td> 0.033418</td>\n",
        "      <td> 0.034290</td>\n",
        "      <td> 0.035304</td>\n",
        "      <td>  9</td>\n",
        "      <td> 12647</td>\n",
        "    </tr>\n",
        "    <tr>\n",
        "      <th>15</th>\n",
        "      <td> 0.031478</td>\n",
        "      <td> 0.032547</td>\n",
        "      <td> 0.033035</td>\n",
        "      <td> 0.033397</td>\n",
        "      <td> 0.033421</td>\n",
        "      <td> 0.033138</td>\n",
        "      <td> 0.032392</td>\n",
        "      <td> 0.031035</td>\n",
        "      <td> 0.030028</td>\n",
        "      <td> 0.029360</td>\n",
        "      <td>...</td>\n",
        "      <td> 0.027993</td>\n",
        "      <td> 0.027323</td>\n",
        "      <td> 0.025738</td>\n",
        "      <td> 0.024839</td>\n",
        "      <td> 0.024986</td>\n",
        "      <td> 0.026030</td>\n",
        "      <td> 0.027966</td>\n",
        "      <td> 0.030056</td>\n",
        "      <td> 15</td>\n",
        "      <td>  4267</td>\n",
        "    </tr>\n",
        "    <tr>\n",
        "      <th>19</th>\n",
        "      <td> 0.036267</td>\n",
        "      <td> 0.036929</td>\n",
        "      <td> 0.037171</td>\n",
        "      <td> 0.037238</td>\n",
        "      <td> 0.037387</td>\n",
        "      <td> 0.037496</td>\n",
        "      <td> 0.037366</td>\n",
        "      <td> 0.036877</td>\n",
        "      <td> 0.036142</td>\n",
        "      <td> 0.034765</td>\n",
        "      <td>...</td>\n",
        "      <td> 0.025152</td>\n",
        "      <td> 0.026383</td>\n",
        "      <td> 0.027792</td>\n",
        "      <td> 0.030038</td>\n",
        "      <td> 0.031558</td>\n",
        "      <td> 0.032730</td>\n",
        "      <td> 0.033793</td>\n",
        "      <td> 0.035430</td>\n",
        "      <td> 19</td>\n",
        "      <td>   286</td>\n",
        "    </tr>\n",
        "  </tbody>\n",
        "</table>\n",
        "<p>5 rows \u00d7 26 columns</p>\n",
        "</div>"
       ],
       "metadata": {},
       "output_type": "pyout",
       "prompt_number": 62,
       "text": [
        "           0         1         2         3         4         5         6  \\\n",
        "0   0.037629  0.037871  0.037987  0.038056  0.038043  0.037940  0.037705   \n",
        "1   0.034020  0.034698  0.034992  0.035194  0.035181  0.035031  0.034636   \n",
        "9   0.035910  0.036371  0.036588  0.036729  0.036730  0.036649  0.036382   \n",
        "15  0.031478  0.032547  0.033035  0.033397  0.033421  0.033138  0.032392   \n",
        "19  0.036267  0.036929  0.037171  0.037238  0.037387  0.037496  0.037366   \n",
        "\n",
        "           7         8         9    ...           16        17        18  \\\n",
        "0   0.037372  0.037120  0.036921    ...     0.036259  0.036154  0.035862   \n",
        "1   0.033849  0.033223  0.032753    ...     0.030672  0.030447  0.029729   \n",
        "9   0.035886  0.035501  0.035133    ...     0.033558  0.033420  0.032867   \n",
        "15  0.031035  0.030028  0.029360    ...     0.027993  0.027323  0.025738   \n",
        "19  0.036877  0.036142  0.034765    ...     0.025152  0.026383  0.027792   \n",
        "\n",
        "          19        20        21        22        23  label   size  \n",
        "0   0.035721  0.035763  0.036112  0.036594  0.037199      0  13707  \n",
        "1   0.029442  0.029448  0.030243  0.031563  0.033035      1   4331  \n",
        "9   0.032744  0.032735  0.033418  0.034290  0.035304      9  12647  \n",
        "15  0.024839  0.024986  0.026030  0.027966  0.030056     15   4267  \n",
        "19  0.030038  0.031558  0.032730  0.033793  0.035430     19    286  \n",
        "\n",
        "[5 rows x 26 columns]"
       ]
      }
     ],
     "prompt_number": 62
    },
    {
     "cell_type": "code",
     "collapsed": false,
     "input": [
      "# Plot most common load shapes\n",
      "centroids.sort(['size'], ascending=[0])\n",
      "def most_common_load_shapes(n):\n",
      "    w = math.ceil(n ** .5)\n",
      "    h = math.ceil(n ** .5)\n",
      "    x = range(1, vectorLength + 1)\n",
      "    for i in range(1, n + 1):\n",
      "        plt.subplot(h, w, i)\n",
      "        centroid = []\n",
      "        for j in range(24):\n",
      "            centroid.append(float(centroids.iloc[i - 1 : i][str(j)]))\n",
      "        plt.scatter(x, centroid, color='red')\n",
      "        percent = 100. * float(centroids.iloc[i - 1 : i]['size']) / len(all)\n",
      "        plt.title(str(percent) + \"%\")\n",
      "        plt.xlabel(\"Hour\")\n",
      "        plt.ylabel(\"Norm. Usage\")\n",
      "        plt.xlim(0, vectorLength + 1)\n",
      "        plt.ylim(-0.01, 0.045)\n",
      "    \n",
      "    plt.subplots_adjust(wspace=0.7, hspace=0.7)\n",
      "    plt.show()\n",
      "\n",
      "most_common_load_shapes(16)"
     ],
     "language": "python",
     "metadata": {},
     "outputs": [],
     "prompt_number": 13
    },
    {
     "cell_type": "code",
     "collapsed": false,
     "input": [
      "sizes = []\n",
      "labelsWithHvac = []\n",
      "hvacDistribution = []\n",
      "labelsWithPv = []\n",
      "pvDistribution = []\n",
      "labelsWithEv = []\n",
      "evDistribution = []\n",
      "labelsWithPool = []\n",
      "poolDistribution = []\n",
      "maxLabel = np.max(df['label'])\n",
      "for i in range(maxLabel):\n",
      "    cluster = df[df['label'] == i]\n",
      "    sizes.append(cluster.shape[0])\n",
      "    if np.sum(cluster['hvac']) > 0:\n",
      "        hvacDistribution.append(np.sum(cluster['hvac']))\n",
      "        labelsWithHvac.append(i)\n",
      "    if np.sum(cluster['pv']) > 0:\n",
      "        pvDistribution.append(np.sum(cluster['pv']))\n",
      "        labelsWithPv.append(i)\n",
      "    if np.sum(cluster['ev']) > 0:\n",
      "        evDistribution.append(np.sum(cluster['ev']))\n",
      "        labelsWithEv.append(i)\n",
      "    if np.sum(cluster['pool']) > 0:\n",
      "        poolDistribution.append(np.sum(cluster['pool']))\n",
      "        labelsWithPool.append(i)\n"
     ],
     "language": "python",
     "metadata": {},
     "outputs": [],
     "prompt_number": 14
    },
    {
     "cell_type": "code",
     "collapsed": false,
     "input": [
      "labels = range(maxLabel)\n",
      "plt.scatter(labels, sizes)\n",
      "#plt.scatter(labelsWithHvac, hvacDistribution, s = 100, c = 'orange', alpha = .5)\n",
      "#plt.scatter(labelsWithPv, pvDistribution, s = 100, c = 'r', alpha = .5)\n",
      "#plt.scatter(labelsWithEv, evDistribution, s = 100, c = 'g', alpha = .5)\n",
      "#plt.scatter(labelsWithPool, poolDistribution, s = 100, c = 'y', alpha = .5)\n",
      "plt.ylim([-1, 500])\n",
      "\n",
      "fig = plt.gcf()\n",
      "fig.set_size_inches(10, 10)\n",
      "plt.show()"
     ],
     "language": "python",
     "metadata": {},
     "outputs": [],
     "prompt_number": 110
    },
    {
     "cell_type": "code",
     "collapsed": false,
     "input": [
      "def plotCluster(label):\n",
      "    cluster = df[df['label'] == label][timeNames]\n",
      "    for row in cluster.iterrows():\n",
      "        plt.scatter(range(24), row[1])\n",
      "\n",
      "plotCluster(33)"
     ],
     "language": "python",
     "metadata": {},
     "outputs": [],
     "prompt_number": 62
    },
    {
     "cell_type": "code",
     "collapsed": false,
     "input": [
      "# critical valuefor two-tailed t-test with significance level = 0.05\n",
      "# DOF = 42268\n",
      "t_1 = 1.960\n",
      "t_2 = -1.960\n",
      "\n",
      "def calc_t_score(X1, X2, N1, N2):\n",
      "    S1 = X1 * (1 - X1)\n",
      "    S2 = X2 * (1 - X2)\n",
      "    T = (X1 - X2) / (math.sqrt(1.0 / N1 + 1.0 / N2) * math.sqrt(((N1 - 1) * S1 + (N2 - 1) * S2) / (N1 + N2 - 2)))\n",
      "    return T"
     ],
     "language": "python",
     "metadata": {},
     "outputs": [],
     "prompt_number": 23
    },
    {
     "cell_type": "code",
     "collapsed": false,
     "input": [
      "len(df)"
     ],
     "language": "python",
     "metadata": {},
     "outputs": [
      {
       "metadata": {},
       "output_type": "pyout",
       "prompt_number": 18,
       "text": [
        "42270"
       ]
      }
     ],
     "prompt_number": 18
    },
    {
     "cell_type": "code",
     "collapsed": false,
     "input": [
      "# T-tests for EVs    \n",
      "N1 = len(df[df['ev'] == 1])\n",
      "N2 = len(df) - N1\n",
      "rejected = 0\n",
      "for label in labelsWithEv:\n",
      "    cluster = df[df['label'] == label]\n",
      "    X1 = np.sum(cluster['ev']) / N1\n",
      "    X2 = (len(cluster) - np.sum(cluster['ev']) ) * 1.0 / N2\n",
      "    T = calc_t_score(X1, X2, N1, N2)\n",
      "    if T > t_1 or T < t_2:\n",
      "        rejected += 1\n",
      "print 'EV: ' + str(rejected * 100.0 / len(labelsWithEv)) + \"% rejected\" \n",
      "\n",
      "# T-tests for pools    \n",
      "N1 = len(df[df['pool'] == 1])\n",
      "N2 = len(df) - N1\n",
      "rejected = 0\n",
      "for label in labelsWithPool:\n",
      "    cluster = df[df['label'] == label]\n",
      "    X1 = np.sum(cluster['pool']) / N1\n",
      "    X2 = (len(cluster) - np.sum(cluster['pool'])) * 1.0 / N2\n",
      "    T = calc_t_score(X1, X2, N1, N2)\n",
      "    if T > t_1 or T < t_2:\n",
      "        rejected += 1\n",
      "print 'Pools: ' + str(rejected * 100.0 / len(labelsWithPool)) + \"% rejected\" \n",
      "\n",
      "# T-tests for hvac    \n",
      "N1 = len(df[df['hvac'] == 1])\n",
      "N2 = len(df) - N1\n",
      "rejected = 0\n",
      "for label in labelsWithHvac:\n",
      "    cluster = df[df['label'] == label]\n",
      "    X1 = np.sum(cluster['hvac']) / N1\n",
      "    X2 = (len(cluster) -  np.sum(cluster['hvac']))* 1.0 / N2\n",
      "    T = calc_t_score(X1, X2, N1, N2)\n",
      "    if T > t_1 or T < t_2:\n",
      "        rejected += 1\n",
      "print 'hvac: ' + str(rejected * 100.0 / len(labelsWithHvac)) + \"% rejected\" \n",
      "\n",
      "# T-tests for pv    \n",
      "N1 = len(df[df['pv'] == 1])\n",
      "N2 = len(df) - N1\n",
      "rejected = 0\n",
      "for label in labelsWithPv:\n",
      "    cluster = df[df['label'] == label]\n",
      "    X1 = np.sum(cluster['pv']) / N1\n",
      "    X2 = (len(cluster) - np.sum(cluster['pv'])) * 1.0 / N2\n",
      "    T = calc_t_score(X1, X2, N1, N2)\n",
      "    if T > t_1 or T < t_2:\n",
      "        rejected += 1\n",
      "print 'PV: ' + str(rejected * 100.0 / len(labelsWithPv)) + \"% rejected\" "
     ],
     "language": "python",
     "metadata": {},
     "outputs": [
      {
       "output_type": "stream",
       "stream": "stdout",
       "text": [
        "EV: 58.4905660377% rejected\n",
        "Pools: 54.954954955% rejected"
       ]
      },
      {
       "output_type": "stream",
       "stream": "stdout",
       "text": [
        "\n",
        "hvac: 64.2857142857% rejected"
       ]
      },
      {
       "output_type": "stream",
       "stream": "stdout",
       "text": [
        "\n",
        "PV: 50.0% rejected"
       ]
      },
      {
       "output_type": "stream",
       "stream": "stdout",
       "text": [
        "\n"
       ]
      }
     ],
     "prompt_number": 33
    },
    {
     "cell_type": "code",
     "collapsed": false,
     "input": [],
     "language": "python",
     "metadata": {},
     "outputs": []
    }
   ],
   "metadata": {}
  }
 ]
}