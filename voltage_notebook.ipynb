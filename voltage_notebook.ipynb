{
 "metadata": {
  "name": "",
  "signature": "sha256:21db350eb58cbc618ee92628e848387f5ee46d47b3cd4f2f4de05cef503cbd0b"
 },
 "nbformat": 3,
 "nbformat_minor": 0,
 "worksheets": [
  {
   "cells": [
    {
     "cell_type": "code",
     "collapsed": false,
     "input": [
      "import pandas as pd\n",
      "import numpy as np\n",
      "import math\n",
      "import matplotlib.pyplot as plt\n",
      "import numpy.linalg as LA\n",
      "from sklearn.cluster import KMeans, MiniBatchKMeans\n",
      "\n",
      "fileName = \"data/voltage/2012baseline.txt\"\n",
      "\n",
      "\n",
      "with open(fileName, 'r') as dataFile:\n",
      "  firstLine = dataFile.readline()\n",
      "  vectorLength = int(firstLine)\n",
      "minK = 10\n",
      "all = np.loadtxt(fileName, skiprows=1)"
     ],
     "language": "python",
     "metadata": {},
     "outputs": [],
     "prompt_number": 2
    },
    {
     "cell_type": "code",
     "collapsed": false,
     "input": [
      "# VOLTAGE: Normalize by substracting one\n",
      "for i in range(len(all)):\n",
      "    for j in range(vectorLength):\n",
      "        all[i][j + 5] -= 1"
     ],
     "language": "python",
     "metadata": {},
     "outputs": [],
     "prompt_number": 3
    },
    {
     "cell_type": "code",
     "collapsed": false,
     "input": [
      "timeNames = map(str, range(vectorLength))\n",
      "columnNames = ['id', 'hvac', 'pv', 'ev', 'pool'] + map(str, range(vectorLength))\n",
      "\n",
      "df = pd.DataFrame(all, columns=columnNames)"
     ],
     "language": "python",
     "metadata": {},
     "outputs": [],
     "prompt_number": 4
    },
    {
     "cell_type": "code",
     "collapsed": false,
     "input": [
      "df.head()"
     ],
     "language": "python",
     "metadata": {},
     "outputs": [
      {
       "html": [
        "<div style=\"max-height:1000px;max-width:1500px;overflow:auto;\">\n",
        "<table border=\"1\" class=\"dataframe\">\n",
        "  <thead>\n",
        "    <tr style=\"text-align: right;\">\n",
        "      <th></th>\n",
        "      <th>id</th>\n",
        "      <th>hvac</th>\n",
        "      <th>pv</th>\n",
        "      <th>ev</th>\n",
        "      <th>pool</th>\n",
        "      <th>0</th>\n",
        "      <th>1</th>\n",
        "      <th>2</th>\n",
        "      <th>3</th>\n",
        "      <th>4</th>\n",
        "      <th>...</th>\n",
        "      <th>14</th>\n",
        "      <th>15</th>\n",
        "      <th>16</th>\n",
        "      <th>17</th>\n",
        "      <th>18</th>\n",
        "      <th>19</th>\n",
        "      <th>20</th>\n",
        "      <th>21</th>\n",
        "      <th>22</th>\n",
        "      <th>23</th>\n",
        "    </tr>\n",
        "  </thead>\n",
        "  <tbody>\n",
        "    <tr>\n",
        "      <th>0</th>\n",
        "      <td> 525</td>\n",
        "      <td> 1</td>\n",
        "      <td> 0</td>\n",
        "      <td> 0</td>\n",
        "      <td> 0</td>\n",
        "      <td> 0.037453</td>\n",
        "      <td> 0.037476</td>\n",
        "      <td> 0.037442</td>\n",
        "      <td> 0.037427</td>\n",
        "      <td> 0.037271</td>\n",
        "      <td>...</td>\n",
        "      <td> 0.034705</td>\n",
        "      <td> 0.034894</td>\n",
        "      <td> 0.034142</td>\n",
        "      <td> 0.034595</td>\n",
        "      <td> 0.035012</td>\n",
        "      <td> 0.035581</td>\n",
        "      <td> 0.035797</td>\n",
        "      <td> 0.036196</td>\n",
        "      <td> 0.036532</td>\n",
        "      <td> 0.037111</td>\n",
        "    </tr>\n",
        "    <tr>\n",
        "      <th>1</th>\n",
        "      <td> 526</td>\n",
        "      <td> 1</td>\n",
        "      <td> 0</td>\n",
        "      <td> 0</td>\n",
        "      <td> 0</td>\n",
        "      <td> 0.034731</td>\n",
        "      <td> 0.035109</td>\n",
        "      <td> 0.035199</td>\n",
        "      <td> 0.035401</td>\n",
        "      <td> 0.035401</td>\n",
        "      <td>...</td>\n",
        "      <td> 0.030991</td>\n",
        "      <td> 0.030650</td>\n",
        "      <td> 0.026409</td>\n",
        "      <td> 0.024738</td>\n",
        "      <td> 0.028631</td>\n",
        "      <td> 0.031785</td>\n",
        "      <td> 0.032205</td>\n",
        "      <td> 0.032058</td>\n",
        "      <td> 0.032775</td>\n",
        "      <td> 0.034077</td>\n",
        "    </tr>\n",
        "    <tr>\n",
        "      <th>2</th>\n",
        "      <td> 527</td>\n",
        "      <td> 1</td>\n",
        "      <td> 0</td>\n",
        "      <td> 0</td>\n",
        "      <td> 0</td>\n",
        "      <td> 0.037531</td>\n",
        "      <td> 0.037581</td>\n",
        "      <td> 0.037542</td>\n",
        "      <td> 0.037527</td>\n",
        "      <td> 0.037415</td>\n",
        "      <td>...</td>\n",
        "      <td> 0.033461</td>\n",
        "      <td> 0.033694</td>\n",
        "      <td> 0.033419</td>\n",
        "      <td> 0.034118</td>\n",
        "      <td> 0.035231</td>\n",
        "      <td> 0.035795</td>\n",
        "      <td> 0.035876</td>\n",
        "      <td> 0.036282</td>\n",
        "      <td> 0.036646</td>\n",
        "      <td> 0.037228</td>\n",
        "    </tr>\n",
        "    <tr>\n",
        "      <th>3</th>\n",
        "      <td> 528</td>\n",
        "      <td> 0</td>\n",
        "      <td> 0</td>\n",
        "      <td> 0</td>\n",
        "      <td> 0</td>\n",
        "      <td> 0.034533</td>\n",
        "      <td> 0.034597</td>\n",
        "      <td> 0.034710</td>\n",
        "      <td> 0.034935</td>\n",
        "      <td> 0.034918</td>\n",
        "      <td>...</td>\n",
        "      <td> 0.031072</td>\n",
        "      <td> 0.030615</td>\n",
        "      <td> 0.028947</td>\n",
        "      <td> 0.029920</td>\n",
        "      <td> 0.030840</td>\n",
        "      <td> 0.031797</td>\n",
        "      <td> 0.032147</td>\n",
        "      <td> 0.032077</td>\n",
        "      <td> 0.032911</td>\n",
        "      <td> 0.033990</td>\n",
        "    </tr>\n",
        "    <tr>\n",
        "      <th>4</th>\n",
        "      <td> 529</td>\n",
        "      <td> 0</td>\n",
        "      <td> 0</td>\n",
        "      <td> 0</td>\n",
        "      <td> 0</td>\n",
        "      <td> 0.034530</td>\n",
        "      <td> 0.034827</td>\n",
        "      <td> 0.034940</td>\n",
        "      <td> 0.035125</td>\n",
        "      <td> 0.035108</td>\n",
        "      <td>...</td>\n",
        "      <td> 0.031541</td>\n",
        "      <td> 0.031213</td>\n",
        "      <td> 0.029601</td>\n",
        "      <td> 0.030463</td>\n",
        "      <td> 0.031309</td>\n",
        "      <td> 0.032118</td>\n",
        "      <td> 0.032382</td>\n",
        "      <td> 0.032375</td>\n",
        "      <td> 0.033004</td>\n",
        "      <td> 0.034343</td>\n",
        "    </tr>\n",
        "  </tbody>\n",
        "</table>\n",
        "<p>5 rows \u00d7 29 columns</p>\n",
        "</div>"
       ],
       "metadata": {},
       "output_type": "pyout",
       "prompt_number": 5,
       "text": [
        "    id  hvac  pv  ev  pool         0         1         2         3         4  \\\n",
        "0  525     1   0   0     0  0.037453  0.037476  0.037442  0.037427  0.037271   \n",
        "1  526     1   0   0     0  0.034731  0.035109  0.035199  0.035401  0.035401   \n",
        "2  527     1   0   0     0  0.037531  0.037581  0.037542  0.037527  0.037415   \n",
        "3  528     0   0   0     0  0.034533  0.034597  0.034710  0.034935  0.034918   \n",
        "4  529     0   0   0     0  0.034530  0.034827  0.034940  0.035125  0.035108   \n",
        "\n",
        "     ...           14        15        16        17        18        19  \\\n",
        "0    ...     0.034705  0.034894  0.034142  0.034595  0.035012  0.035581   \n",
        "1    ...     0.030991  0.030650  0.026409  0.024738  0.028631  0.031785   \n",
        "2    ...     0.033461  0.033694  0.033419  0.034118  0.035231  0.035795   \n",
        "3    ...     0.031072  0.030615  0.028947  0.029920  0.030840  0.031797   \n",
        "4    ...     0.031541  0.031213  0.029601  0.030463  0.031309  0.032118   \n",
        "\n",
        "         20        21        22        23  \n",
        "0  0.035797  0.036196  0.036532  0.037111  \n",
        "1  0.032205  0.032058  0.032775  0.034077  \n",
        "2  0.035876  0.036282  0.036646  0.037228  \n",
        "3  0.032147  0.032077  0.032911  0.033990  \n",
        "4  0.032382  0.032375  0.033004  0.034343  \n",
        "\n",
        "[5 rows x 29 columns]"
       ]
      }
     ],
     "prompt_number": 5
    },
    {
     "cell_type": "code",
     "collapsed": false,
     "input": [
      "def isViolation(df, label, centroid, theta):\n",
      "    centroid = np.array(centroid)\n",
      "    threshold = theta * LA.norm(centroid)\n",
      "    cluster = df[df['label'] == label]\n",
      "    for x in cluster.iterrows():\n",
      "        x = x[1]\n",
      "        x = x[timeNames]\n",
      "        x = np.array(x)\n",
      "        if LA.norm(x - centroid) > threshold:\n",
      "            return True\n",
      "    return False\n",
      "\n",
      "def findViolations(df, centroids, theta):\n",
      "    violations = []\n",
      "    for label in centroids['label']:\n",
      "        centroid = centroids[centroids['label'] == label][timeNames]\n",
      "        if isViolation(df, label, centroid, theta):\n",
      "            violations.append(label)\n",
      "    return violations\n",
      "\n",
      "def splitLabel(df, label, centroids):\n",
      "    km = KMeans(n_clusters=2, init='k-means++', max_iter=100, n_init=1)\n",
      "    cluster = df[df['label'] == label]\n",
      "    data = cluster[timeNames]\n",
      "    km.fit(data)\n",
      "    maxLabel = np.max(df['label'])\n",
      "    labelOffset = maxLabel + 1\n",
      "    newLabels = labelOffset + km.labels_\n",
      "    df.loc[df['label'] == label, 'label'] = newLabels\n",
      "    centroids = centroids[centroids['label'] != label]\n",
      "    # add new centroids\n",
      "    newCentroids = pd.DataFrame(km.cluster_centers_, columns=timeNames)\n",
      "    newCentroids['label'] = np.array([labelOffset, labelOffset + 1])\n",
      "    centroids = centroids.append(newCentroids)\n",
      "    return centroids"
     ],
     "language": "python",
     "metadata": {},
     "outputs": [],
     "prompt_number": 7
    },
    {
     "cell_type": "code",
     "collapsed": false,
     "input": [
      "#thetas = .01 * np.array(range(2, 9))\n",
      "#Ks = []\n",
      "\n",
      "#for theta in thetas:\n",
      "#    print theta\n",
      "\n",
      "doneWithClustering = False\n",
      "centroids = None\n",
      "K = minK\n",
      "theta = 0.05\n",
      "while not doneWithClustering:\n",
      "    # use centroids from last iteration\n",
      "    if centroids is None:\n",
      "        km = KMeans(n_clusters=K, init='k-means++', max_iter=100, n_init=1)\n",
      "    else:\n",
      "        km = KMeans(n_clusters=K, init=centroids.get(timeNames), max_iter=100, n_init=1)\n",
      "\n",
      "    data = df.get(timeNames)\n",
      "    km.fit(data)\n",
      "    df['label'] = km.labels_\n",
      "\n",
      "    centroids = pd.DataFrame(km.cluster_centers_, columns=timeNames)\n",
      "    centroids['label'] = range(centroids.shape[0])\n",
      "\n",
      "    n_v = findViolations(df, centroids, theta)\n",
      "    print n_v\n",
      "\n",
      "    if n_v == []:\n",
      "        doneWithClustering = True\n",
      "\n",
      "    K += len(n_v)\n",
      "    for label in n_v:\n",
      "        centroids = splitLabel(df, label, centroids)\n",
      "\n",
      "    #Ks.append(K)"
     ],
     "language": "python",
     "metadata": {},
     "outputs": [
      {
       "output_type": "stream",
       "stream": "stdout",
       "text": [
        "[0, 1, 2, 3, 4, 5, 6, 7, 8, 9]\n",
        "[0, 1, 2, 3, 4, 5, 7, 8, 9, 10, 11, 12, 13, 14, 15, 16, 17, 18, 19]"
       ]
      },
      {
       "output_type": "stream",
       "stream": "stdout",
       "text": [
        "\n",
        "[1, 2, 5, 6, 7, 9, 10, 11, 12, 14, 15, 16, 17, 18, 19, 21, 22, 23, 24, 25, 26, 27, 28, 29, 30, 31, 32, 33, 34, 35, 36, 37, 38]"
       ]
      },
      {
       "output_type": "stream",
       "stream": "stdout",
       "text": [
        "\n",
        "[9, 11, 12, 13, 14, 16, 17, 18, 19, 20, 21, 22, 23, 26, 27, 28, 29, 30, 31, 32, 33, 37, 39, 40, 41, 42, 45, 46, 51, 53, 56, 57, 58, 59, 60, 61, 62, 63, 64, 65, 66, 67, 68, 69, 70, 71]"
       ]
      },
      {
       "output_type": "stream",
       "stream": "stdout",
       "text": [
        "\n",
        "[27, 28, 29, 30, 36, 42, 44, 54, 55, 56, 58, 59, 60, 61, 62, 63, 65, 71, 72, 73, 74, 76, 78, 79, 80, 84, 85, 86, 87, 88, 90, 91, 92, 93, 94, 95, 96, 97, 98, 99, 100, 101, 102, 103, 104, 105, 106, 107, 108, 109, 110, 111, 112, 114, 115, 116, 117]"
       ]
      },
      {
       "output_type": "stream",
       "stream": "stdout",
       "text": [
        "\n",
        "[72, 75, 76, 77, 81, 84, 90, 91, 93, 94, 100, 101, 105, 106, 108, 115, 117, 122, 123, 124, 125, 126, 127, 128, 129, 133, 136, 145, 147, 152, 156, 158, 159, 162, 164, 166, 168, 170, 171, 172, 174]"
       ]
      }
     ]
    },
    {
     "cell_type": "code",
     "collapsed": false,
     "input": [
      "# Theta vs K plot\n",
      "#plt.plot(thetas, Ks, 'o-',  markerfacecolor='None', markeredgewidth=1, color='black')\n",
      "plt.title(\"Threshold and # of clusters\")\n",
      "plt.xlabel(\"Threshold, ${\\Theta}$\")\n",
      "plt.grid()\n",
      "plt.show()"
     ],
     "language": "python",
     "metadata": {},
     "outputs": [],
     "prompt_number": 14
    },
    {
     "cell_type": "code",
     "collapsed": false,
     "input": [
      "centroids.head()"
     ],
     "language": "python",
     "metadata": {},
     "outputs": [
      {
       "html": [
        "<div style=\"max-height:1000px;max-width:1500px;overflow:auto;\">\n",
        "<table border=\"1\" class=\"dataframe\">\n",
        "  <thead>\n",
        "    <tr style=\"text-align: right;\">\n",
        "      <th></th>\n",
        "      <th>0</th>\n",
        "      <th>1</th>\n",
        "      <th>2</th>\n",
        "      <th>3</th>\n",
        "      <th>4</th>\n",
        "      <th>5</th>\n",
        "      <th>6</th>\n",
        "      <th>7</th>\n",
        "      <th>8</th>\n",
        "      <th>9</th>\n",
        "      <th>...</th>\n",
        "      <th>16</th>\n",
        "      <th>17</th>\n",
        "      <th>18</th>\n",
        "      <th>19</th>\n",
        "      <th>20</th>\n",
        "      <th>21</th>\n",
        "      <th>22</th>\n",
        "      <th>23</th>\n",
        "      <th>label</th>\n",
        "      <th>size</th>\n",
        "    </tr>\n",
        "  </thead>\n",
        "  <tbody>\n",
        "    <tr>\n",
        "      <th>0</th>\n",
        "      <td> 0.038203</td>\n",
        "      <td> 0.038354</td>\n",
        "      <td> 0.038426</td>\n",
        "      <td> 0.038485</td>\n",
        "      <td> 0.038472</td>\n",
        "      <td> 0.038326</td>\n",
        "      <td> 0.038083</td>\n",
        "      <td> 0.037783</td>\n",
        "      <td> 0.037480</td>\n",
        "      <td> 0.037276</td>\n",
        "      <td>...</td>\n",
        "      <td> 0.036988</td>\n",
        "      <td> 0.036942</td>\n",
        "      <td> 0.036776</td>\n",
        "      <td> 0.036755</td>\n",
        "      <td> 0.036953</td>\n",
        "      <td> 0.037109</td>\n",
        "      <td> 0.037465</td>\n",
        "      <td> 0.037898</td>\n",
        "      <td> 0</td>\n",
        "      <td> 2230</td>\n",
        "    </tr>\n",
        "    <tr>\n",
        "      <th>1</th>\n",
        "      <td> 0.038464</td>\n",
        "      <td> 0.038585</td>\n",
        "      <td> 0.038635</td>\n",
        "      <td> 0.038684</td>\n",
        "      <td> 0.038689</td>\n",
        "      <td> 0.038574</td>\n",
        "      <td> 0.038402</td>\n",
        "      <td> 0.038188</td>\n",
        "      <td> 0.037963</td>\n",
        "      <td> 0.037813</td>\n",
        "      <td>...</td>\n",
        "      <td> 0.037591</td>\n",
        "      <td> 0.037598</td>\n",
        "      <td> 0.037495</td>\n",
        "      <td> 0.037468</td>\n",
        "      <td> 0.037626</td>\n",
        "      <td> 0.037705</td>\n",
        "      <td> 0.037934</td>\n",
        "      <td> 0.038230</td>\n",
        "      <td> 1</td>\n",
        "      <td> 1516</td>\n",
        "    </tr>\n",
        "    <tr>\n",
        "      <th>2</th>\n",
        "      <td> 0.033686</td>\n",
        "      <td> 0.034244</td>\n",
        "      <td> 0.034478</td>\n",
        "      <td> 0.034739</td>\n",
        "      <td> 0.034732</td>\n",
        "      <td> 0.034574</td>\n",
        "      <td> 0.034247</td>\n",
        "      <td> 0.033581</td>\n",
        "      <td> 0.032803</td>\n",
        "      <td> 0.032296</td>\n",
        "      <td>...</td>\n",
        "      <td> 0.029982</td>\n",
        "      <td> 0.030127</td>\n",
        "      <td> 0.029721</td>\n",
        "      <td> 0.029294</td>\n",
        "      <td> 0.029555</td>\n",
        "      <td> 0.030355</td>\n",
        "      <td> 0.031724</td>\n",
        "      <td> 0.033264</td>\n",
        "      <td> 2</td>\n",
        "      <td>  289</td>\n",
        "    </tr>\n",
        "    <tr>\n",
        "      <th>3</th>\n",
        "      <td> 0.036239</td>\n",
        "      <td> 0.036529</td>\n",
        "      <td> 0.036652</td>\n",
        "      <td> 0.036772</td>\n",
        "      <td> 0.036764</td>\n",
        "      <td> 0.036677</td>\n",
        "      <td> 0.036448</td>\n",
        "      <td> 0.036094</td>\n",
        "      <td> 0.035829</td>\n",
        "      <td> 0.035553</td>\n",
        "      <td>...</td>\n",
        "      <td> 0.034817</td>\n",
        "      <td> 0.034553</td>\n",
        "      <td> 0.033970</td>\n",
        "      <td> 0.033670</td>\n",
        "      <td> 0.033716</td>\n",
        "      <td> 0.034282</td>\n",
        "      <td> 0.035042</td>\n",
        "      <td> 0.035864</td>\n",
        "      <td> 3</td>\n",
        "      <td>  911</td>\n",
        "    </tr>\n",
        "    <tr>\n",
        "      <th>4</th>\n",
        "      <td> 0.035334</td>\n",
        "      <td> 0.035512</td>\n",
        "      <td> 0.035553</td>\n",
        "      <td> 0.035653</td>\n",
        "      <td> 0.035623</td>\n",
        "      <td> 0.035503</td>\n",
        "      <td> 0.035293</td>\n",
        "      <td> 0.035138</td>\n",
        "      <td> 0.034968</td>\n",
        "      <td> 0.034826</td>\n",
        "      <td>...</td>\n",
        "      <td> 0.034208</td>\n",
        "      <td> 0.033807</td>\n",
        "      <td> 0.033087</td>\n",
        "      <td> 0.032712</td>\n",
        "      <td> 0.032765</td>\n",
        "      <td> 0.033404</td>\n",
        "      <td> 0.034262</td>\n",
        "      <td> 0.035115</td>\n",
        "      <td> 4</td>\n",
        "      <td>  595</td>\n",
        "    </tr>\n",
        "  </tbody>\n",
        "</table>\n",
        "<p>5 rows \u00d7 26 columns</p>\n",
        "</div>"
       ],
       "metadata": {},
       "output_type": "pyout",
       "prompt_number": 15,
       "text": [
        "          0         1         2         3         4         5         6  \\\n",
        "0  0.038203  0.038354  0.038426  0.038485  0.038472  0.038326  0.038083   \n",
        "1  0.038464  0.038585  0.038635  0.038684  0.038689  0.038574  0.038402   \n",
        "2  0.033686  0.034244  0.034478  0.034739  0.034732  0.034574  0.034247   \n",
        "3  0.036239  0.036529  0.036652  0.036772  0.036764  0.036677  0.036448   \n",
        "4  0.035334  0.035512  0.035553  0.035653  0.035623  0.035503  0.035293   \n",
        "\n",
        "          7         8         9    ...           16        17        18  \\\n",
        "0  0.037783  0.037480  0.037276    ...     0.036988  0.036942  0.036776   \n",
        "1  0.038188  0.037963  0.037813    ...     0.037591  0.037598  0.037495   \n",
        "2  0.033581  0.032803  0.032296    ...     0.029982  0.030127  0.029721   \n",
        "3  0.036094  0.035829  0.035553    ...     0.034817  0.034553  0.033970   \n",
        "4  0.035138  0.034968  0.034826    ...     0.034208  0.033807  0.033087   \n",
        "\n",
        "         19        20        21        22        23  label  size  \n",
        "0  0.036755  0.036953  0.037109  0.037465  0.037898      0  2230  \n",
        "1  0.037468  0.037626  0.037705  0.037934  0.038230      1  1516  \n",
        "2  0.029294  0.029555  0.030355  0.031724  0.033264      2   289  \n",
        "3  0.033670  0.033716  0.034282  0.035042  0.035864      3   911  \n",
        "4  0.032712  0.032765  0.033404  0.034262  0.035115      4   595  \n",
        "\n",
        "[5 rows x 26 columns]"
       ]
      }
     ],
     "prompt_number": 15
    },
    {
     "cell_type": "code",
     "collapsed": false,
     "input": [
      "# Calculate size for each centroid\n",
      "def get_size(df, label):\n",
      "    return len(df[df['label'] == label])\n",
      "\n",
      "maxLabel = len(centroids)\n",
      "sizes = []\n",
      "for i in range(maxLabel):\n",
      "    sizes.append(get_size(df, i))\n",
      "centroids['size'] = sizes\n",
      "\n",
      "print sizes"
     ],
     "language": "python",
     "metadata": {},
     "outputs": [
      {
       "output_type": "stream",
       "stream": "stdout",
       "text": [
        "[2296, 1542, 842, 3188, 1165, 913, 475, 2117, 689, 296, 430, 122, 675, 450, 602, 360, 967, 816, 207, 370, 938, 488, 263, 292, 286, 86, 44, 73, 62, 69, 122, 136, 88, 75, 46, 38, 24, 12, 26, 650, 178, 179, 238, 195, 130, 58, 47, 636, 297, 158, 389, 233, 296, 465, 60, 54, 13, 5, 13, 751, 463, 713, 1034, 438, 924, 186, 127, 94, 293, 422, 175, 185, 264, 16, 72, 78, 133, 70, 112, 48, 64, 50, 18, 50, 40, 10, 68, 2, 18, 6, 12, 18, 14, 4, 8, 537, 151, 111, 237, 176, 49, 76, 37, 14, 52, 36, 54, 52, 40, 18, 44, 16, 17, 5, 78, 38, 32, 16, 38, 5, 12, 8, 36, 44, 29, 52, 23, 27, 41, 912, 443, 66, 67, 174, 49, 51, 127, 25, 89, 54, 94, 39, 92, 51, 40, 30, 48, 28, 12, 44, 4, 13, 7, 4, 58, 42, 2, 4, 8, 10, 8, 2, 589, 498, 16, 61, 5, 10, 32, 12, 20, 51, 4, 21, 15, 31, 76, 20, 22, 4, 4, 9, 4, 1, 6, 20, 68, 12, 3, 33, 5, 11, 5, 12, 7, 815, 809, 39, 15, 6, 14, 10, 77, 63, 51, 22, 1, 6, 2, 8, 2, 8, 6, 4, 9, 8, 8, 6, 30, 5, 8, 10, 2, 4, 9, 265, 2, 28, 60, 46, 42, 17, 16, 2, 16, 1, 8, 1, 12, 86, 1, 1, 5, 13, 12, 12, 4, 12, 2]\n"
       ]
      }
     ],
     "prompt_number": 37
    },
    {
     "cell_type": "code",
     "collapsed": false,
     "input": [
      "# Plot specific cluster\n",
      "def plot_cluster(label):\n",
      "    cluster = df[df['label'] == label]\n",
      "    for j in range(len(cluster)):\n",
      "        shape = []\n",
      "        for i in range(24):\n",
      "            shape.append(float(cluster.iloc[j:j+1, :][str(i)]))\n",
      "        plt.plot(shape, color='black')\n",
      "    centroid = []\n",
      "    for i in range(24):\n",
      "        centroid.append(float(centroids[centroids['label'] == label][str(i)]))\n",
      "    plt.plot(centroid, 'o', markerfacecolor='None', \n",
      "                markeredgewidth=2, markeredgecolor='red')\n",
      "    plt.xlabel('Hour')\n",
      "    plt.ylabel('Normal Usage')\n",
      "    plt.title('#' + str(label))\n",
      "    plt.show()\n",
      "\n",
      "# plot largest cluster\n",
      "#plot_cluster(int(centroids[centroids['size'] == max(sizes)]['label']))\n",
      "# plot a smaller cluster\n",
      "#plot_cluster(int(centroids[centroids['size'] == 595].iloc[0:1]['label']))"
     ],
     "language": "python",
     "metadata": {},
     "outputs": [],
     "prompt_number": 34
    },
    {
     "cell_type": "code",
     "collapsed": false,
     "input": [
      "# Hierarchical clustering starting here\n",
      "def closestLabels(centroids):\n",
      "    closestLabels = None\n",
      "    shortestDistance = None\n",
      "    for i in range(len(centroids)):\n",
      "        c_i = np.array(centroids.iloc[i : i + 1, : -2])\n",
      "        for j in range(len(centroids)):\n",
      "            if i == j:\n",
      "                continue\n",
      "            c_j = np.array(centroids.iloc[j : j + 1, : -2])\n",
      "            d_ij = LA.norm(c_i - c_j)\n",
      "            if shortestDistance == None or d_ij < shortestDistance:\n",
      "                shortestDistance = d_ij\n",
      "                l_i = int(centroids.iloc[i : i+1, : ]['label'].values[0])\n",
      "                l_j = int(centroids.iloc[j : j+1, : ]['label'].values[0])\n",
      "                closestLabels = (l_i, l_j)\n",
      "    return closestLabels\n",
      "\n",
      "def countViolation(df, label, centroid, theta):\n",
      "    centroid = np.array(centroid)\n",
      "    threshold = theta * LA.norm(centroid)\n",
      "    cluster = df[df['label'] == label]\n",
      "    v = 0\n",
      "    for x in cluster.iterrows():\n",
      "        x = x[1]\n",
      "        x = x[timeNames]\n",
      "        x = np.array(x)\n",
      "        if LA.norm(x - centroid) > threshold:\n",
      "            v += 1\n",
      "    return v\n",
      "\n",
      "def totViolations(df, centroids, theta):\n",
      "    violations = 0\n",
      "    for label in centroids['label']:\n",
      "        centroid = centroids[centroids['label'] == label][timeNames]\n",
      "        violations += countViolation(df, label, centroid, theta)\n",
      "    return violations\n",
      "\n",
      "while True:\n",
      "    (l_i, l_j) = closestLabels(centroids)\n",
      "    c_i = np.array(centroids[centroids['label'] == l_i].iloc[:, :-2])\n",
      "    c_j = np.array(centroids[centroids['label'] == l_j].iloc[:, :-2])\n",
      "    n_i = centroids[centroids['label'] == l_i]['size'].values[0]\n",
      "    n_j = centroids[centroids['label'] == l_j]['size'].values[0]\n",
      "    new_c = (n_i * c_i + n_j * c_j) / (n_i + n_j)\n",
      "    for i in range(len(centroids)):\n",
      "        label = centroids.iloc[i : i+1, :]['label'].values[0]\n",
      "        if label == l_i:\n",
      "            centroids.iloc[i : i+1, : -2] = new_c\n",
      "            centroids.iloc[i : i+1, : ]['size'] = n_i + n_j\n",
      "    # Delete one centroid\n",
      "    centroids = centroids.drop(l_j)\n",
      "    # Change all l2 label in df to l1\n",
      "    df.loc[df['label'] == l_j, 'label'] = l_i  \n",
      "    violations = totViolations(df, centroids, theta)\n",
      "    print len(centroids), violations\n",
      "    # Quit hierarchical clustering if violation is larger than 1%\n",
      "    if violations * 1.0 / len(all) >= 0.05:\n",
      "        break"
     ],
     "language": "python",
     "metadata": {},
     "outputs": [
      {
       "output_type": "stream",
       "stream": "stdout",
       "text": [
        "76 1450\n",
        "75"
       ]
      },
      {
       "output_type": "stream",
       "stream": "stdout",
       "text": [
        " 1450\n",
        "74"
       ]
      },
      {
       "output_type": "stream",
       "stream": "stdout",
       "text": [
        " 1454\n",
        "73"
       ]
      },
      {
       "output_type": "stream",
       "stream": "stdout",
       "text": [
        " 1455\n",
        "72"
       ]
      },
      {
       "output_type": "stream",
       "stream": "stdout",
       "text": [
        " 1465\n",
        "71"
       ]
      },
      {
       "output_type": "stream",
       "stream": "stdout",
       "text": [
        " 1497\n",
        "70"
       ]
      },
      {
       "output_type": "stream",
       "stream": "stdout",
       "text": [
        " 1501\n",
        "69"
       ]
      },
      {
       "output_type": "stream",
       "stream": "stdout",
       "text": [
        " 1507\n",
        "68"
       ]
      },
      {
       "output_type": "stream",
       "stream": "stdout",
       "text": [
        " 1519\n",
        "67"
       ]
      },
      {
       "output_type": "stream",
       "stream": "stdout",
       "text": [
        " 1529\n",
        "66"
       ]
      },
      {
       "output_type": "stream",
       "stream": "stdout",
       "text": [
        " 1576\n",
        "65"
       ]
      },
      {
       "output_type": "stream",
       "stream": "stdout",
       "text": [
        " 1590\n",
        "64"
       ]
      },
      {
       "output_type": "stream",
       "stream": "stdout",
       "text": [
        " 1602\n",
        "63"
       ]
      },
      {
       "output_type": "stream",
       "stream": "stdout",
       "text": [
        " 2086\n",
        "62"
       ]
      },
      {
       "output_type": "stream",
       "stream": "stdout",
       "text": [
        " 2715\n",
        "61"
       ]
      },
      {
       "output_type": "stream",
       "stream": "stdout",
       "text": [
        " 2740\n",
        "60"
       ]
      },
      {
       "output_type": "stream",
       "stream": "stdout",
       "text": [
        " 2752\n",
        "59"
       ]
      },
      {
       "output_type": "stream",
       "stream": "stdout",
       "text": [
        " 2759\n",
        "58"
       ]
      },
      {
       "output_type": "stream",
       "stream": "stdout",
       "text": [
        " 2792\n",
        "57"
       ]
      },
      {
       "output_type": "stream",
       "stream": "stdout",
       "text": [
        " 2833\n",
        "56"
       ]
      },
      {
       "output_type": "stream",
       "stream": "stdout",
       "text": [
        " 2924\n",
        "55"
       ]
      },
      {
       "output_type": "stream",
       "stream": "stdout",
       "text": [
        " 2984\n",
        "54"
       ]
      },
      {
       "output_type": "stream",
       "stream": "stdout",
       "text": [
        " 3048\n",
        "53"
       ]
      },
      {
       "output_type": "stream",
       "stream": "stdout",
       "text": [
        " 3070\n",
        "52"
       ]
      },
      {
       "output_type": "stream",
       "stream": "stdout",
       "text": [
        " 3076\n",
        "51"
       ]
      },
      {
       "output_type": "stream",
       "stream": "stdout",
       "text": [
        " 3096\n",
        "50"
       ]
      },
      {
       "output_type": "stream",
       "stream": "stdout",
       "text": [
        " 3098\n",
        "49"
       ]
      },
      {
       "output_type": "stream",
       "stream": "stdout",
       "text": [
        " 3116\n",
        "48"
       ]
      },
      {
       "output_type": "stream",
       "stream": "stdout",
       "text": [
        " 3157\n",
        "47"
       ]
      },
      {
       "output_type": "stream",
       "stream": "stdout",
       "text": [
        " 3664\n",
        "46"
       ]
      },
      {
       "output_type": "stream",
       "stream": "stdout",
       "text": [
        " 3778\n",
        "45"
       ]
      },
      {
       "output_type": "stream",
       "stream": "stdout",
       "text": [
        " 3866\n",
        "44"
       ]
      },
      {
       "output_type": "stream",
       "stream": "stdout",
       "text": [
        " 3878\n",
        "43"
       ]
      },
      {
       "output_type": "stream",
       "stream": "stdout",
       "text": [
        " 3881\n",
        "42"
       ]
      },
      {
       "output_type": "stream",
       "stream": "stdout",
       "text": [
        " 3890\n",
        "41"
       ]
      },
      {
       "output_type": "stream",
       "stream": "stdout",
       "text": [
        " 4093\n",
        "40"
       ]
      },
      {
       "output_type": "stream",
       "stream": "stdout",
       "text": [
        " 4332\n",
        "39"
       ]
      },
      {
       "output_type": "stream",
       "stream": "stdout",
       "text": [
        " 4333\n",
        "38"
       ]
      },
      {
       "output_type": "stream",
       "stream": "stdout",
       "text": [
        " 4347\n",
        "37"
       ]
      },
      {
       "output_type": "stream",
       "stream": "stdout",
       "text": [
        " 4560\n",
        "36"
       ]
      },
      {
       "output_type": "stream",
       "stream": "stdout",
       "text": [
        " 4882\n",
        "35"
       ]
      },
      {
       "output_type": "stream",
       "stream": "stdout",
       "text": [
        " 4932\n",
        "34"
       ]
      },
      {
       "output_type": "stream",
       "stream": "stdout",
       "text": [
        " 4950\n",
        "33"
       ]
      },
      {
       "output_type": "stream",
       "stream": "stdout",
       "text": [
        " 4954\n",
        "32"
       ]
      },
      {
       "output_type": "stream",
       "stream": "stdout",
       "text": [
        " 4960\n",
        "31"
       ]
      },
      {
       "output_type": "stream",
       "stream": "stdout",
       "text": [
        " 5000\n",
        "30"
       ]
      },
      {
       "output_type": "stream",
       "stream": "stdout",
       "text": [
        " 5005\n",
        "29"
       ]
      },
      {
       "output_type": "stream",
       "stream": "stdout",
       "text": [
        " 8980\n",
        "28"
       ]
      },
      {
       "output_type": "stream",
       "stream": "stdout",
       "text": [
        " 8981\n",
        "27"
       ]
      },
      {
       "output_type": "stream",
       "stream": "stdout",
       "text": [
        " 8982\n",
        "26"
       ]
      },
      {
       "output_type": "stream",
       "stream": "stdout",
       "text": [
        " 9111\n",
        "25"
       ]
      },
      {
       "output_type": "stream",
       "stream": "stdout",
       "text": [
        " 9127\n",
        "24"
       ]
      },
      {
       "output_type": "stream",
       "stream": "stdout",
       "text": [
        " 9268\n",
        "23"
       ]
      },
      {
       "output_type": "stream",
       "stream": "stdout",
       "text": [
        " 9270\n",
        "22"
       ]
      },
      {
       "output_type": "stream",
       "stream": "stdout",
       "text": [
        " 9361\n",
        "21"
       ]
      },
      {
       "output_type": "stream",
       "stream": "stdout",
       "text": [
        " 9609\n",
        "20"
       ]
      },
      {
       "output_type": "stream",
       "stream": "stdout",
       "text": [
        " 9749\n"
       ]
      },
      {
       "ename": "KeyboardInterrupt",
       "evalue": "",
       "output_type": "pyerr",
       "traceback": [
        "\u001b[0;31m---------------------------------------------------------------------------\u001b[0m\n\u001b[0;31mKeyboardInterrupt\u001b[0m                         Traceback (most recent call last)",
        "\u001b[0;32m<ipython-input-43-c3c601155ce3>\u001b[0m in \u001b[0;36m<module>\u001b[0;34m()\u001b[0m\n\u001b[1;32m     53\u001b[0m     \u001b[0;31m# Change all l2 label in df to l1\u001b[0m\u001b[0;34m\u001b[0m\u001b[0;34m\u001b[0m\u001b[0m\n\u001b[1;32m     54\u001b[0m     \u001b[0mdf\u001b[0m\u001b[0;34m.\u001b[0m\u001b[0mloc\u001b[0m\u001b[0;34m[\u001b[0m\u001b[0mdf\u001b[0m\u001b[0;34m[\u001b[0m\u001b[0;34m'label'\u001b[0m\u001b[0;34m]\u001b[0m \u001b[0;34m==\u001b[0m \u001b[0ml_j\u001b[0m\u001b[0;34m,\u001b[0m \u001b[0;34m'label'\u001b[0m\u001b[0;34m]\u001b[0m \u001b[0;34m=\u001b[0m \u001b[0ml_i\u001b[0m\u001b[0;34m\u001b[0m\u001b[0m\n\u001b[0;32m---> 55\u001b[0;31m     \u001b[0mviolations\u001b[0m \u001b[0;34m=\u001b[0m \u001b[0mtotViolations\u001b[0m\u001b[0;34m(\u001b[0m\u001b[0mdf\u001b[0m\u001b[0;34m,\u001b[0m \u001b[0mcentroids\u001b[0m\u001b[0;34m,\u001b[0m \u001b[0mtheta\u001b[0m\u001b[0;34m)\u001b[0m\u001b[0;34m\u001b[0m\u001b[0m\n\u001b[0m\u001b[1;32m     56\u001b[0m     \u001b[0;32mprint\u001b[0m \u001b[0mlen\u001b[0m\u001b[0;34m(\u001b[0m\u001b[0mcentroids\u001b[0m\u001b[0;34m)\u001b[0m\u001b[0;34m,\u001b[0m \u001b[0mviolations\u001b[0m\u001b[0;34m\u001b[0m\u001b[0m\n\u001b[1;32m     57\u001b[0m     \u001b[0;31m# Quit hierarchical clustering if violation is larger than 1%\u001b[0m\u001b[0;34m\u001b[0m\u001b[0;34m\u001b[0m\u001b[0m\n",
        "\u001b[0;32m<ipython-input-43-c3c601155ce3>\u001b[0m in \u001b[0;36mtotViolations\u001b[0;34m(df, centroids, theta)\u001b[0m\n\u001b[1;32m     34\u001b[0m     \u001b[0;32mfor\u001b[0m \u001b[0mlabel\u001b[0m \u001b[0;32min\u001b[0m \u001b[0mcentroids\u001b[0m\u001b[0;34m[\u001b[0m\u001b[0;34m'label'\u001b[0m\u001b[0;34m]\u001b[0m\u001b[0;34m:\u001b[0m\u001b[0;34m\u001b[0m\u001b[0m\n\u001b[1;32m     35\u001b[0m         \u001b[0mcentroid\u001b[0m \u001b[0;34m=\u001b[0m \u001b[0mcentroids\u001b[0m\u001b[0;34m[\u001b[0m\u001b[0mcentroids\u001b[0m\u001b[0;34m[\u001b[0m\u001b[0;34m'label'\u001b[0m\u001b[0;34m]\u001b[0m \u001b[0;34m==\u001b[0m \u001b[0mlabel\u001b[0m\u001b[0;34m]\u001b[0m\u001b[0;34m[\u001b[0m\u001b[0mtimeNames\u001b[0m\u001b[0;34m]\u001b[0m\u001b[0;34m\u001b[0m\u001b[0m\n\u001b[0;32m---> 36\u001b[0;31m         \u001b[0mviolations\u001b[0m \u001b[0;34m+=\u001b[0m \u001b[0mcountViolation\u001b[0m\u001b[0;34m(\u001b[0m\u001b[0mdf\u001b[0m\u001b[0;34m,\u001b[0m \u001b[0mlabel\u001b[0m\u001b[0;34m,\u001b[0m \u001b[0mcentroid\u001b[0m\u001b[0;34m,\u001b[0m \u001b[0mtheta\u001b[0m\u001b[0;34m)\u001b[0m\u001b[0;34m\u001b[0m\u001b[0m\n\u001b[0m\u001b[1;32m     37\u001b[0m     \u001b[0;32mreturn\u001b[0m \u001b[0mviolations\u001b[0m\u001b[0;34m\u001b[0m\u001b[0m\n\u001b[1;32m     38\u001b[0m \u001b[0;34m\u001b[0m\u001b[0m\n",
        "\u001b[0;32m<ipython-input-43-c3c601155ce3>\u001b[0m in \u001b[0;36mcountViolation\u001b[0;34m(df, label, centroid, theta)\u001b[0m\n\u001b[1;32m     24\u001b[0m     \u001b[0;32mfor\u001b[0m \u001b[0mx\u001b[0m \u001b[0;32min\u001b[0m \u001b[0mcluster\u001b[0m\u001b[0;34m.\u001b[0m\u001b[0miterrows\u001b[0m\u001b[0;34m(\u001b[0m\u001b[0;34m)\u001b[0m\u001b[0;34m:\u001b[0m\u001b[0;34m\u001b[0m\u001b[0m\n\u001b[1;32m     25\u001b[0m         \u001b[0mx\u001b[0m \u001b[0;34m=\u001b[0m \u001b[0mx\u001b[0m\u001b[0;34m[\u001b[0m\u001b[0;36m1\u001b[0m\u001b[0;34m]\u001b[0m\u001b[0;34m\u001b[0m\u001b[0m\n\u001b[0;32m---> 26\u001b[0;31m         \u001b[0mx\u001b[0m \u001b[0;34m=\u001b[0m \u001b[0mx\u001b[0m\u001b[0;34m[\u001b[0m\u001b[0mtimeNames\u001b[0m\u001b[0;34m]\u001b[0m\u001b[0;34m\u001b[0m\u001b[0m\n\u001b[0m\u001b[1;32m     27\u001b[0m         \u001b[0mx\u001b[0m \u001b[0;34m=\u001b[0m \u001b[0mnp\u001b[0m\u001b[0;34m.\u001b[0m\u001b[0marray\u001b[0m\u001b[0;34m(\u001b[0m\u001b[0mx\u001b[0m\u001b[0;34m)\u001b[0m\u001b[0;34m\u001b[0m\u001b[0m\n\u001b[1;32m     28\u001b[0m         \u001b[0;32mif\u001b[0m \u001b[0mLA\u001b[0m\u001b[0;34m.\u001b[0m\u001b[0mnorm\u001b[0m\u001b[0;34m(\u001b[0m\u001b[0mx\u001b[0m \u001b[0;34m-\u001b[0m \u001b[0mcentroid\u001b[0m\u001b[0;34m)\u001b[0m \u001b[0;34m>\u001b[0m \u001b[0mthreshold\u001b[0m\u001b[0;34m:\u001b[0m\u001b[0;34m\u001b[0m\u001b[0m\n",
        "\u001b[0;32m/Users/kexinrong/anaconda/lib/python2.7/site-packages/pandas/core/series.pyc\u001b[0m in \u001b[0;36m__getitem__\u001b[0;34m(self, key)\u001b[0m\n\u001b[1;32m    522\u001b[0m             \u001b[0mkey\u001b[0m \u001b[0;34m=\u001b[0m \u001b[0m_check_bool_indexer\u001b[0m\u001b[0;34m(\u001b[0m\u001b[0mself\u001b[0m\u001b[0;34m.\u001b[0m\u001b[0mindex\u001b[0m\u001b[0;34m,\u001b[0m \u001b[0mkey\u001b[0m\u001b[0;34m)\u001b[0m\u001b[0;34m\u001b[0m\u001b[0m\n\u001b[1;32m    523\u001b[0m \u001b[0;34m\u001b[0m\u001b[0m\n\u001b[0;32m--> 524\u001b[0;31m         \u001b[0;32mreturn\u001b[0m \u001b[0mself\u001b[0m\u001b[0;34m.\u001b[0m\u001b[0m_get_with\u001b[0m\u001b[0;34m(\u001b[0m\u001b[0mkey\u001b[0m\u001b[0;34m)\u001b[0m\u001b[0;34m\u001b[0m\u001b[0m\n\u001b[0m\u001b[1;32m    525\u001b[0m \u001b[0;34m\u001b[0m\u001b[0m\n\u001b[1;32m    526\u001b[0m     \u001b[0;32mdef\u001b[0m \u001b[0m_get_with\u001b[0m\u001b[0;34m(\u001b[0m\u001b[0mself\u001b[0m\u001b[0;34m,\u001b[0m \u001b[0mkey\u001b[0m\u001b[0;34m)\u001b[0m\u001b[0;34m:\u001b[0m\u001b[0;34m\u001b[0m\u001b[0m\n",
        "\u001b[0;32m/Users/kexinrong/anaconda/lib/python2.7/site-packages/pandas/core/series.pyc\u001b[0m in \u001b[0;36m_get_with\u001b[0;34m(self, key)\u001b[0m\n\u001b[1;32m    560\u001b[0m                     \u001b[0;31m# handle the dup indexing case (GH 4246)\u001b[0m\u001b[0;34m\u001b[0m\u001b[0;34m\u001b[0m\u001b[0m\n\u001b[1;32m    561\u001b[0m                     \u001b[0;32mif\u001b[0m \u001b[0misinstance\u001b[0m\u001b[0;34m(\u001b[0m\u001b[0mkey\u001b[0m\u001b[0;34m,\u001b[0m \u001b[0;34m(\u001b[0m\u001b[0mlist\u001b[0m\u001b[0;34m,\u001b[0m \u001b[0mtuple\u001b[0m\u001b[0;34m)\u001b[0m\u001b[0;34m)\u001b[0m\u001b[0;34m:\u001b[0m\u001b[0;34m\u001b[0m\u001b[0m\n\u001b[0;32m--> 562\u001b[0;31m                         \u001b[0;32mreturn\u001b[0m \u001b[0mself\u001b[0m\u001b[0;34m.\u001b[0m\u001b[0mix\u001b[0m\u001b[0;34m[\u001b[0m\u001b[0mkey\u001b[0m\u001b[0;34m]\u001b[0m\u001b[0;34m\u001b[0m\u001b[0m\n\u001b[0m\u001b[1;32m    563\u001b[0m \u001b[0;34m\u001b[0m\u001b[0m\n\u001b[1;32m    564\u001b[0m                     \u001b[0;32mreturn\u001b[0m \u001b[0mself\u001b[0m\u001b[0;34m.\u001b[0m\u001b[0mreindex\u001b[0m\u001b[0;34m(\u001b[0m\u001b[0mkey\u001b[0m\u001b[0;34m)\u001b[0m\u001b[0;34m\u001b[0m\u001b[0m\n",
        "\u001b[0;32m/Users/kexinrong/anaconda/lib/python2.7/site-packages/pandas/core/indexing.pyc\u001b[0m in \u001b[0;36m__getitem__\u001b[0;34m(self, key)\u001b[0m\n\u001b[1;32m     69\u001b[0m             \u001b[0;32mreturn\u001b[0m \u001b[0mself\u001b[0m\u001b[0;34m.\u001b[0m\u001b[0m_getitem_tuple\u001b[0m\u001b[0;34m(\u001b[0m\u001b[0mkey\u001b[0m\u001b[0;34m)\u001b[0m\u001b[0;34m\u001b[0m\u001b[0m\n\u001b[1;32m     70\u001b[0m         \u001b[0;32melse\u001b[0m\u001b[0;34m:\u001b[0m\u001b[0;34m\u001b[0m\u001b[0m\n\u001b[0;32m---> 71\u001b[0;31m             \u001b[0;32mreturn\u001b[0m \u001b[0mself\u001b[0m\u001b[0;34m.\u001b[0m\u001b[0m_getitem_axis\u001b[0m\u001b[0;34m(\u001b[0m\u001b[0mkey\u001b[0m\u001b[0;34m,\u001b[0m \u001b[0maxis\u001b[0m\u001b[0;34m=\u001b[0m\u001b[0;36m0\u001b[0m\u001b[0;34m)\u001b[0m\u001b[0;34m\u001b[0m\u001b[0m\n\u001b[0m\u001b[1;32m     72\u001b[0m \u001b[0;34m\u001b[0m\u001b[0m\n\u001b[1;32m     73\u001b[0m     \u001b[0;32mdef\u001b[0m \u001b[0m_get_label\u001b[0m\u001b[0;34m(\u001b[0m\u001b[0mself\u001b[0m\u001b[0;34m,\u001b[0m \u001b[0mlabel\u001b[0m\u001b[0;34m,\u001b[0m \u001b[0maxis\u001b[0m\u001b[0;34m=\u001b[0m\u001b[0;36m0\u001b[0m\u001b[0;34m)\u001b[0m\u001b[0;34m:\u001b[0m\u001b[0;34m\u001b[0m\u001b[0m\n",
        "\u001b[0;32m/Users/kexinrong/anaconda/lib/python2.7/site-packages/pandas/core/indexing.pyc\u001b[0m in \u001b[0;36m_getitem_axis\u001b[0;34m(self, key, axis, validate_iterable)\u001b[0m\n\u001b[1;32m    866\u001b[0m                 \u001b[0;32mraise\u001b[0m \u001b[0mValueError\u001b[0m\u001b[0;34m(\u001b[0m\u001b[0;34m'Cannot index with multidimensional key'\u001b[0m\u001b[0;34m)\u001b[0m\u001b[0;34m\u001b[0m\u001b[0m\n\u001b[1;32m    867\u001b[0m \u001b[0;34m\u001b[0m\u001b[0m\n\u001b[0;32m--> 868\u001b[0;31m             \u001b[0;32mreturn\u001b[0m \u001b[0mself\u001b[0m\u001b[0;34m.\u001b[0m\u001b[0m_getitem_iterable\u001b[0m\u001b[0;34m(\u001b[0m\u001b[0mkey\u001b[0m\u001b[0;34m,\u001b[0m \u001b[0maxis\u001b[0m\u001b[0;34m=\u001b[0m\u001b[0maxis\u001b[0m\u001b[0;34m)\u001b[0m\u001b[0;34m\u001b[0m\u001b[0m\n\u001b[0m\u001b[1;32m    869\u001b[0m         \u001b[0;32melse\u001b[0m\u001b[0;34m:\u001b[0m\u001b[0;34m\u001b[0m\u001b[0m\n\u001b[1;32m    870\u001b[0m             \u001b[0;32mif\u001b[0m \u001b[0mcom\u001b[0m\u001b[0;34m.\u001b[0m\u001b[0mis_integer\u001b[0m\u001b[0;34m(\u001b[0m\u001b[0mkey\u001b[0m\u001b[0;34m)\u001b[0m\u001b[0;34m:\u001b[0m\u001b[0;34m\u001b[0m\u001b[0m\n",
        "\u001b[0;32m/Users/kexinrong/anaconda/lib/python2.7/site-packages/pandas/core/indexing.pyc\u001b[0m in \u001b[0;36m_getitem_iterable\u001b[0;34m(self, key, axis)\u001b[0m\n\u001b[1;32m    922\u001b[0m             \u001b[0;31m# existing labels are unique and indexer is unique\u001b[0m\u001b[0;34m\u001b[0m\u001b[0;34m\u001b[0m\u001b[0m\n\u001b[1;32m    923\u001b[0m             \u001b[0;32mif\u001b[0m \u001b[0mlabels\u001b[0m\u001b[0;34m.\u001b[0m\u001b[0mis_unique\u001b[0m \u001b[0;32mand\u001b[0m \u001b[0mkeyarr_is_unique\u001b[0m\u001b[0;34m:\u001b[0m\u001b[0;34m\u001b[0m\u001b[0m\n\u001b[0;32m--> 924\u001b[0;31m                 \u001b[0;32mreturn\u001b[0m \u001b[0m_reindex\u001b[0m\u001b[0;34m(\u001b[0m\u001b[0mkeyarr\u001b[0m\u001b[0;34m,\u001b[0m \u001b[0mlevel\u001b[0m\u001b[0;34m=\u001b[0m\u001b[0mlevel\u001b[0m\u001b[0;34m)\u001b[0m\u001b[0;34m\u001b[0m\u001b[0m\n\u001b[0m\u001b[1;32m    925\u001b[0m \u001b[0;34m\u001b[0m\u001b[0m\n\u001b[1;32m    926\u001b[0m             \u001b[0;32melse\u001b[0m\u001b[0;34m:\u001b[0m\u001b[0;34m\u001b[0m\u001b[0m\n",
        "\u001b[0;32m/Users/kexinrong/anaconda/lib/python2.7/site-packages/pandas/core/indexing.pyc\u001b[0m in \u001b[0;36m_reindex\u001b[0;34m(keys, level)\u001b[0m\n\u001b[1;32m    887\u001b[0m         \u001b[0;32mdef\u001b[0m \u001b[0m_reindex\u001b[0m\u001b[0;34m(\u001b[0m\u001b[0mkeys\u001b[0m\u001b[0;34m,\u001b[0m \u001b[0mlevel\u001b[0m\u001b[0;34m=\u001b[0m\u001b[0mNone\u001b[0m\u001b[0;34m)\u001b[0m\u001b[0;34m:\u001b[0m\u001b[0;34m\u001b[0m\u001b[0m\n\u001b[1;32m    888\u001b[0m             \u001b[0;32mtry\u001b[0m\u001b[0;34m:\u001b[0m\u001b[0;34m\u001b[0m\u001b[0m\n\u001b[0;32m--> 889\u001b[0;31m                 \u001b[0;32mreturn\u001b[0m \u001b[0mself\u001b[0m\u001b[0;34m.\u001b[0m\u001b[0mobj\u001b[0m\u001b[0;34m.\u001b[0m\u001b[0mreindex_axis\u001b[0m\u001b[0;34m(\u001b[0m\u001b[0mkeys\u001b[0m\u001b[0;34m,\u001b[0m \u001b[0maxis\u001b[0m\u001b[0;34m=\u001b[0m\u001b[0maxis\u001b[0m\u001b[0;34m,\u001b[0m \u001b[0mlevel\u001b[0m\u001b[0;34m=\u001b[0m\u001b[0mlevel\u001b[0m\u001b[0;34m)\u001b[0m\u001b[0;34m\u001b[0m\u001b[0m\n\u001b[0m\u001b[1;32m    890\u001b[0m             \u001b[0;32mexcept\u001b[0m \u001b[0mAttributeError\u001b[0m\u001b[0;34m:\u001b[0m\u001b[0;34m\u001b[0m\u001b[0m\n\u001b[1;32m    891\u001b[0m                 \u001b[0;31m# Series\u001b[0m\u001b[0;34m\u001b[0m\u001b[0;34m\u001b[0m\u001b[0m\n",
        "\u001b[0;32m/Users/kexinrong/anaconda/lib/python2.7/site-packages/pandas/core/series.pyc\u001b[0m in \u001b[0;36mreindex_axis\u001b[0;34m(self, labels, axis, **kwargs)\u001b[0m\n\u001b[1;32m   2037\u001b[0m         \u001b[0;32mif\u001b[0m \u001b[0maxis\u001b[0m \u001b[0;34m!=\u001b[0m \u001b[0;36m0\u001b[0m\u001b[0;34m:\u001b[0m\u001b[0;34m\u001b[0m\u001b[0m\n\u001b[1;32m   2038\u001b[0m             \u001b[0;32mraise\u001b[0m \u001b[0mValueError\u001b[0m\u001b[0;34m(\u001b[0m\u001b[0;34m\"cannot reindex series on non-zero axis!\"\u001b[0m\u001b[0;34m)\u001b[0m\u001b[0;34m\u001b[0m\u001b[0m\n\u001b[0;32m-> 2039\u001b[0;31m         \u001b[0;32mreturn\u001b[0m \u001b[0mself\u001b[0m\u001b[0;34m.\u001b[0m\u001b[0mreindex\u001b[0m\u001b[0;34m(\u001b[0m\u001b[0mindex\u001b[0m\u001b[0;34m=\u001b[0m\u001b[0mlabels\u001b[0m\u001b[0;34m,\u001b[0m \u001b[0;34m**\u001b[0m\u001b[0mkwargs\u001b[0m\u001b[0;34m)\u001b[0m\u001b[0;34m\u001b[0m\u001b[0m\n\u001b[0m\u001b[1;32m   2040\u001b[0m \u001b[0;34m\u001b[0m\u001b[0m\n\u001b[1;32m   2041\u001b[0m     \u001b[0;32mdef\u001b[0m \u001b[0mtake\u001b[0m\u001b[0;34m(\u001b[0m\u001b[0mself\u001b[0m\u001b[0;34m,\u001b[0m \u001b[0mindices\u001b[0m\u001b[0;34m,\u001b[0m \u001b[0maxis\u001b[0m\u001b[0;34m=\u001b[0m\u001b[0;36m0\u001b[0m\u001b[0;34m,\u001b[0m \u001b[0mconvert\u001b[0m\u001b[0;34m=\u001b[0m\u001b[0mTrue\u001b[0m\u001b[0;34m,\u001b[0m \u001b[0mis_copy\u001b[0m\u001b[0;34m=\u001b[0m\u001b[0mFalse\u001b[0m\u001b[0;34m)\u001b[0m\u001b[0;34m:\u001b[0m\u001b[0;34m\u001b[0m\u001b[0m\n",
        "\u001b[0;32m/Users/kexinrong/anaconda/lib/python2.7/site-packages/pandas/core/series.pyc\u001b[0m in \u001b[0;36mreindex\u001b[0;34m(self, index, **kwargs)\u001b[0m\n\u001b[1;32m   2031\u001b[0m     \u001b[0;34m@\u001b[0m\u001b[0mAppender\u001b[0m\u001b[0;34m(\u001b[0m\u001b[0mgeneric\u001b[0m\u001b[0;34m.\u001b[0m\u001b[0m_shared_docs\u001b[0m\u001b[0;34m[\u001b[0m\u001b[0;34m'reindex'\u001b[0m\u001b[0;34m]\u001b[0m \u001b[0;34m%\u001b[0m \u001b[0m_shared_doc_kwargs\u001b[0m\u001b[0;34m)\u001b[0m\u001b[0;34m\u001b[0m\u001b[0m\n\u001b[1;32m   2032\u001b[0m     \u001b[0;32mdef\u001b[0m \u001b[0mreindex\u001b[0m\u001b[0;34m(\u001b[0m\u001b[0mself\u001b[0m\u001b[0;34m,\u001b[0m \u001b[0mindex\u001b[0m\u001b[0;34m=\u001b[0m\u001b[0mNone\u001b[0m\u001b[0;34m,\u001b[0m \u001b[0;34m**\u001b[0m\u001b[0mkwargs\u001b[0m\u001b[0;34m)\u001b[0m\u001b[0;34m:\u001b[0m\u001b[0;34m\u001b[0m\u001b[0m\n\u001b[0;32m-> 2033\u001b[0;31m         \u001b[0;32mreturn\u001b[0m \u001b[0msuper\u001b[0m\u001b[0;34m(\u001b[0m\u001b[0mSeries\u001b[0m\u001b[0;34m,\u001b[0m \u001b[0mself\u001b[0m\u001b[0;34m)\u001b[0m\u001b[0;34m.\u001b[0m\u001b[0mreindex\u001b[0m\u001b[0;34m(\u001b[0m\u001b[0mindex\u001b[0m\u001b[0;34m=\u001b[0m\u001b[0mindex\u001b[0m\u001b[0;34m,\u001b[0m \u001b[0;34m**\u001b[0m\u001b[0mkwargs\u001b[0m\u001b[0;34m)\u001b[0m\u001b[0;34m\u001b[0m\u001b[0m\n\u001b[0m\u001b[1;32m   2034\u001b[0m \u001b[0;34m\u001b[0m\u001b[0m\n\u001b[1;32m   2035\u001b[0m     \u001b[0;32mdef\u001b[0m \u001b[0mreindex_axis\u001b[0m\u001b[0;34m(\u001b[0m\u001b[0mself\u001b[0m\u001b[0;34m,\u001b[0m \u001b[0mlabels\u001b[0m\u001b[0;34m,\u001b[0m \u001b[0maxis\u001b[0m\u001b[0;34m=\u001b[0m\u001b[0;36m0\u001b[0m\u001b[0;34m,\u001b[0m \u001b[0;34m**\u001b[0m\u001b[0mkwargs\u001b[0m\u001b[0;34m)\u001b[0m\u001b[0;34m:\u001b[0m\u001b[0;34m\u001b[0m\u001b[0m\n",
        "\u001b[0;32m/Users/kexinrong/anaconda/lib/python2.7/site-packages/pandas/core/generic.pyc\u001b[0m in \u001b[0;36mreindex\u001b[0;34m(self, *args, **kwargs)\u001b[0m\n\u001b[1;32m   1622\u001b[0m         \u001b[0;31m# perform the reindex on the axes\u001b[0m\u001b[0;34m\u001b[0m\u001b[0;34m\u001b[0m\u001b[0m\n\u001b[1;32m   1623\u001b[0m         return self._reindex_axes(axes, level, limit,\n\u001b[0;32m-> 1624\u001b[0;31m                                   method, fill_value, copy).__finalize__(self)\n\u001b[0m\u001b[1;32m   1625\u001b[0m \u001b[0;34m\u001b[0m\u001b[0m\n\u001b[1;32m   1626\u001b[0m     \u001b[0;32mdef\u001b[0m \u001b[0m_reindex_axes\u001b[0m\u001b[0;34m(\u001b[0m\u001b[0mself\u001b[0m\u001b[0;34m,\u001b[0m \u001b[0maxes\u001b[0m\u001b[0;34m,\u001b[0m \u001b[0mlevel\u001b[0m\u001b[0;34m,\u001b[0m \u001b[0mlimit\u001b[0m\u001b[0;34m,\u001b[0m \u001b[0mmethod\u001b[0m\u001b[0;34m,\u001b[0m \u001b[0mfill_value\u001b[0m\u001b[0;34m,\u001b[0m \u001b[0mcopy\u001b[0m\u001b[0;34m)\u001b[0m\u001b[0;34m:\u001b[0m\u001b[0;34m\u001b[0m\u001b[0m\n",
        "\u001b[0;32m/Users/kexinrong/anaconda/lib/python2.7/site-packages/pandas/core/generic.pyc\u001b[0m in \u001b[0;36m_reindex_axes\u001b[0;34m(self, axes, level, limit, method, fill_value, copy)\u001b[0m\n\u001b[1;32m   1635\u001b[0m             \u001b[0max\u001b[0m \u001b[0;34m=\u001b[0m \u001b[0mself\u001b[0m\u001b[0;34m.\u001b[0m\u001b[0m_get_axis\u001b[0m\u001b[0;34m(\u001b[0m\u001b[0ma\u001b[0m\u001b[0;34m)\u001b[0m\u001b[0;34m\u001b[0m\u001b[0m\n\u001b[1;32m   1636\u001b[0m             \u001b[0;32mif\u001b[0m \u001b[0mlevel\u001b[0m \u001b[0;32mis\u001b[0m \u001b[0mNone\u001b[0m\u001b[0;34m:\u001b[0m\u001b[0;34m\u001b[0m\u001b[0m\n\u001b[0;32m-> 1637\u001b[0;31m                 \u001b[0mlabels\u001b[0m \u001b[0;34m=\u001b[0m \u001b[0m_ensure_index\u001b[0m\u001b[0;34m(\u001b[0m\u001b[0mlabels\u001b[0m\u001b[0;34m)\u001b[0m\u001b[0;34m\u001b[0m\u001b[0m\n\u001b[0m\u001b[1;32m   1638\u001b[0m \u001b[0;34m\u001b[0m\u001b[0m\n\u001b[1;32m   1639\u001b[0m             \u001b[0maxis\u001b[0m \u001b[0;34m=\u001b[0m \u001b[0mself\u001b[0m\u001b[0;34m.\u001b[0m\u001b[0m_get_axis_number\u001b[0m\u001b[0;34m(\u001b[0m\u001b[0ma\u001b[0m\u001b[0;34m)\u001b[0m\u001b[0;34m\u001b[0m\u001b[0m\n",
        "\u001b[0;32m/Users/kexinrong/anaconda/lib/python2.7/site-packages/pandas/core/index.pyc\u001b[0m in \u001b[0;36m_ensure_index\u001b[0;34m(index_like, copy)\u001b[0m\n\u001b[1;32m   3961\u001b[0m             \u001b[0mindex_like\u001b[0m \u001b[0;34m=\u001b[0m \u001b[0mcopy\u001b[0m\u001b[0;34m(\u001b[0m\u001b[0mindex_like\u001b[0m\u001b[0;34m)\u001b[0m\u001b[0;34m\u001b[0m\u001b[0m\n\u001b[1;32m   3962\u001b[0m \u001b[0;34m\u001b[0m\u001b[0m\n\u001b[0;32m-> 3963\u001b[0;31m     \u001b[0;32mreturn\u001b[0m \u001b[0mIndex\u001b[0m\u001b[0;34m(\u001b[0m\u001b[0mindex_like\u001b[0m\u001b[0;34m)\u001b[0m\u001b[0;34m\u001b[0m\u001b[0m\n\u001b[0m\u001b[1;32m   3964\u001b[0m \u001b[0;34m\u001b[0m\u001b[0m\n\u001b[1;32m   3965\u001b[0m \u001b[0;34m\u001b[0m\u001b[0m\n",
        "\u001b[0;32m/Users/kexinrong/anaconda/lib/python2.7/site-packages/pandas/core/index.pyc\u001b[0m in \u001b[0;36m__new__\u001b[0;34m(cls, data, dtype, copy, name, fastpath, tupleize_cols, **kwargs)\u001b[0m\n\u001b[1;32m    186\u001b[0m                     \u001b[0;32mreturn\u001b[0m \u001b[0mPeriodIndex\u001b[0m\u001b[0;34m(\u001b[0m\u001b[0msubarr\u001b[0m\u001b[0;34m,\u001b[0m \u001b[0mname\u001b[0m\u001b[0;34m=\u001b[0m\u001b[0mname\u001b[0m\u001b[0;34m,\u001b[0m \u001b[0;34m**\u001b[0m\u001b[0mkwargs\u001b[0m\u001b[0;34m)\u001b[0m\u001b[0;34m\u001b[0m\u001b[0m\n\u001b[1;32m    187\u001b[0m \u001b[0;34m\u001b[0m\u001b[0m\n\u001b[0;32m--> 188\u001b[0;31m         \u001b[0msubarr\u001b[0m \u001b[0;34m=\u001b[0m \u001b[0msubarr\u001b[0m\u001b[0;34m.\u001b[0m\u001b[0mview\u001b[0m\u001b[0;34m(\u001b[0m\u001b[0mcls\u001b[0m\u001b[0;34m)\u001b[0m\u001b[0;34m\u001b[0m\u001b[0m\n\u001b[0m\u001b[1;32m    189\u001b[0m         \u001b[0;31m# could also have a _set_name, but I don't think it's really necessary\u001b[0m\u001b[0;34m\u001b[0m\u001b[0;34m\u001b[0m\u001b[0m\n\u001b[1;32m    190\u001b[0m         \u001b[0msubarr\u001b[0m\u001b[0;34m.\u001b[0m\u001b[0m_set_names\u001b[0m\u001b[0;34m(\u001b[0m\u001b[0;34m[\u001b[0m\u001b[0mname\u001b[0m\u001b[0;34m]\u001b[0m\u001b[0;34m)\u001b[0m\u001b[0;34m\u001b[0m\u001b[0m\n",
        "\u001b[0;32m/Users/kexinrong/anaconda/lib/python2.7/site-packages/pandas/core/index.pyc\u001b[0m in \u001b[0;36m__array_finalize__\u001b[0;34m(self, obj)\u001b[0m\n\u001b[1;32m    256\u001b[0m     \u001b[0;32mdef\u001b[0m \u001b[0m__array_finalize__\u001b[0m\u001b[0;34m(\u001b[0m\u001b[0mself\u001b[0m\u001b[0;34m,\u001b[0m \u001b[0mobj\u001b[0m\u001b[0;34m)\u001b[0m\u001b[0;34m:\u001b[0m\u001b[0;34m\u001b[0m\u001b[0m\n\u001b[1;32m    257\u001b[0m         \u001b[0mself\u001b[0m\u001b[0;34m.\u001b[0m\u001b[0m_reset_identity\u001b[0m\u001b[0;34m(\u001b[0m\u001b[0;34m)\u001b[0m\u001b[0;34m\u001b[0m\u001b[0m\n\u001b[0;32m--> 258\u001b[0;31m         \u001b[0;32mif\u001b[0m \u001b[0;32mnot\u001b[0m \u001b[0misinstance\u001b[0m\u001b[0;34m(\u001b[0m\u001b[0mobj\u001b[0m\u001b[0;34m,\u001b[0m \u001b[0mtype\u001b[0m\u001b[0;34m(\u001b[0m\u001b[0mself\u001b[0m\u001b[0;34m)\u001b[0m\u001b[0;34m)\u001b[0m\u001b[0;34m:\u001b[0m\u001b[0;34m\u001b[0m\u001b[0m\n\u001b[0m\u001b[1;32m    259\u001b[0m             \u001b[0;31m# Only relevant if array being created from an Index instance\u001b[0m\u001b[0;34m\u001b[0m\u001b[0;34m\u001b[0m\u001b[0m\n\u001b[1;32m    260\u001b[0m             \u001b[0;32mreturn\u001b[0m\u001b[0;34m\u001b[0m\u001b[0m\n",
        "\u001b[0;31mKeyboardInterrupt\u001b[0m: "
       ]
      }
     ],
     "prompt_number": 43
    },
    {
     "cell_type": "code",
     "collapsed": false,
     "input": [
      "#df.head()\n",
      "violations / len(all)"
     ],
     "language": "python",
     "metadata": {},
     "outputs": [
      {
       "metadata": {},
       "output_type": "pyout",
       "prompt_number": 46,
       "text": [
        "0"
       ]
      }
     ],
     "prompt_number": 46
    },
    {
     "cell_type": "code",
     "collapsed": false,
     "input": [
      "sizes = []\n",
      "labelsWithHvac = []\n",
      "hvacDistribution = []\n",
      "labelsWithPv = []\n",
      "pvDistribution = []\n",
      "labelsWithEv = []\n",
      "evDistribution = []\n",
      "labelsWithPool = []\n",
      "poolDistribution = []\n",
      "maxLabel = np.max(df['label'])\n",
      "for i in range(maxLabel):\n",
      "    cluster = df[df['label'] == i]\n",
      "    sizes.append(cluster.shape[0])\n",
      "    if np.sum(cluster['hvac']) > 0:\n",
      "        hvacDistribution.append(np.sum(cluster['hvac']))\n",
      "        labelsWithHvac.append(i)\n",
      "    if np.sum(cluster['pv']) > 0:\n",
      "        pvDistribution.append(np.sum(cluster['pv']))\n",
      "        labelsWithPv.append(i)\n",
      "    if np.sum(cluster['ev']) > 0:\n",
      "        evDistribution.append(np.sum(cluster['ev']))\n",
      "        labelsWithEv.append(i)\n",
      "    if np.sum(cluster['pool']) > 0:\n",
      "        poolDistribution.append(np.sum(cluster['pool']))\n",
      "        labelsWithPool.append(i)\n"
     ],
     "language": "python",
     "metadata": {},
     "outputs": [],
     "prompt_number": 214
    },
    {
     "cell_type": "code",
     "collapsed": false,
     "input": [
      "labels = range(maxLabel)\n",
      "plt.scatter(labels, sizes)\n",
      "#plt.scatter(labelsWithHvac, hvacDistribution, s = 100, c = 'orange', alpha = .5)\n",
      "#plt.scatter(labelsWithPv, pvDistribution, s = 100, c = 'r', alpha = .5)\n",
      "#plt.scatter(labelsWithEv, evDistribution, s = 100, c = 'g', alpha = .5)\n",
      "#plt.scatter(labelsWithPool, poolDistribution, s = 100, c = 'y', alpha = .5)\n",
      "plt.ylim([-1, 500])\n",
      "\n",
      "fig = plt.gcf()\n",
      "fig.set_size_inches(10, 10)\n",
      "plt.show()"
     ],
     "language": "python",
     "metadata": {},
     "outputs": [],
     "prompt_number": 110
    },
    {
     "cell_type": "code",
     "collapsed": false,
     "input": [
      "def plotCluster(label):\n",
      "    cluster = df[df['label'] == label][timeNames]\n",
      "    for row in cluster.iterrows():\n",
      "        plt.scatter(range(24), row[1])\n",
      "\n",
      "plotCluster(33)"
     ],
     "language": "python",
     "metadata": {},
     "outputs": [],
     "prompt_number": 62
    },
    {
     "cell_type": "code",
     "collapsed": false,
     "input": [
      "# critical valuefor two-tailed t-test with significance level = 0.05\n",
      "t_1 = 1.965\n",
      "t_2 = -1.965\n",
      "\n",
      "def calc_t_score(X1, X2, N1, N2):\n",
      "    S1 = X1 * (1 - X1)\n",
      "    S2 = X2 * (1 - X2)\n",
      "    T = (X1 - X2) / (math.sqrt(1.0 / N1 + 1.0 / N2) * math.sqrt(((N1 - 1) * S1 + (N2 - 1) * S2) / (N1 + N2 - 2)))\n",
      "    return T"
     ],
     "language": "python",
     "metadata": {},
     "outputs": [],
     "prompt_number": 215
    },
    {
     "cell_type": "code",
     "collapsed": false,
     "input": [
      "# T-tests for EVs    \n",
      "N1 = len(df[df['ev'] == 1])\n",
      "N2 = len(df) - N1\n",
      "rejected = 0\n",
      "for label in labelsWithEv:\n",
      "    cluster = df[df['label'] == label]\n",
      "    X1 = np.sum(cluster['ev']) / N1\n",
      "    X2 = len(cluster) * 1.0 / N2\n",
      "    T = calc_t_score(X1, X2, N1, N2)\n",
      "    if T > t_1 or T < t_2:\n",
      "        rejected += 1\n",
      "print str(rejected * 100.0 / len(labelsWithEv)) + \"% rejected\" "
     ],
     "language": "python",
     "metadata": {},
     "outputs": [
      {
       "output_type": "stream",
       "stream": "stdout",
       "text": [
        "78.2608695652% rejected\n"
       ]
      }
     ],
     "prompt_number": 216
    },
    {
     "cell_type": "code",
     "collapsed": false,
     "input": [
      "# T-tests for pools    \n",
      "N1 = len(df[df['pool'] == 1])\n",
      "N2 = len(df) - N1\n",
      "rejected = 0\n",
      "for label in labelsWithPool:\n",
      "    cluster = df[df['label'] == label]\n",
      "    X1 = np.sum(cluster['pool']) / N1\n",
      "    X2 = len(cluster) * 1.0 / N2\n",
      "    T = calc_t_score(X1, X2, N1, N2)\n",
      "    if T > t_1 or T < t_2:\n",
      "        rejected += 1\n",
      "print str(rejected * 100.0 / len(labelsWithPool)) + \"% rejected\" "
     ],
     "language": "python",
     "metadata": {},
     "outputs": [
      {
       "output_type": "stream",
       "stream": "stdout",
       "text": [
        "57.1428571429% rejected\n"
       ]
      }
     ],
     "prompt_number": 217
    },
    {
     "cell_type": "code",
     "collapsed": false,
     "input": [
      "# T-tests for hvac    \n",
      "N1 = len(df[df['hvac'] == 1])\n",
      "N2 = len(df) - N1\n",
      "rejected = 0\n",
      "for label in labelsWithHvac:\n",
      "    cluster = df[df['label'] == label]\n",
      "    X1 = np.sum(cluster['hvac']) / N1\n",
      "    X2 = len(cluster) * 1.0 / N2\n",
      "    T = calc_t_score(X1, X2, N1, N2)\n",
      "    if T > t_1 or T < t_2:\n",
      "        rejected += 1\n",
      "print str(rejected * 100.0 / len(labelsWithHvac)) + \"% rejected\" "
     ],
     "language": "python",
     "metadata": {},
     "outputs": [
      {
       "output_type": "stream",
       "stream": "stdout",
       "text": [
        "76.4925373134% rejected\n"
       ]
      }
     ],
     "prompt_number": 218
    },
    {
     "cell_type": "code",
     "collapsed": false,
     "input": [
      "# T-tests for pv    \n",
      "N1 = len(df[df['pv'] == 1])\n",
      "N2 = len(df) - N1\n",
      "rejected = 0\n",
      "for label in labelsWithPv:\n",
      "    cluster = df[df['label'] == label]\n",
      "    X1 = np.sum(cluster['pv']) / N1\n",
      "    X2 = len(cluster) * 1.0 / N2\n",
      "    T = calc_t_score(X1, X2, N1, N2)\n",
      "    if T > t_1 or T < t_2:\n",
      "        rejected += 1\n",
      "print str(rejected * 100.0 / len(labelsWithPv)) + \"% rejected\" "
     ],
     "language": "python",
     "metadata": {},
     "outputs": [
      {
       "output_type": "stream",
       "stream": "stdout",
       "text": [
        "44.1860465116% rejected\n"
       ]
      }
     ],
     "prompt_number": 219
    },
    {
     "cell_type": "code",
     "collapsed": false,
     "input": [],
     "language": "python",
     "metadata": {},
     "outputs": []
    },
    {
     "cell_type": "code",
     "collapsed": false,
     "input": [],
     "language": "python",
     "metadata": {},
     "outputs": []
    }
   ],
   "metadata": {}
  }
 ]
}