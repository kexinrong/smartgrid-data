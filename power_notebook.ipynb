{
 "metadata": {
  "name": "",
  "signature": "sha256:f1888a977be64a653fc5b33719a53fb8a48a2d355e0ac5dd38f9fba3f18576ab"
 },
 "nbformat": 3,
 "nbformat_minor": 0,
 "worksheets": [
  {
   "cells": [
    {
     "cell_type": "code",
     "collapsed": false,
     "input": [
      "import pandas as pd\n",
      "import numpy as np\n",
      "import math\n",
      "import matplotlib.pyplot as plt\n",
      "import numpy.linalg as LA\n",
      "from sklearn.cluster import KMeans, MiniBatchKMeans\n",
      "\n",
      "fileName = \"data/load/2012baseline_07.txt\"\n",
      "\n",
      "\n",
      "with open(fileName, 'r') as dataFile:\n",
      "  firstLine = dataFile.readline()\n",
      "  vectorLength = int(firstLine)\n",
      "minK = 10\n",
      "all = np.loadtxt(fileName, skiprows=1)"
     ],
     "language": "python",
     "metadata": {},
     "outputs": [],
     "prompt_number": 3
    },
    {
     "cell_type": "code",
     "collapsed": false,
     "input": [
      "# LOAD: Normalize by dividing sum of absolute values\n",
      "for i in range(len(all)):\n",
      "    tot = 0\n",
      "    for j in range(vectorLength):\n",
      "        tot += abs(all[i][j + 7])\n",
      "    for j in range(vectorLength):\n",
      "        all[i][j + 7] /= tot"
     ],
     "language": "python",
     "metadata": {},
     "outputs": [],
     "prompt_number": 4
    },
    {
     "cell_type": "code",
     "collapsed": false,
     "input": [
      "timeNames = map(str, range(vectorLength))\n",
      "columnNames = ['id', 'hops', 'resistance','hvac', 'pv', 'ev', 'pool'] + map(str, range(vectorLength))\n",
      "\n",
      "df = pd.DataFrame(all, columns=columnNames)"
     ],
     "language": "python",
     "metadata": {},
     "outputs": [],
     "prompt_number": 5
    },
    {
     "cell_type": "code",
     "collapsed": false,
     "input": [
      "df.head()"
     ],
     "language": "python",
     "metadata": {},
     "outputs": [
      {
       "html": [
        "<div style=\"max-height:1000px;max-width:1500px;overflow:auto;\">\n",
        "<table border=\"1\" class=\"dataframe\">\n",
        "  <thead>\n",
        "    <tr style=\"text-align: right;\">\n",
        "      <th></th>\n",
        "      <th>id</th>\n",
        "      <th>hops</th>\n",
        "      <th>resistance</th>\n",
        "      <th>hvac</th>\n",
        "      <th>pv</th>\n",
        "      <th>ev</th>\n",
        "      <th>pool</th>\n",
        "      <th>0</th>\n",
        "      <th>1</th>\n",
        "      <th>2</th>\n",
        "      <th>...</th>\n",
        "      <th>14</th>\n",
        "      <th>15</th>\n",
        "      <th>16</th>\n",
        "      <th>17</th>\n",
        "      <th>18</th>\n",
        "      <th>19</th>\n",
        "      <th>20</th>\n",
        "      <th>21</th>\n",
        "      <th>22</th>\n",
        "      <th>23</th>\n",
        "    </tr>\n",
        "  </thead>\n",
        "  <tbody>\n",
        "    <tr>\n",
        "      <th>0</th>\n",
        "      <td> 525</td>\n",
        "      <td> 25</td>\n",
        "      <td> 0.0835</td>\n",
        "      <td> 1</td>\n",
        "      <td> 0</td>\n",
        "      <td> 0</td>\n",
        "      <td> 0</td>\n",
        "      <td> 0.013888</td>\n",
        "      <td> 0.013125</td>\n",
        "      <td> 0.013125</td>\n",
        "      <td>...</td>\n",
        "      <td> 0.050287</td>\n",
        "      <td> 0.051038</td>\n",
        "      <td> 0.086624</td>\n",
        "      <td> 0.057654</td>\n",
        "      <td> 0.068819</td>\n",
        "      <td> 0.081031</td>\n",
        "      <td> 0.067861</td>\n",
        "      <td> 0.040335</td>\n",
        "      <td> 0.026146</td>\n",
        "      <td> 0.016804</td>\n",
        "    </tr>\n",
        "    <tr>\n",
        "      <th>1</th>\n",
        "      <td> 526</td>\n",
        "      <td> 25</td>\n",
        "      <td> 0.0832</td>\n",
        "      <td> 1</td>\n",
        "      <td> 0</td>\n",
        "      <td> 0</td>\n",
        "      <td> 0</td>\n",
        "      <td> 0.014649</td>\n",
        "      <td> 0.010597</td>\n",
        "      <td> 0.009456</td>\n",
        "      <td>...</td>\n",
        "      <td> 0.026254</td>\n",
        "      <td> 0.026269</td>\n",
        "      <td> 0.155788</td>\n",
        "      <td> 0.285426</td>\n",
        "      <td> 0.140990</td>\n",
        "      <td> 0.028401</td>\n",
        "      <td> 0.031013</td>\n",
        "      <td> 0.040146</td>\n",
        "      <td> 0.041782</td>\n",
        "      <td> 0.021832</td>\n",
        "    </tr>\n",
        "    <tr>\n",
        "      <th>2</th>\n",
        "      <td> 527</td>\n",
        "      <td> 23</td>\n",
        "      <td> 0.0832</td>\n",
        "      <td> 1</td>\n",
        "      <td> 0</td>\n",
        "      <td> 0</td>\n",
        "      <td> 0</td>\n",
        "      <td> 0.010228</td>\n",
        "      <td> 0.007238</td>\n",
        "      <td> 0.007065</td>\n",
        "      <td>...</td>\n",
        "      <td> 0.142337</td>\n",
        "      <td> 0.138371</td>\n",
        "      <td> 0.118594</td>\n",
        "      <td> 0.082319</td>\n",
        "      <td> 0.032062</td>\n",
        "      <td> 0.040173</td>\n",
        "      <td> 0.044131</td>\n",
        "      <td> 0.029681</td>\n",
        "      <td> 0.018969</td>\n",
        "      <td> 0.011410</td>\n",
        "    </tr>\n",
        "    <tr>\n",
        "      <th>3</th>\n",
        "      <td> 528</td>\n",
        "      <td> 23</td>\n",
        "      <td> 0.0832</td>\n",
        "      <td> 0</td>\n",
        "      <td> 0</td>\n",
        "      <td> 0</td>\n",
        "      <td> 0</td>\n",
        "      <td> 0.041171</td>\n",
        "      <td> 0.064303</td>\n",
        "      <td> 0.061151</td>\n",
        "      <td>...</td>\n",
        "      <td> 0.025988</td>\n",
        "      <td> 0.026041</td>\n",
        "      <td> 0.026192</td>\n",
        "      <td> 0.028277</td>\n",
        "      <td> 0.037513</td>\n",
        "      <td> 0.042344</td>\n",
        "      <td> 0.051320</td>\n",
        "      <td> 0.064141</td>\n",
        "      <td> 0.064813</td>\n",
        "      <td> 0.045716</td>\n",
        "    </tr>\n",
        "    <tr>\n",
        "      <th>4</th>\n",
        "      <td> 529</td>\n",
        "      <td> 20</td>\n",
        "      <td> 0.0831</td>\n",
        "      <td> 0</td>\n",
        "      <td> 0</td>\n",
        "      <td> 0</td>\n",
        "      <td> 0</td>\n",
        "      <td> 0.048675</td>\n",
        "      <td> 0.047390</td>\n",
        "      <td> 0.045035</td>\n",
        "      <td>...</td>\n",
        "      <td> 0.034841</td>\n",
        "      <td> 0.034888</td>\n",
        "      <td> 0.035606</td>\n",
        "      <td> 0.041859</td>\n",
        "      <td> 0.043622</td>\n",
        "      <td> 0.047075</td>\n",
        "      <td> 0.054222</td>\n",
        "      <td> 0.055438</td>\n",
        "      <td> 0.064112</td>\n",
        "      <td> 0.027129</td>\n",
        "    </tr>\n",
        "  </tbody>\n",
        "</table>\n",
        "<p>5 rows \u00d7 31 columns</p>\n",
        "</div>"
       ],
       "metadata": {},
       "output_type": "pyout",
       "prompt_number": 6,
       "text": [
        "    id  hops  resistance  hvac  pv  ev  pool         0         1         2  \\\n",
        "0  525    25      0.0835     1   0   0     0  0.013888  0.013125  0.013125   \n",
        "1  526    25      0.0832     1   0   0     0  0.014649  0.010597  0.009456   \n",
        "2  527    23      0.0832     1   0   0     0  0.010228  0.007238  0.007065   \n",
        "3  528    23      0.0832     0   0   0     0  0.041171  0.064303  0.061151   \n",
        "4  529    20      0.0831     0   0   0     0  0.048675  0.047390  0.045035   \n",
        "\n",
        "     ...           14        15        16        17        18        19  \\\n",
        "0    ...     0.050287  0.051038  0.086624  0.057654  0.068819  0.081031   \n",
        "1    ...     0.026254  0.026269  0.155788  0.285426  0.140990  0.028401   \n",
        "2    ...     0.142337  0.138371  0.118594  0.082319  0.032062  0.040173   \n",
        "3    ...     0.025988  0.026041  0.026192  0.028277  0.037513  0.042344   \n",
        "4    ...     0.034841  0.034888  0.035606  0.041859  0.043622  0.047075   \n",
        "\n",
        "         20        21        22        23  \n",
        "0  0.067861  0.040335  0.026146  0.016804  \n",
        "1  0.031013  0.040146  0.041782  0.021832  \n",
        "2  0.044131  0.029681  0.018969  0.011410  \n",
        "3  0.051320  0.064141  0.064813  0.045716  \n",
        "4  0.054222  0.055438  0.064112  0.027129  \n",
        "\n",
        "[5 rows x 31 columns]"
       ]
      }
     ],
     "prompt_number": 6
    },
    {
     "cell_type": "code",
     "collapsed": false,
     "input": [
      "def isViolation(df, label, centroid, theta):\n",
      "    centroid = np.array(centroid)\n",
      "    threshold = theta * LA.norm(centroid)\n",
      "    cluster = df[df['label'] == label]\n",
      "    for x in cluster.iterrows():\n",
      "        x = x[1]\n",
      "        x = x[timeNames]\n",
      "        x = np.array(x)\n",
      "        if LA.norm(x - centroid) > threshold:\n",
      "            return True\n",
      "    return False\n",
      "\n",
      "def findViolations(df, centroids, theta):\n",
      "    violations = []\n",
      "    for label in centroids['label']:\n",
      "        centroid = centroids[centroids['label'] == label][timeNames]\n",
      "        if isViolation(df, label, centroid, theta):\n",
      "            violations.append(label)\n",
      "    return violations\n",
      "\n",
      "def splitLabel(df, label, centroids):\n",
      "    km = KMeans(n_clusters=2, init='k-means++', max_iter=100, n_init=1)\n",
      "    cluster = df[df['label'] == label]\n",
      "    data = cluster[timeNames]\n",
      "    km.fit(data)\n",
      "    maxLabel = np.max(df['label'])\n",
      "    labelOffset = maxLabel + 1\n",
      "    newLabels = labelOffset + km.labels_\n",
      "    df.loc[df['label'] == label, 'label'] = newLabels\n",
      "    centroids = centroids[centroids['label'] != label]\n",
      "    # add new centroids\n",
      "    newCentroids = pd.DataFrame(km.cluster_centers_, columns=timeNames)\n",
      "    newCentroids['label'] = np.array([labelOffset, labelOffset + 1])\n",
      "    centroids = centroids.append(newCentroids)\n",
      "    return centroids"
     ],
     "language": "python",
     "metadata": {},
     "outputs": [],
     "prompt_number": 7
    },
    {
     "cell_type": "code",
     "collapsed": false,
     "input": [
      "# thetas = .1 * np.array(range(2, 9))\n",
      "# Ks = []\n",
      "\n",
      "theta = .6\n",
      "\n",
      "doneWithClustering = False\n",
      "centroids = None\n",
      "K = minK\n",
      "while not doneWithClustering:\n",
      "    # use centroids from last iteration\n",
      "    if centroids is None:\n",
      "        km = KMeans(n_clusters=K, init='k-means++', max_iter=100, n_init=1)\n",
      "    else:\n",
      "        km = KMeans(n_clusters=K, init=centroids.get(timeNames), max_iter=100, n_init=1)\n",
      "    \n",
      "    data = df.get(timeNames)\n",
      "    km.fit(data)\n",
      "    df['label'] = km.labels_\n",
      "\n",
      "    centroids = pd.DataFrame(km.cluster_centers_, columns=timeNames)\n",
      "    centroids['label'] = range(centroids.shape[0])\n",
      "\n",
      "    n_v = findViolations(df, centroids, theta)\n",
      "\n",
      "    if n_v == []:\n",
      "        doneWithClustering = True\n",
      "\n",
      "    K += len(n_v)\n",
      "    for label in n_v:\n",
      "        centroids = splitLabel(df, label, centroids)"
     ],
     "language": "python",
     "metadata": {},
     "outputs": [],
     "prompt_number": 8
    },
    {
     "cell_type": "code",
     "collapsed": false,
     "input": [
      "# Theta vs K plot\n",
      "plt.plot(thetas, Ks, 'o-',  markerfacecolor='None', markeredgewidth=1, color='black')\n",
      "plt.title(\"Threshold and # of clusters\")\n",
      "plt.xlabel(\"Threshold, ${\\Theta}$\")\n",
      "plt.grid()\n",
      "plt.show()"
     ],
     "language": "python",
     "metadata": {},
     "outputs": [
      {
       "metadata": {},
       "output_type": "display_data",
       "png": "[encoded data removed]",
       "text": [
        "<matplotlib.figure.Figure at 0x7fa278376750>"
       ]
      }
     ],
     "prompt_number": 9
    },
    {
     "cell_type": "code",
     "collapsed": false,
     "input": [
      "# Calculate size for each centroid\n",
      "def get_size(df, label):\n",
      "    return len(df[df['label'] == label])\n",
      "\n",
      "maxLabel = len(centroids)\n",
      "sizes = []\n",
      "for i in range(maxLabel):\n",
      "    sizes.append(get_size(df, i))\n",
      "centroids['size'] = sizes\n",
      "\n",
      "print sizes"
     ],
     "language": "python",
     "metadata": {},
     "outputs": [
      {
       "output_type": "stream",
       "stream": "stdout",
       "text": [
        "[30, 786, 183, 386, 868, 437, 384, 889, 36, 26, 41, 21, 305, 244, 104, 95, 27, 127, 61, 69, 93, 56, 58, 649, 748, 880, 301, 430, 47, 22, 56, 130, 187, 48, 215, 1119, 481, 635, 744, 735, 1552, 55, 4, 21, 13, 9, 265, 26, 63, 80, 618, 413, 93, 111, 102, 35, 68, 71, 43, 732, 1087, 766, 418, 1052, 697, 1023, 1165, 49, 119, 109, 235, 75, 618, 77, 162, 49, 12, 40, 103, 159, 172, 91, 139, 34, 225, 342, 308, 234, 149, 59, 132, 65, 105, 96, 35, 43, 144, 70, 48, 2, 53, 25, 3, 168, 63, 134, 145, 5, 54, 30, 73, 94, 135, 39, 78, 97, 119, 70, 83, 120, 116, 50, 56, 26, 8, 12, 78, 11, 9, 12, 66, 23, 81, 111, 102, 152, 152, 15, 5, 75, 91, 109, 75, 246, 15, 29, 3, 40, 113, 42, 39, 32, 64, 102, 31, 116, 5, 61, 21, 44, 22, 150, 88, 125, 13, 68, 14, 39, 140, 2, 86, 26, 25, 4, 69, 18, 1, 40, 148, 32, 14, 95, 4, 53, 80, 18, 14, 150, 20, 90, 128, 61, 63, 81, 85, 76, 208, 369, 42, 156, 52, 43, 20, 4, 13, 2, 31, 40, 42, 15, 2, 163, 41, 112, 26, 30, 308, 150, 313, 22, 36, 166, 77, 19, 15, 3, 126, 1, 30, 5, 62, 35, 12, 116, 98, 134, 33, 112, 62, 31, 153, 124, 23, 86, 39, 19, 99, 78, 31, 88, 8, 34, 31, 55, 4, 821, 79, 65, 92, 73, 35, 109, 144, 74, 40, 58, 44, 4, 66, 1, 9, 26, 12, 48, 14, 119, 37, 2, 66, 24, 131, 47, 7, 57, 71, 22, 35, 9, 67, 10, 192, 17, 70, 1040, 21, 1, 56, 24, 31, 61, 80, 56, 8, 26, 2, 12, 3]\n"
       ]
      }
     ],
     "prompt_number": 12
    },
    {
     "cell_type": "code",
     "collapsed": false,
     "input": [
      "centroids['size'][r]"
     ],
     "language": "python",
     "metadata": {},
     "outputs": [
      {
       "metadata": {},
       "output_type": "pyout",
       "prompt_number": 31,
       "text": [
        "56"
       ]
      }
     ],
     "prompt_number": 31
    },
    {
     "cell_type": "code",
     "collapsed": false,
     "input": [
      "# Plot specific cluster\n",
      "def plot_cluster(label):\n",
      "    cluster = df[df['label'] == label]\n",
      "    for j in range(len(cluster)):\n",
      "        shape = []\n",
      "        for i in range(vectorLength):\n",
      "            shape.append(float(cluster.iloc[j:j+1, :][str(i)]))\n",
      "        plt.plot(shape, color='black')\n",
      "    centroid = []\n",
      "    for i in range(vectorLength):\n",
      "        centroid.append(float(centroids[centroids['label'] == label][str(i)]))\n",
      "    plt.plot(centroid, 'o', markerfacecolor='None', \n",
      "                markeredgewidth=2, markeredgecolor='red')\n",
      "    plt.xlabel('Hour')\n",
      "    plt.ylabel('Normal Usage')\n",
      "    plt.title('#' + str(label))\n",
      "    plt.show()\n",
      "\n",
      "# plot largest cluster\n",
      "plot_cluster(int(centroids[centroids['size'] == max(sizes)]['label']))\n",
      "print max(sizes)\n",
      "\n",
      "r = randint(centroids.shape[0])\n",
      "# plot a smaller cluster\n",
      "plot_cluster(r)\n",
      "\n",
      "print centroids['size'][r]"
     ],
     "language": "python",
     "metadata": {},
     "outputs": [
      {
       "metadata": {},
       "output_type": "display_data",
       "png": "[encoded data removed]",
       "text": [
        "<matplotlib.figure.Figure at 0x7fa2766ee950>"
       ]
      },
      {
       "output_type": "stream",
       "stream": "stdout",
       "text": [
        "1552\n"
       ]
      },
      {
       "metadata": {},
       "output_type": "display_data",
       "png": "[encoded data removed]",
       "text": [
        "<matplotlib.figure.Figure at 0x7fa276a71a10>"
       ]
      },
      {
       "output_type": "stream",
       "stream": "stdout",
       "text": [
        "12\n"
       ]
      }
     ],
     "prompt_number": 32
    },
    {
     "cell_type": "code",
     "collapsed": false,
     "input": [
      "n, bins, patches = plt.hist(sizes, 50, histtype='stepfilled')\n",
      "plt.setp(patches, 'facecolor', 'g', 'alpha', 0.75)"
     ],
     "language": "python",
     "metadata": {},
     "outputs": [
      {
       "metadata": {},
       "output_type": "pyout",
       "prompt_number": 40,
       "text": [
        "[None, None]"
       ]
      },
      {
       "metadata": {},
       "output_type": "display_data",
       "png": "[encoded data removed]",
       "text": [
        "<matplotlib.figure.Figure at 0x7fa278587c50>"
       ]
      }
     ],
     "prompt_number": 40
    },
    {
     "cell_type": "code",
     "collapsed": false,
     "input": [
      "# Hierarchical clustering starting here\n",
      "def closestLabels(centroids):\n",
      "    closestLabels = None\n",
      "    shortestDistance = None\n",
      "    for i in range(len(centroids)):\n",
      "        c_i = np.array(centroids.iloc[i : i + 1, : -2])\n",
      "        for j in range(len(centroids)):\n",
      "            if i == j:\n",
      "                continue\n",
      "            c_j = np.array(centroids.iloc[j : j + 1, : -2])\n",
      "            d_ij = LA.norm(c_i - c_j)\n",
      "            if shortestDistance == None or d_ij < shortestDistance:\n",
      "                shortestDistance = d_ij\n",
      "                l_i = int(centroids.iloc[i : i+1, : ]['label'].values[0])\n",
      "                l_j = int(centroids.iloc[j : j+1, : ]['label'].values[0])\n",
      "                closestLabels = (l_i, l_j)\n",
      "    return closestLabels\n",
      "\n",
      "def countViolation(df, label, centroid, theta):\n",
      "    centroid = np.array(centroid)\n",
      "    threshold = theta * LA.norm(centroid)\n",
      "    cluster = df[df['label'] == label]\n",
      "    v = 0\n",
      "    for x in cluster.iterrows():\n",
      "        x = x[1]\n",
      "        x = x[timeNames]\n",
      "        x = np.array(x)\n",
      "        if LA.norm(x - centroid) > threshold:\n",
      "            v += 1\n",
      "    return v\n",
      "\n",
      "def totViolations(df, centroids, theta):\n",
      "    violations = 0\n",
      "    for label in centroids['label']:\n",
      "        centroid = centroids[centroids['label'] == label][timeNames]\n",
      "        violations += countViolation(df, label, centroid, theta)\n",
      "    return violations\n",
      "\n",
      "while True:\n",
      "    (l_i, l_j) = closestLabels(centroids)\n",
      "    c_i = np.array(centroids[centroids['label'] == l_i].iloc[:, :-2])\n",
      "    c_j = np.array(centroids[centroids['label'] == l_j].iloc[:, :-2])\n",
      "    n_i = centroids[centroids['label'] == l_i]['size'].values[0]\n",
      "    n_j = centroids[centroids['label'] == l_j]['size'].values[0]\n",
      "    new_c = (n_i * c_i + n_j * c_j) / (n_i + n_j)\n",
      "    for i in range(len(centroids)):\n",
      "        label = centroids.iloc[i : i+1, :]['label'].values[0]\n",
      "        if label == l_i:\n",
      "            centroids.iloc[i : i+1, : -2] = new_c\n",
      "            centroids.iloc[i : i+1, : ]['size'] = n_i + n_j\n",
      "    # Delete one centroid\n",
      "    centroids = centroids.drop(l_j)\n",
      "    # Change all l2 label in df to l1\n",
      "    df.loc[df['label'] == l_j, 'label'] = l_i  \n",
      "    violations = totViolations(df, centroids, theta)\n",
      "    print len(centroids), violations\n",
      "    # Quit hierarchical clustering if violation is larger than 5%\n",
      "    if violations * 1.0 / len(all) >= 0.05:\n",
      "        break"
     ],
     "language": "python",
     "metadata": {},
     "outputs": [
      {
       "output_type": "stream",
       "stream": "stdout",
       "text": [
        "306 0\n",
        "305"
       ]
      },
      {
       "output_type": "stream",
       "stream": "stdout",
       "text": [
        " 0\n",
        "304"
       ]
      },
      {
       "output_type": "stream",
       "stream": "stdout",
       "text": [
        " 0\n",
        "303"
       ]
      },
      {
       "output_type": "stream",
       "stream": "stdout",
       "text": [
        " 0\n",
        "302"
       ]
      },
      {
       "output_type": "stream",
       "stream": "stdout",
       "text": [
        " 0\n",
        "301"
       ]
      },
      {
       "output_type": "stream",
       "stream": "stdout",
       "text": [
        " 0\n",
        "300"
       ]
      },
      {
       "output_type": "stream",
       "stream": "stdout",
       "text": [
        " 0\n",
        "299"
       ]
      },
      {
       "output_type": "stream",
       "stream": "stdout",
       "text": [
        " 0\n",
        "298"
       ]
      },
      {
       "output_type": "stream",
       "stream": "stdout",
       "text": [
        " 0\n",
        "297"
       ]
      },
      {
       "output_type": "stream",
       "stream": "stdout",
       "text": [
        " 0\n",
        "296"
       ]
      },
      {
       "output_type": "stream",
       "stream": "stdout",
       "text": [
        " 0\n",
        "295"
       ]
      },
      {
       "output_type": "stream",
       "stream": "stdout",
       "text": [
        " 0\n",
        "294"
       ]
      },
      {
       "output_type": "stream",
       "stream": "stdout",
       "text": [
        " 0\n",
        "293"
       ]
      },
      {
       "output_type": "stream",
       "stream": "stdout",
       "text": [
        " 0\n",
        "292"
       ]
      },
      {
       "output_type": "stream",
       "stream": "stdout",
       "text": [
        " 0\n",
        "291"
       ]
      },
      {
       "output_type": "stream",
       "stream": "stdout",
       "text": [
        " 0\n",
        "290"
       ]
      },
      {
       "output_type": "stream",
       "stream": "stdout",
       "text": [
        " 0\n",
        "289"
       ]
      },
      {
       "output_type": "stream",
       "stream": "stdout",
       "text": [
        " 0\n",
        "288"
       ]
      },
      {
       "output_type": "stream",
       "stream": "stdout",
       "text": [
        " 0\n",
        "287"
       ]
      },
      {
       "output_type": "stream",
       "stream": "stdout",
       "text": [
        " 0\n",
        "286"
       ]
      },
      {
       "output_type": "stream",
       "stream": "stdout",
       "text": [
        " 0\n",
        "285"
       ]
      },
      {
       "output_type": "stream",
       "stream": "stdout",
       "text": [
        " 0\n",
        "284"
       ]
      },
      {
       "output_type": "stream",
       "stream": "stdout",
       "text": [
        " 0\n",
        "283"
       ]
      },
      {
       "output_type": "stream",
       "stream": "stdout",
       "text": [
        " 0\n",
        "282"
       ]
      },
      {
       "output_type": "stream",
       "stream": "stdout",
       "text": [
        " 0\n",
        "281"
       ]
      },
      {
       "output_type": "stream",
       "stream": "stdout",
       "text": [
        " 0\n",
        "280"
       ]
      },
      {
       "output_type": "stream",
       "stream": "stdout",
       "text": [
        " 0\n",
        "279"
       ]
      },
      {
       "output_type": "stream",
       "stream": "stdout",
       "text": [
        " 1\n",
        "278"
       ]
      },
      {
       "output_type": "stream",
       "stream": "stdout",
       "text": [
        " 1\n",
        "277"
       ]
      },
      {
       "output_type": "stream",
       "stream": "stdout",
       "text": [
        " 1\n",
        "276"
       ]
      },
      {
       "output_type": "stream",
       "stream": "stdout",
       "text": [
        " 2\n",
        "275"
       ]
      },
      {
       "output_type": "stream",
       "stream": "stdout",
       "text": [
        " 2\n",
        "274"
       ]
      },
      {
       "output_type": "stream",
       "stream": "stdout",
       "text": [
        " 2\n",
        "273"
       ]
      },
      {
       "output_type": "stream",
       "stream": "stdout",
       "text": [
        " 2\n",
        "272"
       ]
      },
      {
       "output_type": "stream",
       "stream": "stdout",
       "text": [
        " 2\n",
        "271"
       ]
      },
      {
       "output_type": "stream",
       "stream": "stdout",
       "text": [
        " 2\n",
        "270"
       ]
      },
      {
       "output_type": "stream",
       "stream": "stdout",
       "text": [
        " 2\n",
        "269"
       ]
      },
      {
       "output_type": "stream",
       "stream": "stdout",
       "text": [
        " 2\n",
        "268"
       ]
      },
      {
       "output_type": "stream",
       "stream": "stdout",
       "text": [
        " 2\n",
        "267"
       ]
      },
      {
       "output_type": "stream",
       "stream": "stdout",
       "text": [
        " 2\n",
        "266"
       ]
      },
      {
       "output_type": "stream",
       "stream": "stdout",
       "text": [
        " 3\n",
        "265"
       ]
      },
      {
       "output_type": "stream",
       "stream": "stdout",
       "text": [
        " 3\n",
        "264"
       ]
      },
      {
       "output_type": "stream",
       "stream": "stdout",
       "text": [
        " 4\n",
        "263"
       ]
      },
      {
       "output_type": "stream",
       "stream": "stdout",
       "text": [
        " 5\n",
        "262"
       ]
      },
      {
       "output_type": "stream",
       "stream": "stdout",
       "text": [
        " 6\n",
        "261"
       ]
      },
      {
       "output_type": "stream",
       "stream": "stdout",
       "text": [
        " 7\n",
        "260"
       ]
      },
      {
       "output_type": "stream",
       "stream": "stdout",
       "text": [
        " 7\n",
        "259"
       ]
      },
      {
       "output_type": "stream",
       "stream": "stdout",
       "text": [
        " 7\n",
        "258"
       ]
      },
      {
       "output_type": "stream",
       "stream": "stdout",
       "text": [
        " 7\n",
        "257"
       ]
      },
      {
       "output_type": "stream",
       "stream": "stdout",
       "text": [
        " 7\n",
        "256"
       ]
      },
      {
       "output_type": "stream",
       "stream": "stdout",
       "text": [
        " 7\n",
        "255"
       ]
      },
      {
       "output_type": "stream",
       "stream": "stdout",
       "text": [
        " 7\n",
        "254"
       ]
      },
      {
       "output_type": "stream",
       "stream": "stdout",
       "text": [
        " 7\n",
        "253"
       ]
      },
      {
       "output_type": "stream",
       "stream": "stdout",
       "text": [
        " 7\n",
        "252"
       ]
      },
      {
       "output_type": "stream",
       "stream": "stdout",
       "text": [
        " 7\n",
        "251"
       ]
      },
      {
       "output_type": "stream",
       "stream": "stdout",
       "text": [
        " 7\n",
        "250"
       ]
      },
      {
       "output_type": "stream",
       "stream": "stdout",
       "text": [
        " 7\n",
        "249"
       ]
      },
      {
       "output_type": "stream",
       "stream": "stdout",
       "text": [
        " 7\n",
        "248"
       ]
      },
      {
       "output_type": "stream",
       "stream": "stdout",
       "text": [
        " 8\n",
        "247"
       ]
      },
      {
       "output_type": "stream",
       "stream": "stdout",
       "text": [
        " 8\n",
        "246"
       ]
      },
      {
       "output_type": "stream",
       "stream": "stdout",
       "text": [
        " 9\n",
        "245"
       ]
      },
      {
       "output_type": "stream",
       "stream": "stdout",
       "text": [
        " 9\n",
        "244"
       ]
      },
      {
       "output_type": "stream",
       "stream": "stdout",
       "text": [
        " 11\n",
        "243"
       ]
      },
      {
       "output_type": "stream",
       "stream": "stdout",
       "text": [
        " 11\n",
        "242"
       ]
      },
      {
       "output_type": "stream",
       "stream": "stdout",
       "text": [
        " 12\n",
        "241"
       ]
      },
      {
       "output_type": "stream",
       "stream": "stdout",
       "text": [
        " 12\n",
        "240"
       ]
      },
      {
       "output_type": "stream",
       "stream": "stdout",
       "text": [
        " 12\n",
        "239"
       ]
      },
      {
       "output_type": "stream",
       "stream": "stdout",
       "text": [
        " 12\n",
        "238"
       ]
      },
      {
       "output_type": "stream",
       "stream": "stdout",
       "text": [
        " 12\n",
        "237"
       ]
      },
      {
       "output_type": "stream",
       "stream": "stdout",
       "text": [
        " 14\n",
        "236"
       ]
      },
      {
       "output_type": "stream",
       "stream": "stdout",
       "text": [
        " 14\n",
        "235"
       ]
      },
      {
       "output_type": "stream",
       "stream": "stdout",
       "text": [
        " 14\n",
        "234"
       ]
      },
      {
       "output_type": "stream",
       "stream": "stdout",
       "text": [
        " 16\n",
        "233"
       ]
      },
      {
       "output_type": "stream",
       "stream": "stdout",
       "text": [
        " 17\n",
        "232"
       ]
      },
      {
       "output_type": "stream",
       "stream": "stdout",
       "text": [
        " 17\n",
        "231"
       ]
      },
      {
       "output_type": "stream",
       "stream": "stdout",
       "text": [
        " 18\n",
        "230"
       ]
      },
      {
       "output_type": "stream",
       "stream": "stdout",
       "text": [
        " 18\n",
        "229"
       ]
      },
      {
       "output_type": "stream",
       "stream": "stdout",
       "text": [
        " 21\n",
        "228"
       ]
      },
      {
       "output_type": "stream",
       "stream": "stdout",
       "text": [
        " 24\n",
        "227"
       ]
      },
      {
       "output_type": "stream",
       "stream": "stdout",
       "text": [
        " 28\n",
        "226"
       ]
      },
      {
       "output_type": "stream",
       "stream": "stdout",
       "text": [
        " 32\n",
        "225"
       ]
      },
      {
       "output_type": "stream",
       "stream": "stdout",
       "text": [
        " 33\n",
        "224"
       ]
      },
      {
       "output_type": "stream",
       "stream": "stdout",
       "text": [
        " 45\n",
        "223"
       ]
      },
      {
       "output_type": "stream",
       "stream": "stdout",
       "text": [
        " 45\n",
        "222"
       ]
      },
      {
       "output_type": "stream",
       "stream": "stdout",
       "text": [
        " 57\n",
        "221"
       ]
      },
      {
       "output_type": "stream",
       "stream": "stdout",
       "text": [
        " 57\n",
        "220"
       ]
      },
      {
       "output_type": "stream",
       "stream": "stdout",
       "text": [
        " 59\n",
        "219"
       ]
      },
      {
       "output_type": "stream",
       "stream": "stdout",
       "text": [
        " 70\n",
        "218"
       ]
      },
      {
       "output_type": "stream",
       "stream": "stdout",
       "text": [
        " 80\n",
        "217"
       ]
      },
      {
       "output_type": "stream",
       "stream": "stdout",
       "text": [
        " 80\n",
        "216"
       ]
      },
      {
       "output_type": "stream",
       "stream": "stdout",
       "text": [
        " 80\n",
        "215"
       ]
      },
      {
       "output_type": "stream",
       "stream": "stdout",
       "text": [
        " 80\n",
        "214"
       ]
      },
      {
       "output_type": "stream",
       "stream": "stdout",
       "text": [
        " 81\n",
        "213"
       ]
      },
      {
       "output_type": "stream",
       "stream": "stdout",
       "text": [
        " 86\n",
        "212"
       ]
      },
      {
       "output_type": "stream",
       "stream": "stdout",
       "text": [
        " 87\n",
        "211"
       ]
      },
      {
       "output_type": "stream",
       "stream": "stdout",
       "text": [
        " 91\n",
        "210"
       ]
      },
      {
       "output_type": "stream",
       "stream": "stdout",
       "text": [
        " 93\n",
        "209"
       ]
      },
      {
       "output_type": "stream",
       "stream": "stdout",
       "text": [
        " 93\n",
        "208"
       ]
      },
      {
       "output_type": "stream",
       "stream": "stdout",
       "text": [
        " 93\n",
        "207"
       ]
      },
      {
       "output_type": "stream",
       "stream": "stdout",
       "text": [
        " 93\n",
        "206"
       ]
      },
      {
       "output_type": "stream",
       "stream": "stdout",
       "text": [
        " 93\n",
        "205"
       ]
      },
      {
       "output_type": "stream",
       "stream": "stdout",
       "text": [
        " 93\n",
        "204"
       ]
      },
      {
       "output_type": "stream",
       "stream": "stdout",
       "text": [
        " 95\n",
        "203"
       ]
      },
      {
       "output_type": "stream",
       "stream": "stdout",
       "text": [
        " 111\n",
        "202"
       ]
      },
      {
       "output_type": "stream",
       "stream": "stdout",
       "text": [
        " 115\n",
        "201"
       ]
      },
      {
       "output_type": "stream",
       "stream": "stdout",
       "text": [
        " 116\n",
        "200"
       ]
      },
      {
       "output_type": "stream",
       "stream": "stdout",
       "text": [
        " 116\n",
        "199"
       ]
      },
      {
       "output_type": "stream",
       "stream": "stdout",
       "text": [
        " 116\n",
        "198"
       ]
      },
      {
       "output_type": "stream",
       "stream": "stdout",
       "text": [
        " 116\n",
        "197"
       ]
      },
      {
       "output_type": "stream",
       "stream": "stdout",
       "text": [
        " 116\n",
        "196"
       ]
      },
      {
       "output_type": "stream",
       "stream": "stdout",
       "text": [
        " 124\n",
        "195"
       ]
      },
      {
       "output_type": "stream",
       "stream": "stdout",
       "text": [
        " 134\n",
        "194"
       ]
      },
      {
       "output_type": "stream",
       "stream": "stdout",
       "text": [
        " 157\n",
        "193"
       ]
      },
      {
       "output_type": "stream",
       "stream": "stdout",
       "text": [
        " 158\n",
        "192"
       ]
      },
      {
       "output_type": "stream",
       "stream": "stdout",
       "text": [
        " 159\n",
        "191"
       ]
      },
      {
       "output_type": "stream",
       "stream": "stdout",
       "text": [
        " 160\n",
        "190"
       ]
      },
      {
       "output_type": "stream",
       "stream": "stdout",
       "text": [
        " 161\n",
        "189"
       ]
      },
      {
       "output_type": "stream",
       "stream": "stdout",
       "text": [
        " 164\n",
        "188"
       ]
      },
      {
       "output_type": "stream",
       "stream": "stdout",
       "text": [
        " 164\n",
        "187"
       ]
      },
      {
       "output_type": "stream",
       "stream": "stdout",
       "text": [
        " 164\n",
        "186"
       ]
      },
      {
       "output_type": "stream",
       "stream": "stdout",
       "text": [
        " 164\n",
        "185"
       ]
      },
      {
       "output_type": "stream",
       "stream": "stdout",
       "text": [
        " 198\n",
        "184"
       ]
      },
      {
       "output_type": "stream",
       "stream": "stdout",
       "text": [
        " 197\n",
        "183"
       ]
      },
      {
       "output_type": "stream",
       "stream": "stdout",
       "text": [
        " 198\n",
        "182"
       ]
      },
      {
       "output_type": "stream",
       "stream": "stdout",
       "text": [
        " 253\n",
        "181"
       ]
      },
      {
       "output_type": "stream",
       "stream": "stdout",
       "text": [
        " 269\n",
        "180"
       ]
      },
      {
       "output_type": "stream",
       "stream": "stdout",
       "text": [
        " 270\n",
        "179"
       ]
      },
      {
       "output_type": "stream",
       "stream": "stdout",
       "text": [
        " 280\n",
        "178"
       ]
      },
      {
       "output_type": "stream",
       "stream": "stdout",
       "text": [
        " 280\n",
        "177"
       ]
      },
      {
       "output_type": "stream",
       "stream": "stdout",
       "text": [
        " 280\n",
        "176"
       ]
      },
      {
       "output_type": "stream",
       "stream": "stdout",
       "text": [
        " 281\n",
        "175"
       ]
      },
      {
       "output_type": "stream",
       "stream": "stdout",
       "text": [
        " 290\n",
        "174"
       ]
      },
      {
       "output_type": "stream",
       "stream": "stdout",
       "text": [
        " 349\n",
        "173"
       ]
      },
      {
       "output_type": "stream",
       "stream": "stdout",
       "text": [
        " 349\n",
        "172"
       ]
      },
      {
       "output_type": "stream",
       "stream": "stdout",
       "text": [
        " 350\n",
        "171"
       ]
      },
      {
       "output_type": "stream",
       "stream": "stdout",
       "text": [
        " 350\n",
        "170"
       ]
      },
      {
       "output_type": "stream",
       "stream": "stdout",
       "text": [
        " 350\n",
        "169"
       ]
      },
      {
       "output_type": "stream",
       "stream": "stdout",
       "text": [
        " 354\n",
        "168"
       ]
      },
      {
       "output_type": "stream",
       "stream": "stdout",
       "text": [
        " 357\n",
        "167"
       ]
      },
      {
       "output_type": "stream",
       "stream": "stdout",
       "text": [
        " 383\n",
        "166"
       ]
      },
      {
       "output_type": "stream",
       "stream": "stdout",
       "text": [
        " 428\n",
        "165"
       ]
      },
      {
       "output_type": "stream",
       "stream": "stdout",
       "text": [
        " 447\n",
        "164"
       ]
      },
      {
       "output_type": "stream",
       "stream": "stdout",
       "text": [
        " 499\n",
        "163"
       ]
      },
      {
       "output_type": "stream",
       "stream": "stdout",
       "text": [
        " 575\n",
        "162"
       ]
      },
      {
       "output_type": "stream",
       "stream": "stdout",
       "text": [
        " 729\n",
        "161"
       ]
      },
      {
       "output_type": "stream",
       "stream": "stdout",
       "text": [
        " 729\n",
        "160"
       ]
      },
      {
       "output_type": "stream",
       "stream": "stdout",
       "text": [
        " 729\n",
        "159"
       ]
      },
      {
       "output_type": "stream",
       "stream": "stdout",
       "text": [
        " 729\n",
        "158"
       ]
      },
      {
       "output_type": "stream",
       "stream": "stdout",
       "text": [
        " 729\n",
        "157"
       ]
      },
      {
       "output_type": "stream",
       "stream": "stdout",
       "text": [
        " 732\n",
        "156"
       ]
      },
      {
       "output_type": "stream",
       "stream": "stdout",
       "text": [
        " 732\n",
        "155"
       ]
      },
      {
       "output_type": "stream",
       "stream": "stdout",
       "text": [
        " 732\n",
        "154"
       ]
      },
      {
       "output_type": "stream",
       "stream": "stdout",
       "text": [
        " 741\n",
        "153"
       ]
      },
      {
       "output_type": "stream",
       "stream": "stdout",
       "text": [
        " 748\n",
        "152"
       ]
      },
      {
       "output_type": "stream",
       "stream": "stdout",
       "text": [
        " 752\n",
        "151"
       ]
      },
      {
       "output_type": "stream",
       "stream": "stdout",
       "text": [
        " 756\n",
        "150"
       ]
      },
      {
       "output_type": "stream",
       "stream": "stdout",
       "text": [
        " 763\n",
        "149"
       ]
      },
      {
       "output_type": "stream",
       "stream": "stdout",
       "text": [
        " 782\n",
        "148"
       ]
      },
      {
       "output_type": "stream",
       "stream": "stdout",
       "text": [
        " 832\n",
        "147"
       ]
      },
      {
       "output_type": "stream",
       "stream": "stdout",
       "text": [
        " 833\n",
        "146"
       ]
      },
      {
       "output_type": "stream",
       "stream": "stdout",
       "text": [
        " 835\n",
        "145"
       ]
      },
      {
       "output_type": "stream",
       "stream": "stdout",
       "text": [
        " 843\n",
        "144"
       ]
      },
      {
       "output_type": "stream",
       "stream": "stdout",
       "text": [
        " 844\n",
        "143"
       ]
      },
      {
       "output_type": "stream",
       "stream": "stdout",
       "text": [
        " 873\n",
        "142"
       ]
      },
      {
       "output_type": "stream",
       "stream": "stdout",
       "text": [
        " 879\n",
        "141"
       ]
      },
      {
       "output_type": "stream",
       "stream": "stdout",
       "text": [
        " 887\n",
        "140"
       ]
      },
      {
       "output_type": "stream",
       "stream": "stdout",
       "text": [
        " 948\n",
        "139"
       ]
      },
      {
       "output_type": "stream",
       "stream": "stdout",
       "text": [
        " 961\n",
        "138"
       ]
      },
      {
       "output_type": "stream",
       "stream": "stdout",
       "text": [
        " 961\n",
        "137"
       ]
      },
      {
       "output_type": "stream",
       "stream": "stdout",
       "text": [
        " 963\n",
        "136"
       ]
      },
      {
       "output_type": "stream",
       "stream": "stdout",
       "text": [
        " 963\n",
        "135"
       ]
      },
      {
       "output_type": "stream",
       "stream": "stdout",
       "text": [
        " 979\n",
        "134"
       ]
      },
      {
       "output_type": "stream",
       "stream": "stdout",
       "text": [
        " 980\n",
        "133"
       ]
      },
      {
       "output_type": "stream",
       "stream": "stdout",
       "text": [
        " 997\n",
        "132"
       ]
      },
      {
       "output_type": "stream",
       "stream": "stdout",
       "text": [
        " 1194\n",
        "131"
       ]
      },
      {
       "output_type": "stream",
       "stream": "stdout",
       "text": [
        " 1277\n",
        "130"
       ]
      },
      {
       "output_type": "stream",
       "stream": "stdout",
       "text": [
        " 1281\n",
        "129"
       ]
      },
      {
       "output_type": "stream",
       "stream": "stdout",
       "text": [
        " 1285\n",
        "128"
       ]
      },
      {
       "output_type": "stream",
       "stream": "stdout",
       "text": [
        " 1301\n",
        "127"
       ]
      },
      {
       "output_type": "stream",
       "stream": "stdout",
       "text": [
        " 1362\n",
        "126"
       ]
      },
      {
       "output_type": "stream",
       "stream": "stdout",
       "text": [
        " 1363\n",
        "125"
       ]
      },
      {
       "output_type": "stream",
       "stream": "stdout",
       "text": [
        " 1472\n",
        "124"
       ]
      },
      {
       "output_type": "stream",
       "stream": "stdout",
       "text": [
        " 1474\n",
        "123"
       ]
      },
      {
       "output_type": "stream",
       "stream": "stdout",
       "text": [
        " 1553\n",
        "122"
       ]
      },
      {
       "output_type": "stream",
       "stream": "stdout",
       "text": [
        " 1553\n",
        "121"
       ]
      },
      {
       "output_type": "stream",
       "stream": "stdout",
       "text": [
        " 1587\n",
        "120"
       ]
      },
      {
       "output_type": "stream",
       "stream": "stdout",
       "text": [
        " 1587\n",
        "119"
       ]
      },
      {
       "output_type": "stream",
       "stream": "stdout",
       "text": [
        " 1590\n",
        "118"
       ]
      },
      {
       "output_type": "stream",
       "stream": "stdout",
       "text": [
        " 1592\n",
        "117"
       ]
      },
      {
       "output_type": "stream",
       "stream": "stdout",
       "text": [
        " 1594\n",
        "116"
       ]
      },
      {
       "output_type": "stream",
       "stream": "stdout",
       "text": [
        " 1599\n",
        "115"
       ]
      },
      {
       "output_type": "stream",
       "stream": "stdout",
       "text": [
        " 1599\n",
        "114"
       ]
      },
      {
       "output_type": "stream",
       "stream": "stdout",
       "text": [
        " 1601\n",
        "113"
       ]
      },
      {
       "output_type": "stream",
       "stream": "stdout",
       "text": [
        " 2828\n"
       ]
      }
     ],
     "prompt_number": 38
    },
    {
     "cell_type": "code",
     "collapsed": false,
     "input": [
      "df.head()"
     ],
     "language": "python",
     "metadata": {},
     "outputs": [
      {
       "html": [
        "<div style=\"max-height:1000px;max-width:1500px;overflow:auto;\">\n",
        "<table border=\"1\" class=\"dataframe\">\n",
        "  <thead>\n",
        "    <tr style=\"text-align: right;\">\n",
        "      <th></th>\n",
        "      <th>id</th>\n",
        "      <th>hvac</th>\n",
        "      <th>pv</th>\n",
        "      <th>ev</th>\n",
        "      <th>pool</th>\n",
        "      <th>0</th>\n",
        "      <th>1</th>\n",
        "      <th>2</th>\n",
        "      <th>3</th>\n",
        "      <th>4</th>\n",
        "      <th>...</th>\n",
        "      <th>15</th>\n",
        "      <th>16</th>\n",
        "      <th>17</th>\n",
        "      <th>18</th>\n",
        "      <th>19</th>\n",
        "      <th>20</th>\n",
        "      <th>21</th>\n",
        "      <th>22</th>\n",
        "      <th>23</th>\n",
        "      <th>label</th>\n",
        "    </tr>\n",
        "  </thead>\n",
        "  <tbody>\n",
        "    <tr>\n",
        "      <th>0</th>\n",
        "      <td> 525</td>\n",
        "      <td> 1</td>\n",
        "      <td> 0</td>\n",
        "      <td> 0</td>\n",
        "      <td> 0</td>\n",
        "      <td> 0.015026</td>\n",
        "      <td> 0.014055</td>\n",
        "      <td> 0.014055</td>\n",
        "      <td> 0.014130</td>\n",
        "      <td> 0.022469</td>\n",
        "      <td>...</td>\n",
        "      <td> 0.035301</td>\n",
        "      <td> 0.064116</td>\n",
        "      <td> 0.086954</td>\n",
        "      <td> 0.092789</td>\n",
        "      <td> 0.106800</td>\n",
        "      <td> 0.109668</td>\n",
        "      <td> 0.062436</td>\n",
        "      <td> 0.055001</td>\n",
        "      <td> 0.049307</td>\n",
        "      <td>  84</td>\n",
        "    </tr>\n",
        "    <tr>\n",
        "      <th>1</th>\n",
        "      <td> 526</td>\n",
        "      <td> 1</td>\n",
        "      <td> 0</td>\n",
        "      <td> 0</td>\n",
        "      <td> 0</td>\n",
        "      <td> 0.062140</td>\n",
        "      <td> 0.026336</td>\n",
        "      <td> 0.023149</td>\n",
        "      <td> 0.018922</td>\n",
        "      <td> 0.016247</td>\n",
        "      <td>...</td>\n",
        "      <td> 0.024127</td>\n",
        "      <td> 0.025454</td>\n",
        "      <td> 0.027581</td>\n",
        "      <td> 0.053432</td>\n",
        "      <td> 0.089074</td>\n",
        "      <td> 0.098510</td>\n",
        "      <td> 0.098341</td>\n",
        "      <td> 0.100131</td>\n",
        "      <td> 0.069143</td>\n",
        "      <td> 107</td>\n",
        "    </tr>\n",
        "    <tr>\n",
        "      <th>2</th>\n",
        "      <td> 527</td>\n",
        "      <td> 1</td>\n",
        "      <td> 0</td>\n",
        "      <td> 0</td>\n",
        "      <td> 0</td>\n",
        "      <td> 0.021958</td>\n",
        "      <td> 0.014742</td>\n",
        "      <td> 0.014325</td>\n",
        "      <td> 0.014325</td>\n",
        "      <td> 0.014461</td>\n",
        "      <td>...</td>\n",
        "      <td> 0.024109</td>\n",
        "      <td> 0.046129</td>\n",
        "      <td> 0.075810</td>\n",
        "      <td> 0.091513</td>\n",
        "      <td> 0.093911</td>\n",
        "      <td> 0.093844</td>\n",
        "      <td> 0.073269</td>\n",
        "      <td> 0.060774</td>\n",
        "      <td> 0.053433</td>\n",
        "      <td>  26</td>\n",
        "    </tr>\n",
        "    <tr>\n",
        "      <th>3</th>\n",
        "      <td> 528</td>\n",
        "      <td> 0</td>\n",
        "      <td> 0</td>\n",
        "      <td> 0</td>\n",
        "      <td> 0</td>\n",
        "      <td> 0.054590</td>\n",
        "      <td> 0.029629</td>\n",
        "      <td> 0.024069</td>\n",
        "      <td> 0.014682</td>\n",
        "      <td> 0.014052</td>\n",
        "      <td>...</td>\n",
        "      <td> 0.021681</td>\n",
        "      <td> 0.025300</td>\n",
        "      <td> 0.033731</td>\n",
        "      <td> 0.059919</td>\n",
        "      <td> 0.090488</td>\n",
        "      <td> 0.105435</td>\n",
        "      <td> 0.103797</td>\n",
        "      <td> 0.092908</td>\n",
        "      <td> 0.070513</td>\n",
        "      <td> 107</td>\n",
        "    </tr>\n",
        "    <tr>\n",
        "      <th>4</th>\n",
        "      <td> 529</td>\n",
        "      <td> 0</td>\n",
        "      <td> 0</td>\n",
        "      <td> 0</td>\n",
        "      <td> 0</td>\n",
        "      <td> 0.019215</td>\n",
        "      <td> 0.017301</td>\n",
        "      <td> 0.013796</td>\n",
        "      <td> 0.011930</td>\n",
        "      <td> 0.011939</td>\n",
        "      <td>...</td>\n",
        "      <td> 0.050537</td>\n",
        "      <td> 0.051908</td>\n",
        "      <td> 0.058366</td>\n",
        "      <td> 0.067322</td>\n",
        "      <td> 0.072739</td>\n",
        "      <td> 0.070448</td>\n",
        "      <td> 0.044849</td>\n",
        "      <td> 0.028460</td>\n",
        "      <td> 0.023453</td>\n",
        "      <td>   1</td>\n",
        "    </tr>\n",
        "  </tbody>\n",
        "</table>\n",
        "<p>5 rows \u00d7 30 columns</p>\n",
        "</div>"
       ],
       "metadata": {},
       "output_type": "pyout",
       "prompt_number": 104,
       "text": [
        "    id  hvac  pv  ev  pool         0         1         2         3         4  \\\n",
        "0  525     1   0   0     0  0.015026  0.014055  0.014055  0.014130  0.022469   \n",
        "1  526     1   0   0     0  0.062140  0.026336  0.023149  0.018922  0.016247   \n",
        "2  527     1   0   0     0  0.021958  0.014742  0.014325  0.014325  0.014461   \n",
        "3  528     0   0   0     0  0.054590  0.029629  0.024069  0.014682  0.014052   \n",
        "4  529     0   0   0     0  0.019215  0.017301  0.013796  0.011930  0.011939   \n",
        "\n",
        "     ...           15        16        17        18        19        20  \\\n",
        "0    ...     0.035301  0.064116  0.086954  0.092789  0.106800  0.109668   \n",
        "1    ...     0.024127  0.025454  0.027581  0.053432  0.089074  0.098510   \n",
        "2    ...     0.024109  0.046129  0.075810  0.091513  0.093911  0.093844   \n",
        "3    ...     0.021681  0.025300  0.033731  0.059919  0.090488  0.105435   \n",
        "4    ...     0.050537  0.051908  0.058366  0.067322  0.072739  0.070448   \n",
        "\n",
        "         21        22        23  label  \n",
        "0  0.062436  0.055001  0.049307     84  \n",
        "1  0.098341  0.100131  0.069143    107  \n",
        "2  0.073269  0.060774  0.053433     26  \n",
        "3  0.103797  0.092908  0.070513    107  \n",
        "4  0.044849  0.028460  0.023453      1  \n",
        "\n",
        "[5 rows x 30 columns]"
       ]
      }
     ],
     "prompt_number": 104
    },
    {
     "cell_type": "code",
     "collapsed": false,
     "input": [
      "# Plot most common load shapes\n",
      "centroids = centroids.sort(columns=['size'], ascending = [0])\n",
      "def most_common_load_shapes(n):\n",
      "    w = math.ceil(n ** .5)\n",
      "    h = math.ceil(n ** .5)\n",
      "    x = range(1, vectorLength + 1)\n",
      "    x = [num / (vectorLength / 24.0) for num in x]\n",
      "    for i in range(1, n + 1):\n",
      "        plt.subplot(h, w, i)\n",
      "        centroid = []\n",
      "        for j in range(vectorLength):\n",
      "            centroid.append(float(centroids.iloc[i - 1 : i][str(j)]))\n",
      "        plt.scatter(x, centroid, color='red')\n",
      "        percent = 100. * float(centroids.iloc[i - 1 : i]['size']) / len(all)\n",
      "        plt.title(str(percent) + \"%\")\n",
      "        plt.xlabel(\"Hour\")\n",
      "        plt.ylabel(\"Norm. Usage\")\n",
      "        plt.xlim(0, 24)\n",
      "        plt.ylim(0.0, 0.05)\n",
      "    \n",
      "    plt.subplots_adjust(wspace=.7, hspace=.7)\n",
      "    plt.show()\n",
      "\n",
      "most_common_load_shapes(16)"
     ],
     "language": "python",
     "metadata": {},
     "outputs": [
      {
       "metadata": {},
       "output_type": "display_data",
       "png": "[encoded data removed]",
       "text": [
        "<matplotlib.figure.Figure at 0x7fa276c66e50>"
       ]
      }
     ],
     "prompt_number": 46
    },
    {
     "cell_type": "code",
     "collapsed": false,
     "input": [
      "sizes = []\n",
      "labelsWithHvac = []\n",
      "hvacDistribution = []\n",
      "labelsWithPv = []\n",
      "pvDistribution = []\n",
      "labelsWithEv = []\n",
      "evDistribution = []\n",
      "labelsWithPool = []\n",
      "poolDistribution = []\n",
      "maxLabel = np.max(df['label'])\n",
      "for i in range(maxLabel):\n",
      "    cluster = df[df['label'] == i]\n",
      "    sizes.append(cluster.shape[0])\n",
      "    if np.sum(cluster['hvac']) > 0:\n",
      "        hvacDistribution.append(np.sum(cluster['hvac']))\n",
      "        labelsWithHvac.append(i)\n",
      "    if np.sum(cluster['pv']) > 0:\n",
      "        pvDistribution.append(np.sum(cluster['pv']))\n",
      "        labelsWithPv.append(i)\n",
      "    if np.sum(cluster['ev']) > 0:\n",
      "        evDistribution.append(np.sum(cluster['ev']))\n",
      "        labelsWithEv.append(i)\n",
      "    if np.sum(cluster['pool']) > 0:\n",
      "        poolDistribution.append(np.sum(cluster['pool']))\n",
      "        labelsWithPool.append(i)\n"
     ],
     "language": "python",
     "metadata": {},
     "outputs": [],
     "prompt_number": 214
    },
    {
     "cell_type": "code",
     "collapsed": false,
     "input": [
      "labels = range(maxLabel)\n",
      "plt.scatter(labels, sizes)\n",
      "#plt.scatter(labelsWithHvac, hvacDistribution, s = 100, c = 'orange', alpha = .5)\n",
      "#plt.scatter(labelsWithPv, pvDistribution, s = 100, c = 'r', alpha = .5)\n",
      "#plt.scatter(labelsWithEv, evDistribution, s = 100, c = 'g', alpha = .5)\n",
      "#plt.scatter(labelsWithPool, poolDistribution, s = 100, c = 'y', alpha = .5)\n",
      "plt.ylim([-1, 500])\n",
      "\n",
      "fig = plt.gcf()\n",
      "fig.set_size_inches(10, 10)\n",
      "plt.show()"
     ],
     "language": "python",
     "metadata": {},
     "outputs": [],
     "prompt_number": 110
    },
    {
     "cell_type": "code",
     "collapsed": false,
     "input": [
      "def plotCluster(label):\n",
      "    cluster = df[df['label'] == label][timeNames]\n",
      "    for row in cluster.iterrows():\n",
      "        plt.scatter(range(24), row[1])\n",
      "\n",
      "plotCluster(33)"
     ],
     "language": "python",
     "metadata": {},
     "outputs": [],
     "prompt_number": 62
    },
    {
     "cell_type": "code",
     "collapsed": false,
     "input": [
      "# critical valuefor two-tailed t-test with significance level = 0.05\n",
      "t_1 = 1.960\n",
      "t_2 = -1.960\n",
      "\n",
      "def calc_t_score(X1, X2, N1, N2):\n",
      "    S1 = X1 * (1 - X1)\n",
      "    S2 = X2 * (1 - X2)\n",
      "    T = (X1 - X2) / (math.sqrt(1.0 / N1 + 1.0 / N2) * math.sqrt(((N1 - 1) * S1 + (N2 - 1) * S2) / (N1 + N2 - 2)))\n",
      "    return T"
     ],
     "language": "python",
     "metadata": {},
     "outputs": [],
     "prompt_number": 215
    },
    {
     "cell_type": "code",
     "collapsed": false,
     "input": [
      "# T-tests for EVs    \n",
      "N1 = len(df[df['ev'] == 1])\n",
      "N2 = len(df) - N1\n",
      "rejected = 0\n",
      "for label in labelsWithEv:\n",
      "    cluster = df[df['label'] == label]\n",
      "    X1 = np.sum(cluster['ev']) / N1\n",
      "    X2 = (len(cluster) - np.sum(cluster['ev']) ) * 1.0 / N2\n",
      "    T = calc_t_score(X1, X2, N1, N2)\n",
      "    if T > t_1 or T < t_2:\n",
      "        rejected += 1\n",
      "print 'EV: ' + str(rejected * 100.0 / len(labelsWithEv)) + \"% rejected\" \n",
      "\n",
      "# T-tests for pools    \n",
      "N1 = len(df[df['pool'] == 1])\n",
      "N2 = len(df) - N1\n",
      "rejected = 0\n",
      "for label in labelsWithPool:\n",
      "    cluster = df[df['label'] == label]\n",
      "    X1 = np.sum(cluster['pool']) / N1\n",
      "    X2 = (len(cluster) - np.sum(cluster['pool'])) * 1.0 / N2\n",
      "    T = calc_t_score(X1, X2, N1, N2)\n",
      "    if T > t_1 or T < t_2:\n",
      "        rejected += 1\n",
      "print 'Pools: ' + str(rejected * 100.0 / len(labelsWithPool)) + \"% rejected\" \n",
      "\n",
      "# T-tests for hvac    \n",
      "N1 = len(df[df['hvac'] == 1])\n",
      "N2 = len(df) - N1\n",
      "rejected = 0\n",
      "for label in labelsWithHvac:\n",
      "    cluster = df[df['label'] == label]\n",
      "    X1 = np.sum(cluster['hvac']) / N1\n",
      "    X2 = (len(cluster) -  np.sum(cluster['hvac']))* 1.0 / N2\n",
      "    T = calc_t_score(X1, X2, N1, N2)\n",
      "    if T > t_1 or T < t_2:\n",
      "        rejected += 1\n",
      "print 'hvac: ' + str(rejected * 100.0 / len(labelsWithHvac)) + \"% rejected\" \n",
      "\n",
      "# T-tests for pv    \n",
      "N1 = len(df[df['pv'] == 1])\n",
      "N2 = len(df) - N1\n",
      "rejected = 0\n",
      "for label in labelsWithPv:\n",
      "    cluster = df[df['label'] == label]\n",
      "    X1 = np.sum(cluster['pv']) / N1\n",
      "    X2 = (len(cluster) - np.sum(cluster['pv'])) * 1.0 / N2\n",
      "    T = calc_t_score(X1, X2, N1, N2)\n",
      "    if T > t_1 or T < t_2:\n",
      "        rejected += 1\n",
      "print 'PV: ' + str(rejected * 100.0 / len(labelsWithPv)) + \"% rejected\" "
     ],
     "language": "python",
     "metadata": {},
     "outputs": []
    },
    {
     "cell_type": "code",
     "collapsed": false,
     "input": [
      "def test_hops(low, high):\n",
      "    # Find clusters\n",
      "    labels = []\n",
      "    maxLabel = np.max(df['label'])\n",
      "    for i in range(maxLabel):\n",
      "        cluster = df[df['label'] == i]\n",
      "        tot = 0\n",
      "        for j in range(low, high + 1):\n",
      "            tot += len(cluster[cluster['hops'] == j])\n",
      "        if tot > 0:\n",
      "            labels.append(i)\n",
      "    \n",
      "    # t-tests\n",
      "    N1 = 0\n",
      "    for i in range(low, high + 1):\n",
      "        N1 += len(df[df['hops'] == i])\n",
      "    N2 = len(df) - N1\n",
      "    rejected = 0\n",
      "    for label in labels:\n",
      "        cluster = df[df['label'] == label]\n",
      "        tot = 0\n",
      "        for i in range(low, high + 1):\n",
      "            tot += len(cluster[cluster['hops'] == i])\n",
      "        X1 = tot * 1.0 / N1\n",
      "        X2 = (len(cluster) - tot) * 1.0 / N2\n",
      "        T = calc_t_score(X1, X2, N1, N2)\n",
      "        if T > t_1 or T < t_2:\n",
      "            rejected += 1\n",
      "    print 'Hops ' + str(low) + ' to ' + str(high) + ': ' \\\n",
      "        + str(rejected * 100.0 / len(labels)) + \"% rejected\" \n",
      "            \n",
      "test_hops(5,14)\n",
      "test_hops(15,24)\n",
      "test_hops(25, 34)\n",
      "test_hops(35, 39)"
     ],
     "language": "python",
     "metadata": {},
     "outputs": []
    }
   ],
   "metadata": {}
  }
 ]
}